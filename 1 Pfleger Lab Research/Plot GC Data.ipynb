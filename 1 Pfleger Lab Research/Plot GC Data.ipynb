{
 "cells": [
  {
   "cell_type": "code",
   "execution_count": 1,
   "metadata": {
    "collapsed": true
   },
   "outputs": [],
   "source": [
    "import pandas as pd\n",
    "import numpy as np\n",
    "#from pandas import ExcelWriter\n",
    "#from pandas import ExcelFile\n",
    "#from scipy import stats\n",
    "import matplotlib.pyplot as plt\n",
    "import math\n",
    "import xlwt\n",
    "import openpyxl"
   ]
  },
  {
   "cell_type": "code",
   "execution_count": 2,
   "metadata": {},
   "outputs": [
    {
     "ename": "NameError",
     "evalue": "name 'GCgraph' is not defined",
     "output_type": "error",
     "traceback": [
      "\u001b[1;31m---------------------------------------------------------------------------\u001b[0m",
      "\u001b[1;31mNameError\u001b[0m                                 Traceback (most recent call last)",
      "\u001b[1;32m<ipython-input-2-9b0d3fa657ce>\u001b[0m in \u001b[0;36m<module>\u001b[1;34m()\u001b[0m\n\u001b[0;32m      1\u001b[0m \u001b[1;31m#call GCgraph w/ txt filename as parameter\u001b[0m\u001b[1;33m\u001b[0m\u001b[1;33m\u001b[0m\u001b[0m\n\u001b[1;32m----> 2\u001b[1;33m \u001b[0mGCgraph\u001b[0m\u001b[1;33m(\u001b[0m\u001b[1;34m'vhb-3.TXT'\u001b[0m\u001b[1;33m)\u001b[0m\u001b[1;33m\u001b[0m\u001b[0m\n\u001b[0m\u001b[0;32m      3\u001b[0m \u001b[0mplt\u001b[0m\u001b[1;33m.\u001b[0m\u001b[0mshow\u001b[0m\u001b[1;33m\u001b[0m\u001b[0m\n",
      "\u001b[1;31mNameError\u001b[0m: name 'GCgraph' is not defined"
     ]
    }
   ],
   "source": [
    "#call GCgraph w/ txt filename as parameter\n",
    "GCgraph('vhb-3.TXT')\n",
    "plt.show"
   ]
  },
  {
   "cell_type": "code",
   "execution_count": null,
   "metadata": {
    "collapsed": true
   },
   "outputs": [],
   "source": [
    "#parses through txt file. Finds chromatogram data and returns a plot\n",
    "def GCgraph (filename):\n",
    "    lookup = '[Chromatogram (Ch1)]'\n",
    "    start = findPosition(filename, '[Chromatogram (Ch1)]')\n",
    "    end = findPosition(filename, '[Chromatogram Additional (Ch1)]')\n",
    "    rawData = open(filename).readlines()\n",
    "\n",
    "    chromData = []\n",
    "    RTime = []\n",
    "    Intensity = []\n",
    "\n",
    "    for i in range(len(rawData)):\n",
    "        if i >= start + 5 and i <= end - 3:\n",
    "            clean = rawData[i].strip().split('\\t')\n",
    "            RTime.append(clean[0])\n",
    "            Intensity.append(clean[1])\n",
    "    \n",
    "    %matplotlib inline\n",
    "    graph = plt.plot(RTime, Intensity)\n",
    "    plt.xlim(1,16)\n",
    "    plt.ylim(100,120000)\n",
    "    plt.suptitle(\"GC Data: \" + filename)\n",
    "    plt.xlabel(\"min\")\n",
    "    plt.ylabel(\"intensity\")\n",
    "    return graph"
   ]
  },
  {
   "cell_type": "code",
   "execution_count": null,
   "metadata": {
    "collapsed": true
   },
   "outputs": [],
   "source": [
    "#finds line position of lookup in filename\n",
    "def findPosition (filename, lookup):\n",
    "    dataFile = open(filename, \"r\")\n",
    "    position = 0\n",
    "    dataAsNumberedList = enumerate(dataFile, 1)\n",
    "    for num, line in dataAsNumberedList:\n",
    "        if lookup in line:\n",
    "            position = num\n",
    "    return position\n"
   ]
  },
  {
   "cell_type": "code",
   "execution_count": null,
   "metadata": {
    "collapsed": true
   },
   "outputs": [],
   "source": []
  }
 ],
 "metadata": {
  "celltoolbar": "Raw Cell Format",
  "kernelspec": {
   "display_name": "COBRA",
   "language": "python",
   "name": "cobra"
  },
  "language_info": {
   "codemirror_mode": {
    "name": "ipython",
    "version": 3
   },
   "file_extension": ".py",
   "mimetype": "text/x-python",
   "name": "python",
   "nbconvert_exporter": "python",
   "pygments_lexer": "ipython3",
   "version": "3.6.1"
  }
 },
 "nbformat": 4,
 "nbformat_minor": 2
}
