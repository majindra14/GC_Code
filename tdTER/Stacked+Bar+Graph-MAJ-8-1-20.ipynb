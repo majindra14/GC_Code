{
 "cells": [
  {
   "cell_type": "code",
   "execution_count": 1,
   "metadata": {
    "collapsed": true
   },
   "outputs": [],
   "source": [
    "import pandas as pd\n",
    "import numpy as np\n",
    "from numpy import array\n",
    "import matplotlib.pyplot as plt\n",
    "import math\n",
    "import openpyxl\n",
    "from statistics import * "
   ]
  },
  {
   "cell_type": "code",
   "execution_count": 11,
   "metadata": {
    "collapsed": true
   },
   "outputs": [],
   "source": [
    "#returns clean list of corrected concentrations from an excel file\n",
    "def getCorrectedConcentration (file, sheet):\n",
    "    wb = openpyxl.load_workbook(file)\n",
    "    df = pd.read_excel(file, sheetname=sheet)\n",
    "    #print(df)\n",
    "    correctedConc = []\n",
    "    samples = []\n",
    "    for i in df.index:\n",
    "        conc = df['Corrected Concentration'][i]\n",
    "        samp = df[0][i]\n",
    "        if isinstance(conc, float) and not math.isnan(conc): #math.isnan returns True if conc is nan\n",
    "            correctedConc.append(conc)\n",
    "        if samp == 'Peak#':\n",
    "            sample_name = df[0][i - 1]\n",
    "            clean_sample_name = sample_name[0:sample_name.index('-')]\n",
    "            if clean_sample_name not in samples: samples.append(clean_sample_name)\n",
    "    return [correctedConc, list(samples)]"
   ]
  },
  {
   "cell_type": "code",
   "execution_count": 12,
   "metadata": {},
   "outputs": [
    {
     "name": "stdout",
     "output_type": "stream",
     "text": [
      "Samples in Order: ['WT', 'Neg', 'I287A']\n"
     ]
    }
   ],
   "source": [
    "#User enters data here\n",
    "file = 'GCData-tdTER_mutants w Conc Data.xlsx' #file name\n",
    "sheet = 'Corrected Concentration' #sheet with corrected concentration data\n",
    "samples = getCorrectedConcentration(file, sheet)[1] #name of samples as they appear in the excel sheet\n",
    "print('Samples in Order:', samples) #Check sample names\n",
    "desired_order = ['I287A', 'WT', 'Neg'] #desired order of columns in bar chart\n",
    "numVials = [3, 3, 3] ### USER INPUT number of vials per sample in order of appearance \n",
    "\n",
    "# Check to see if lists samples and numVials are the same length\n",
    "if len(samples) != len(numVials):\n",
    "    raise Exception('Length of samples and numVials lists must be the same, hoe!')\n",
    "\n",
    "chains = ['C4','C6','C8','C10','C12','C14','C16'] #chain lenghts\n",
    "title = 'TdTER in vivo screening' #graph title\n",
    "ylabel = 'mg/L FaOH' #y axis label\n",
    "\n",
    "plt.rcParams[\"font.family\"] = \"Times New Roman\"\n"
   ]
  },
  {
   "cell_type": "code",
   "execution_count": 13,
   "metadata": {
    "collapsed": true
   },
   "outputs": [],
   "source": [
    "#this function arranges data into an appropriate matrix. correctedConc should be clean with no empty spaces\n",
    "def dataArrange(correctedConc, numTotSamples):\n",
    "    numChains = int(len(correctedConc)/numTotSamples)\n",
    "    correctedConc = np.array(correctedConc)\n",
    "    rearranged = np.zeros((numTotSamples, numChains))\n",
    "    iterator = 0;\n",
    "    for sample in range(0,numTotSamples):\n",
    "        for chain in range(0, numChains):\n",
    "            rearranged[sample, chain] = correctedConc[iterator]\n",
    "            iterator = iterator + 1 \n",
    "    return rearranged.T, rearranged.T.shape"
   ]
  },
  {
   "cell_type": "code",
   "execution_count": 14,
   "metadata": {
    "collapsed": true
   },
   "outputs": [],
   "source": [
    "#Calculates average and standard deviation of data\n",
    "def calcStats(data):\n",
    "    stats = [mean(data), stdev(data)]\n",
    "    return stats"
   ]
  },
  {
   "cell_type": "code",
   "execution_count": 15,
   "metadata": {
    "collapsed": true
   },
   "outputs": [],
   "source": [
    "#Returns average and standard deviation data in the form of matricies\n",
    "def dataParse(rearranged, samples, numVials):\n",
    "    #rearranged - the rearranged corrected concentration data table with each row corresponding to a chain length\n",
    "        #and each column corresponding to a sample vial i.e.\n",
    "        #\n",
    "        #         H204A-1  H204A-2  H204A-3    WT-1    WT-2    WT-3\n",
    "        #   C8 [[    #        #        #        #        #        #    ],\n",
    "        #  C10  [    #        #        #        #        #        #    ],\n",
    "        #  C12  [    #        #        #        #        #        #    ],\n",
    "        #  C14  [    #        #        #        #        #        #    ],\n",
    "        #  C16  [    #        #        #        #        #        #    ]]\n",
    "        #\n",
    "    #samples - list of each type of sample i.e. [H204A, WT]\n",
    "    #numVials - number of vials per sample in order of appearance i.e. [3, 3]\n",
    "    \n",
    "    numChains = int(len(rearranged[0])) #number of chain lengths testing for\n",
    "    avgMat = np.zeros((numChains, len(samples))) #matrix to store average data\n",
    "    stdevMat = np.zeros((numChains, len(samples))) #matrix to store stdev data\n",
    "\n",
    "    row_number = range(0,len(chains))\n",
    "    column_number = range(0,len(samples))\n",
    "\n",
    "    for r in row_number:\n",
    "        #print(rearranged[0][r])\n",
    "        for c in column_number:\n",
    "            avgMat[r,c] = np.mean(rearranged[0][r][c*3:(c*3)+2]) # rearranged is an array which is set up such that each row contains the concentration for a given chain length for all samples\n",
    "            stdevMat[r,c] = np.std(rearranged[0][r][c*3:(c*3)+2])\n",
    "        \n",
    "    return avgMat,stdevMat"
   ]
  },
  {
   "cell_type": "code",
   "execution_count": 16,
   "metadata": {
    "collapsed": true
   },
   "outputs": [],
   "source": [
    "#Creates stacked bar chart of chain length distributions\n",
    "def createBarChart (file, sheet, samples, desired_order, numVials, chains, title, ylabel):\n",
    "    global rearranged\n",
    "    global df_avg\n",
    "    global df_std\n",
    "    #get concentration data from excel sheet\n",
    "    concData = getCorrectedConcentration(file,sheet)[0]\n",
    "    #arrange data into more managable rows and columns\n",
    "    rearranged = dataArrange(concData, sum(numVials))\n",
    "    \n",
    "    #get mean and standard deviation data\n",
    "    avgMat, stdevMat = dataParse(rearranged, samples, numVials)\n",
    "    df_avg = pd.DataFrame(avgMat, columns=samples)\n",
    "    df_std = pd.DataFrame(stdevMat, columns=samples)\n",
    "    \n",
    "    #edits column order  01/14/2021\n",
    "    df_avg = df_avg[desired_order]\n",
    "    df_std = df_std[desired_order]\n",
    "    \n",
    "    #plot data\n",
    "    %matplotlib inline\n",
    "    N = len(samples)\n",
    "    ind = np.arange(N)\n",
    "    width = 0.35\n",
    "    firstMean = df_avg.loc[0,:]\n",
    "    firstStd = df_std.loc[0,:]\n",
    "    fistplot = plt.bar(ind, firstMean, width, yerr=firstStd, label=chains[0])\n",
    "    sumMeans = [0]*len(samples)\n",
    "    for chain in range(1,len(chains)):\n",
    "        chainMean = df_avg.loc[chain,:]\n",
    "        prevChainMean = df_avg.loc[chain-1,:]\n",
    "        for i in range(len(sumMeans)):\n",
    "            sumMeans[i] = sumMeans[i] + prevChainMean[i]\n",
    "        chainStd = df_std.loc[chain,:]\n",
    "        plt.bar(ind, chainMean, width, bottom=sumMeans, yerr=chainStd, label=chains[chain])\n",
    "    plt.xticks(ind,desired_order)\n",
    "    plt.legend()\n",
    "    plt.suptitle(title)\n",
    "    plt.ylabel(ylabel)\n",
    "    plt.show"
   ]
  },
  {
   "cell_type": "code",
   "execution_count": 17,
   "metadata": {},
   "outputs": [
    {
     "data": {
      "image/png": "[encoded data removed]",
      "text/plain": [
       "<matplotlib.figure.Figure at 0x1e55f5aff60>"
      ]
     },
     "metadata": {},
     "output_type": "display_data"
    }
   ],
   "source": [
    "createBarChart(file, sheet, samples, desired_order, numVials, chains, title, ylabel)"
   ]
  },
  {
   "cell_type": "code",
   "execution_count": 31,
   "metadata": {},
   "outputs": [
    {
     "data": {
      "text/plain": [
       "array([[  2.33644924e-14,   2.48663356e-14,   2.33461693e-14,\n",
       "          2.32381634e-14,   2.42126412e-14,   2.46254310e-14,\n",
       "          2.33012838e-14,   2.46628465e-14,   2.31885140e-14],\n",
       "       [  1.51439886e+00,   1.50445208e+00,   1.36055453e+00,\n",
       "          1.37163638e-14,   1.42694018e-14,   1.45200101e-14,\n",
       "          5.71981053e-03,   1.45404865e-14,   1.36793124e-14],\n",
       "       [  1.50149998e+02,   1.36010879e+02,   1.38681766e+02,\n",
       "          5.56597494e-01,   3.58324449e-01,   1.55201703e-12,\n",
       "          1.64022663e+00,   4.69733555e-01,   1.56224892e-12],\n",
       "       [  4.43873961e+02,   3.90844998e+02,   4.17302965e+02,\n",
       "          1.48740016e-12,   1.24942265e-12,   1.23360888e-12,\n",
       "          1.67783461e-12,   1.33116648e-12,   1.29443285e-12],\n",
       "       [  5.26470853e+02,   4.44327191e+02,   5.14089783e+02,\n",
       "          6.97595748e-13,   6.05821700e-13,   5.86094115e-13,\n",
       "          8.85145747e+00,   6.45803978e-13,   6.20485737e-13],\n",
       "       [  3.91361900e+02,   7.55386191e-13,   3.68918498e+02,\n",
       "          6.49029197e-13,   6.02028180e-13,   5.54930774e-13,\n",
       "          1.27427215e+00,   6.32816638e-13,   6.03872271e-13],\n",
       "       [  8.03755256e+01,   6.21943571e+01,   7.62078008e+01,\n",
       "          4.56974686e-01,   3.85559221e-01,   3.83893958e-01,\n",
       "          2.04119931e+01,   4.31590104e-01,   3.71002463e-01]])"
      ]
     },
     "execution_count": 31,
     "metadata": {},
     "output_type": "execute_result"
    }
   ],
   "source": [
    "rearranged[0]"
   ]
  },
  {
   "cell_type": "code",
   "execution_count": 32,
   "metadata": {},
   "outputs": [
    {
     "data": {
      "text/html": [
       "<div>\n",
       "<style>\n",
       "    .dataframe thead tr:only-child th {\n",
       "        text-align: right;\n",
       "    }\n",
       "\n",
       "    .dataframe thead th {\n",
       "        text-align: left;\n",
       "    }\n",
       "\n",
       "    .dataframe tbody tr th {\n",
       "        vertical-align: top;\n",
       "    }\n",
       "</style>\n",
       "<table border=\"1\" class=\"dataframe\">\n",
       "  <thead>\n",
       "    <tr style=\"text-align: right;\">\n",
       "      <th></th>\n",
       "      <th>WT</th>\n",
       "      <th>Neg</th>\n",
       "      <th>I287A</th>\n",
       "    </tr>\n",
       "  </thead>\n",
       "  <tbody>\n",
       "    <tr>\n",
       "      <th>0</th>\n",
       "      <td>2.411541e-14</td>\n",
       "      <td>2.372540e-14</td>\n",
       "      <td>2.398207e-14</td>\n",
       "    </tr>\n",
       "    <tr>\n",
       "      <th>1</th>\n",
       "      <td>1.509425e+00</td>\n",
       "      <td>1.399288e-14</td>\n",
       "      <td>2.859905e-03</td>\n",
       "    </tr>\n",
       "    <tr>\n",
       "      <th>2</th>\n",
       "      <td>1.430804e+02</td>\n",
       "      <td>4.574610e-01</td>\n",
       "      <td>1.054980e+00</td>\n",
       "    </tr>\n",
       "    <tr>\n",
       "      <th>3</th>\n",
       "      <td>4.173595e+02</td>\n",
       "      <td>1.368411e-12</td>\n",
       "      <td>1.504501e-12</td>\n",
       "    </tr>\n",
       "    <tr>\n",
       "      <th>4</th>\n",
       "      <td>4.853990e+02</td>\n",
       "      <td>6.517087e-13</td>\n",
       "      <td>4.425729e+00</td>\n",
       "    </tr>\n",
       "    <tr>\n",
       "      <th>5</th>\n",
       "      <td>1.956810e+02</td>\n",
       "      <td>6.255287e-13</td>\n",
       "      <td>6.371361e-01</td>\n",
       "    </tr>\n",
       "    <tr>\n",
       "      <th>6</th>\n",
       "      <td>7.128494e+01</td>\n",
       "      <td>4.212670e-01</td>\n",
       "      <td>1.042179e+01</td>\n",
       "    </tr>\n",
       "  </tbody>\n",
       "</table>\n",
       "</div>"
      ],
      "text/plain": [
       "             WT           Neg         I287A\n",
       "0  2.411541e-14  2.372540e-14  2.398207e-14\n",
       "1  1.509425e+00  1.399288e-14  2.859905e-03\n",
       "2  1.430804e+02  4.574610e-01  1.054980e+00\n",
       "3  4.173595e+02  1.368411e-12  1.504501e-12\n",
       "4  4.853990e+02  6.517087e-13  4.425729e+00\n",
       "5  1.956810e+02  6.255287e-13  6.371361e-01\n",
       "6  7.128494e+01  4.212670e-01  1.042179e+01"
      ]
     },
     "execution_count": 32,
     "metadata": {},
     "output_type": "execute_result"
    }
   ],
   "source": [
    "df_avg"
   ]
  },
  {
   "cell_type": "code",
   "execution_count": 33,
   "metadata": {},
   "outputs": [
    {
     "data": {
      "text/html": [
       "<div>\n",
       "<style>\n",
       "    .dataframe thead tr:only-child th {\n",
       "        text-align: right;\n",
       "    }\n",
       "\n",
       "    .dataframe thead th {\n",
       "        text-align: left;\n",
       "    }\n",
       "\n",
       "    .dataframe tbody tr th {\n",
       "        vertical-align: top;\n",
       "    }\n",
       "</style>\n",
       "<table border=\"1\" class=\"dataframe\">\n",
       "  <thead>\n",
       "    <tr style=\"text-align: right;\">\n",
       "      <th></th>\n",
       "      <th>WT</th>\n",
       "      <th>Neg</th>\n",
       "      <th>I287A</th>\n",
       "    </tr>\n",
       "  </thead>\n",
       "  <tbody>\n",
       "    <tr>\n",
       "      <th>0</th>\n",
       "      <td>7.509216e-16</td>\n",
       "      <td>4.872389e-16</td>\n",
       "      <td>6.807813e-16</td>\n",
       "    </tr>\n",
       "    <tr>\n",
       "      <th>1</th>\n",
       "      <td>4.973389e-03</td>\n",
       "      <td>2.765190e-16</td>\n",
       "      <td>2.859905e-03</td>\n",
       "    </tr>\n",
       "    <tr>\n",
       "      <th>2</th>\n",
       "      <td>7.069560e+00</td>\n",
       "      <td>9.913652e-02</td>\n",
       "      <td>5.852465e-01</td>\n",
       "    </tr>\n",
       "    <tr>\n",
       "      <th>3</th>\n",
       "      <td>2.651448e+01</td>\n",
       "      <td>1.189888e-13</td>\n",
       "      <td>1.733341e-13</td>\n",
       "    </tr>\n",
       "    <tr>\n",
       "      <th>4</th>\n",
       "      <td>4.107183e+01</td>\n",
       "      <td>4.588702e-14</td>\n",
       "      <td>4.425729e+00</td>\n",
       "    </tr>\n",
       "    <tr>\n",
       "      <th>5</th>\n",
       "      <td>1.956810e+02</td>\n",
       "      <td>2.350051e-14</td>\n",
       "      <td>6.371361e-01</td>\n",
       "    </tr>\n",
       "    <tr>\n",
       "      <th>6</th>\n",
       "      <td>9.090584e+00</td>\n",
       "      <td>3.570773e-02</td>\n",
       "      <td>9.990201e+00</td>\n",
       "    </tr>\n",
       "  </tbody>\n",
       "</table>\n",
       "</div>"
      ],
      "text/plain": [
       "             WT           Neg         I287A\n",
       "0  7.509216e-16  4.872389e-16  6.807813e-16\n",
       "1  4.973389e-03  2.765190e-16  2.859905e-03\n",
       "2  7.069560e+00  9.913652e-02  5.852465e-01\n",
       "3  2.651448e+01  1.189888e-13  1.733341e-13\n",
       "4  4.107183e+01  4.588702e-14  4.425729e+00\n",
       "5  1.956810e+02  2.350051e-14  6.371361e-01\n",
       "6  9.090584e+00  3.570773e-02  9.990201e+00"
      ]
     },
     "execution_count": 33,
     "metadata": {},
     "output_type": "execute_result"
    }
   ],
   "source": [
    "df_std"
   ]
  },
  {
   "cell_type": "code",
   "execution_count": null,
   "metadata": {
    "collapsed": true
   },
   "outputs": [],
   "source": []
  }
 ],
 "metadata": {
  "kernelspec": {
   "display_name": "COBRA",
   "language": "python",
   "name": "cobra"
  },
  "language_info": {
   "codemirror_mode": {
    "name": "ipython",
    "version": 3
   },
   "file_extension": ".py",
   "mimetype": "text/x-python",
   "name": "python",
   "nbconvert_exporter": "python",
   "pygments_lexer": "ipython3",
   "version": "3.6.1"
  }
 },
 "nbformat": 4,
 "nbformat_minor": 2
}
