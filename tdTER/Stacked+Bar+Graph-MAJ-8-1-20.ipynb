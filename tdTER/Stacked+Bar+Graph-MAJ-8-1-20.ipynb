{
 "cells": [
  {
   "cell_type": "code",
   "execution_count": 25,
   "metadata": {},
   "outputs": [],
   "source": [
    "import pandas as pd\n",
    "import numpy as np\n",
    "from numpy import array\n",
    "import matplotlib.pyplot as plt\n",
    "import math\n",
    "import openpyxl\n",
    "from statistics import * "
   ]
  },
  {
   "cell_type": "code",
   "execution_count": 26,
   "metadata": {},
   "outputs": [],
   "source": [
    "#User enters data here\n",
    "file = 'GCData-tdTER_mutants w Conc Data.xlsx' #file name\n",
    "sheet = 'Corrected Concentration' #sheet with corrected concentration data\n",
    "samples = ['WT','Neg','I287A'] #name of samples ### Do these have to be in order?\n",
    "numVials = [3, 3, 3] ### USER INPUT number of vials per sample in order of appearance \n",
    "\n",
    "# Check to see if lists samples and numVials are the same length\n",
    "if len(samples) != len(numVials):\n",
    "    raise Exception('Length of samples and numVials lists must be the same, hoe!')\n",
    "\n",
    "chains = ['C4','C6','C8','C10','C12','C14','C16'] #chain lenghts\n",
    "title = 'TdTER in vivo screening' #graph title\n",
    "ylabel = 'mg/L FaOH' #y axis label\n",
    "\n",
    "plt.rcParams[\"font.family\"] = \"Times New Roman\"\n",
    "\n"
   ]
  },
  {
   "cell_type": "code",
   "execution_count": 27,
   "metadata": {},
   "outputs": [],
   "source": [
    "#this function arranges data into an appropriate matrix. correctedConc should be clean with no empty spaces\n",
    "def dataArrange(correctedConc, numTotSamples):\n",
    "    numChains = int(len(correctedConc)/numTotSamples)\n",
    "    correctedConc = np.array(correctedConc)\n",
    "    rearranged = np.zeros((numTotSamples, numChains))\n",
    "    iterator = 0;\n",
    "    for sample in range(0,numTotSamples):\n",
    "        for chain in range(0, numChains):\n",
    "            rearranged[sample, chain] = correctedConc[iterator]\n",
    "            iterator = iterator + 1 \n",
    "    return rearranged.T, rearranged.T.shape"
   ]
  },
  {
   "cell_type": "code",
   "execution_count": 28,
   "metadata": {},
   "outputs": [],
   "source": [
    "#Calculates average and standard deviation of data\n",
    "def calcStats(data):\n",
    "    stats = [mean(data), stdev(data)]\n",
    "    return stats"
   ]
  },
  {
   "cell_type": "code",
   "execution_count": 29,
   "metadata": {},
   "outputs": [],
   "source": [
    "#Returns average and standard deviation data in the form of matricies\n",
    "def dataParse(rearranged, samples, numVials):\n",
    "    #rearranged - the rearranged corrected concentration data table with each row corresponding to a chain length\n",
    "        #and each column corresponding to a sample vial i.e.\n",
    "        #\n",
    "        #         H204A-1  H204A-2  H204A-3    WT-1    WT-2    WT-3\n",
    "        #   C8 [[    #        #        #        #        #        #    ],\n",
    "        #  C10  [    #        #        #        #        #        #    ],\n",
    "        #  C12  [    #        #        #        #        #        #    ],\n",
    "        #  C14  [    #        #        #        #        #        #    ],\n",
    "        #  C16  [    #        #        #        #        #        #    ]]\n",
    "        #\n",
    "    #samples - list of each type of sample i.e. [H204A, WT]\n",
    "    #numVials - number of vials per sample in order of appearance i.e. [3, 3]\n",
    "    \n",
    "    numChains = int(len(rearranged[0])) #number of chain lengths testing for\n",
    "    avgMat = np.zeros((numChains, len(samples))) #matrix to store average data\n",
    "    stdevMat = np.zeros((numChains, len(samples))) #matrix to store stdev data\n",
    "\n",
    "    row_number = range(0,len(chains))\n",
    "    column_number = range(0,len(samples))\n",
    "\n",
    "    for r in row_number:\n",
    "        #print(rearranged[0][r])\n",
    "        for c in column_number:\n",
    "            avgMat[r,c] = np.mean(rearranged[0][r][c*3:(c*3)+2]) # rearranged is an array which is set up such that each row contains the concentration for a given chain length for all samples\n",
    "            stdevMat[r,c] = np.std(rearranged[0][r][c*3:(c*3)+2])\n",
    "        \n",
    "    return avgMat,stdevMat"
   ]
  },
  {
   "cell_type": "code",
   "execution_count": 30,
   "metadata": {},
   "outputs": [],
   "source": [
    "#Creates stacked bar chart of chain length distributions\n",
    "def createBarChart (file, sheet, samples, numVials, chains, title, ylabel):\n",
    "    #get concentration data from excel sheet\n",
    "    concData = getCorrectedConcentration(file,sheet)\n",
    "    #arrange data into more managable rows and columns\n",
    "    rearranged = dataArrange(concData, sum(numVials))\n",
    "    \n",
    "    #get mean and standard deviation data\n",
    "    avgMat, stdevMat = dataParse(rearranged, samples, numVials)\n",
    "    df_avg = pd.DataFrame(avgMat, columns=samples)\n",
    "    df_std = pd.DataFrame(stdevMat, columns=samples)\n",
    "\n",
    "    #plot data\n",
    "    %matplotlib inline\n",
    "    N = len(samples)\n",
    "    ind = np.arange(N)\n",
    "    width = 0.35\n",
    "    firstMean = df_avg.loc[0,:]\n",
    "    firstStd = df_std.loc[0,:]\n",
    "    fistplot = plt.bar(ind, firstMean, width, yerr=firstStd, label=chains[0])\n",
    "    sumMeans = [0]*len(samples)\n",
    "    for chain in range(1,len(chains)):\n",
    "        chainMean = df_avg.loc[chain,:]\n",
    "        prevChainMean = df_avg.loc[chain-1,:]\n",
    "        for i in range(len(sumMeans)):\n",
    "            sumMeans[i] = sumMeans[i] + prevChainMean[i]\n",
    "        chainStd = df_std.loc[chain,:]\n",
    "        plt.bar(ind, chainMean, width, bottom=sumMeans, yerr=chainStd, label=chains[chain])\n",
    "    plt.xticks(ind,samples)\n",
    "    plt.legend()\n",
    "    plt.suptitle(title)\n",
    "    plt.ylabel(ylabel)\n",
    "    plt.show"
   ]
  },
  {
   "cell_type": "code",
   "execution_count": 31,
   "metadata": {},
   "outputs": [],
   "source": [
    "#returns clean list of corrected concentrations from an excel file\n",
    "def getCorrectedConcentration (file, sheet):\n",
    "    wb = openpyxl.load_workbook(file)\n",
    "    df = pd.read_excel(file, sheet_name=sheet)\n",
    "    #print(df)\n",
    "    correctedConc = []\n",
    "    for i in df.index:\n",
    "        conc = df['Corrected Concentration'][i]\n",
    "        if isinstance(conc, float) and not math.isnan(conc): #math.isnan returns True if conc is nan\n",
    "            correctedConc.append(conc)\n",
    "            \n",
    "            #print(correctedConc)\n",
    "    return correctedConc"
   ]
  },
  {
   "cell_type": "code",
   "execution_count": 32,
   "metadata": {},
   "outputs": [
    {
     "data": {
      "image/png": "[encoded data removed]",
      "text/plain": [
       "<Figure size 432x288 with 1 Axes>"
      ]
     },
     "metadata": {
      "needs_background": "light"
     },
     "output_type": "display_data"
    }
   ],
   "source": [
    "createBarChart(file, sheet, samples, numVials, chains, title, ylabel)"
   ]
  },
  {
   "cell_type": "code",
   "execution_count": 358,
   "metadata": {},
   "outputs": [
    {
     "data": {
      "text/plain": [
       "array([[   1.67049171,    1.53894258,    4.15420045,  112.83577184,\n",
       "         107.19640796,  110.67282071,   15.85106094,   23.61141136,\n",
       "          25.50998567,    9.11570333,    8.83495209,    9.2003191 ],\n",
       "       [   0.84959623,    0.84954965,    0.87813229,   20.59594407,\n",
       "          15.58935111,   18.81021535,    6.71367671,   13.21366716,\n",
       "          13.18094301,    8.57661202,    8.62765435,    9.22487511],\n",
       "       [   1.39151337,    1.24843537,    1.68249437,  106.68924054,\n",
       "          71.63576289,   91.55541314,  350.54535531,  358.31358574,\n",
       "         323.67174791,  430.39610461,  412.98248274,  432.88707739],\n",
       "       [   2.57723174,    0.        ,    2.16589698,  119.98241821,\n",
       "          75.29643629,  100.052131  ,   19.87433762,    0.52410207,\n",
       "         339.52465146,   23.91321352,    3.68128396,   21.61274348],\n",
       "       [   6.94144444,    7.48636412,   12.58737466,   22.06740554,\n",
       "          19.1557307 ,   33.27648634,    7.92029316,    5.01143647,\n",
       "           4.21639661,    3.54451291,    2.60007585,    3.20391847]])"
      ]
     },
     "execution_count": 358,
     "metadata": {},
     "output_type": "execute_result"
    }
   ],
   "source": [
    "rearranged[0]"
   ]
  },
  {
   "cell_type": "code",
   "execution_count": null,
   "metadata": {},
   "outputs": [],
   "source": []
  }
 ],
 "metadata": {
  "kernelspec": {
   "display_name": "Python [conda env:cameo3.4]",
   "language": "python",
   "name": "conda-env-cameo3.4-py"
  },
  "language_info": {
   "codemirror_mode": {
    "name": "ipython",
    "version": 3
   },
   "file_extension": ".py",
   "mimetype": "text/x-python",
   "name": "python",
   "nbconvert_exporter": "python",
   "pygments_lexer": "ipython3",
   "version": "3.6.9"
  }
 },
 "nbformat": 4,
 "nbformat_minor": 2
}
