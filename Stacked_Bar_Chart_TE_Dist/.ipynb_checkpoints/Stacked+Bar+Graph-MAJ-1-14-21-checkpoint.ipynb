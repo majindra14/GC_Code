{
 "cells": [
  {
   "cell_type": "code",
   "execution_count": 65,
   "metadata": {
    "collapsed": true
   },
   "outputs": [],
   "source": [
    "import pandas as pd\n",
    "import numpy as np\n",
    "from numpy import array\n",
    "import matplotlib.pyplot as plt\n",
    "import matplotlib.pylab as pl\n",
    "import math\n",
    "import openpyxl\n",
    "from statistics import * \n",
    "from IPython.display import display"
   ]
  },
  {
   "cell_type": "code",
   "execution_count": 66,
   "metadata": {
    "collapsed": true,
    "slideshow": {
     "slide_type": "-"
    }
   },
   "outputs": [],
   "source": [
    "#returns clean list of corrected concentrations from an excel file (1/14/21 now returns sample names)\n",
    "def getCorrectedConcentration (file, sheet):\n",
    "    wb = openpyxl.load_workbook(file)\n",
    "    df = pd.read_excel(file, sheetname=sheet)\n",
    "    correctedConc = []\n",
    "    title = df[0][0].split('-')[0]\n",
    "    samples = []\n",
    "    for i in df.index:\n",
    "        conc = df['Corrected Concentration'][i]\n",
    "        sample = df[0][i] if isinstance(df[0][i], float) or isinstance(df[0][i], int) else df[0][i].split('-')[0]\n",
    "        if isinstance(sample, str) and not sample == 'Peak#':\n",
    "            title = sample\n",
    "        if title in samples and isinstance(conc, float) and not math.isnan(conc): #math.isnan returns True if conc is nan\n",
    "            correctedConc.append(conc)\n",
    "        \n",
    "        ### NEW!! (01/14/21) Gets and returns sample names as second output of function\n",
    "        samp = df[0][i]\n",
    "        if samp == 'Peak#':\n",
    "            sample_name = df[0][i - 1]\n",
    "            clean_sample_name = sample_name[0:sample_name.index('-')]\n",
    "            if clean_sample_name not in samples: samples.append(clean_sample_name)\n",
    "    return [correctedConc, samples]"
   ]
  },
  {
   "cell_type": "markdown",
   "metadata": {},
   "source": [
    "### User data entry in cell below (formatting options moved further down)"
   ]
  },
  {
   "cell_type": "code",
   "execution_count": 67,
   "metadata": {},
   "outputs": [
    {
     "name": "stdout",
     "output_type": "stream",
     "text": [
      "Samples in order: ['WT', 'KCM272', 'T137A']\n"
     ]
    }
   ],
   "source": [
    "file = 'C14.xlsx' #file name\n",
    "\n",
    "#Should be the same from batch to batch\n",
    "sheet = 'Corrected Concentration' #sheet with corrected concentration data\n",
    "\n",
    "### Graph data ###\n",
    "samples = ['WT','KCM272','T137A'] #name of samples (Can delete this line since line 8 does this for you)\n",
    "samples = getCorrectedConcentration(file, sheet)[1]\n",
    "print('Samples in order:', samples) #Check sample names\n",
    "desired_order = ['WT', 'T137A', 'KCM272'] #desired order of columns in bar chart, otherwise, set equal to 'samples'\n",
    "numVials = [3, 3, 3] ### USER INPUT number of vials per sample in order of appearance \n",
    "chains = ['C8','C10','C12_1','C12','C14_1','C14','C16_1','C16','C18_1','C18'] #chain lengths\n",
    "\n",
    "### Graph text options ###\n",
    "title = 'BTE Mutants' #graph title\n",
    "ylabel = 'mg/L FAME' #y axis label\n",
    "\n",
    "#plt.rcParams[\"font.family\"] = \"Times New Roman\"\n",
    "### Python Default\n",
    "plt.rcParams[\"font.family\"] = 'Arial'\n",
    "\n",
    "# Check to see if lists samples and numVials are the same length\n",
    "if len(samples) != len(numVials):\n",
    "    raise Exception('Length of samples and numVials lists must be the same, hoe!') #love it\n",
    "    \n",
    "#avgMat = 0"
   ]
  },
  {
   "cell_type": "code",
   "execution_count": 68,
   "metadata": {
    "collapsed": true
   },
   "outputs": [],
   "source": [
    "#this function arranges data into an appropriate matrix. correctedConc should be clean with no empty spaces\n",
    "def dataArrange(correctedConc, numTotSamples):\n",
    "    numChains = int(len(correctedConc)/numTotSamples)\n",
    "    #print(numTotSamples)\n",
    "    #print(numChains)\n",
    "    correctedConc = np.array(correctedConc)\n",
    "    rearranged = np.zeros((numTotSamples, numChains))\n",
    "    iterator = 0;\n",
    "    for sample in range(0,numTotSamples):\n",
    "        for chain in range(0, numChains):\n",
    "            rearranged[sample, chain] = correctedConc[iterator]\n",
    "            iterator = iterator + 1 \n",
    "    return rearranged.T, rearranged.T.shape"
   ]
  },
  {
   "cell_type": "code",
   "execution_count": 69,
   "metadata": {
    "collapsed": true
   },
   "outputs": [],
   "source": [
    "#Calculates average and standard deviation of data\n",
    "def calcStats(data):\n",
    "    stats = [mean(data), stdev(data)]\n",
    "    return stats"
   ]
  },
  {
   "cell_type": "code",
   "execution_count": 70,
   "metadata": {
    "collapsed": true
   },
   "outputs": [],
   "source": [
    "#Returns average and standard deviation data in the form of matricies\n",
    "def dataParse(rearranged, samples, numVials):\n",
    "    \n",
    "    #rearranged - the rearranged corrected concentration data table with each row corresponding to a chain length\n",
    "        #and each column corresponding to a sample vial i.e.\n",
    "        #\n",
    "        #         H204A-1  H204A-2  H204A-3    WT-1    WT-2    WT-3\n",
    "        #   C8 [[    #        #        #        #        #        #    ],\n",
    "        #  C10  [    #        #        #        #        #        #    ],\n",
    "        #  C12  [    #        #        #        #        #        #    ],\n",
    "        #  C14  [    #        #        #        #        #        #    ],\n",
    "        #  C16  [    #        #        #        #        #        #    ]]\n",
    "        #\n",
    "    #samples - list of each type of sample i.e. [H204A, WT]\n",
    "    #numVials - number of vials per sample in order of appearance i.e. [3, 3]\n",
    "    \n",
    "    numChains = int(len(rearranged[0])) #number of chain lengths testing for\n",
    "    avgMat = np.zeros((numChains, len(samples))) #matrix to store average data\n",
    "    stdevMat = np.zeros((numChains, len(samples))) #matrix to store stdev data\n",
    "\n",
    "    row_number = range(0,len(chains))\n",
    "    column_number = range(0,len(samples))\n",
    "\n",
    "    for r in row_number:\n",
    "        #print(rearranged[0][r])\n",
    "        for c in column_number:\n",
    "             # rearranged is an array which is set up such that each row contains the concentration for a given chain length\n",
    "             # for all samples\n",
    "            avgMat[r,c] = np.mean(rearranged[0][r][c*numVials[c]:(c*numVials[c])+2])\n",
    "            stdevMat[r,c] = np.std(rearranged[0][r][c*numVials[c]:(c*numVials[c])+2])\n",
    "        \n",
    "    return avgMat,stdevMat"
   ]
  },
  {
   "cell_type": "code",
   "execution_count": 73,
   "metadata": {},
   "outputs": [],
   "source": [
    "#Creates stacked bar chart of chain length distributions\n",
    "def createBarChart (file, sheet, samples, numVials, chains, ylabel, graphOptions):\n",
    "    global avgMat\n",
    "    global scaledMat\n",
    "    global df_avg\n",
    "    global df_std\n",
    "    global df_scaled\n",
    "    global rearranged\n",
    "    \n",
    "    #Unpack graph options\n",
    "    graphWidth, graphHeight, barWidth, legendLocation, showDataTable, colorScheme = graphOptions\n",
    "    \n",
    "    csfont = {'fontname':'Times New Roman'}\n",
    "    #get concentration data from excel sheet\n",
    "    concData = getCorrectedConcentration(file,sheet)[0]\n",
    "    #arrange data into more managable rows and columns\n",
    "    rearranged = dataArrange(concData, sum(numVials))\n",
    "    \n",
    "    #get mean and standard deviation data\n",
    "    avgMat, stdevMat = dataParse(rearranged, samples, numVials)\n",
    "    df_avg = pd.DataFrame(avgMat.T, index=samples, columns=chains)\n",
    "    df_std = pd.DataFrame(stdevMat.T, index=samples, columns=chains)\n",
    "\n",
    "    #NEW!! (11/25/20) Calculate totals for percent stacked bar chart\n",
    "    total = avgMat.sum(axis = 0)\n",
    "    scaledMat = np.transpose(np.true_divide(avgMat, total)*100)\n",
    "    df_scaled = pd.DataFrame(scaledMat, index=samples, columns=chains)\n",
    "    \n",
    "    #NEW!! (01/14/21) \n",
    "    #Edits bar order\n",
    "    df_avg = df_avg.reindex(desired_order)\n",
    "    df_std = df_std.reindex(desired_order)\n",
    "    df_scaled = df_scaled.reindex(desired_order)\n",
    "    #Flips stack order\n",
    "    df_avg = df_avg.iloc[:, ::-1]\n",
    "    df_std = df_std.iloc[:, ::-1]\n",
    "    df_scaled = df_scaled.iloc[:, ::-1]\n",
    "    \n",
    "    %matplotlib inline\n",
    "    \n",
    "    #NEW!! (01/16/21) plots same stacked bar chart more elegantly\n",
    "    bar_plot = df_avg.plot(kind = 'bar', stacked = True, rot = 0, figsize = (graphWidth, graphHeight), \n",
    "                           title = title, width = barWidth, yerr = df_std, color = colorScheme[::-1])\n",
    "    bar_plot.set_ylabel(ylabel)\n",
    "    # Handles legend formatting\n",
    "    bar_plot_handles, bar_plot_labels = bar_plot.get_legend_handles_labels()\n",
    "    bar_plot.legend(reversed(bar_plot_handles), reversed(bar_plot_labels), bbox_to_anchor = [1,.5], loc=legendLocation)\n",
    "    # Shows table with data values if user option set to True\n",
    "    if showDataTable==True:\n",
    "        plt.xticks([])\n",
    "        cell_text = [[\"{0:.2f}\".format(val) for val in df_avg[col]] for col in df_avg]\n",
    "        bar_plot_table = plt.table(cellText=cell_text, rowLabels=chains, rowColours=colorScheme,\n",
    "                                   colLabels=samples, cellLoc='center', loc='bottom')\n",
    "    \n",
    "    #NEW!! (11/25/20) plot scaled bar chart\n",
    "    scaled = df_scaled.plot(kind = 'bar', stacked = True, rot = 0, figsize = (graphWidth, graphHeight), \n",
    "                            title = title + \" Distribtuion\", width = barWidth, color = colorScheme[::-1])\n",
    "    scaled.set_ylabel('Product Distribution')\n",
    "    # Handles legend formatting\n",
    "    scaled_handles, scaled_labels = scaled.get_legend_handles_labels()\n",
    "    scaled.legend(reversed(scaled_handles), reversed(scaled_labels), bbox_to_anchor = [1,.5], loc=legendLocation)\n",
    "    # Shows table with data values if user option set to True\n",
    "    if showDataTable==True:\n",
    "        plt.xticks([])\n",
    "        cell_text = [[\"{0:.2f}%\".format(val) for val in df_scaled[col]] for col in df_scaled]\n",
    "        scaled_plot_table = plt.table(cellText=cell_text, rowLabels=chains, rowColours=colorScheme,\n",
    "                                      colLabels=samples, cellLoc='center', loc='bottom')"
   ]
  },
  {
   "cell_type": "markdown",
   "metadata": {},
   "source": [
    "### User enters graph options (dimensions, colors, element placement, etc.) below"
   ]
  },
  {
   "cell_type": "code",
   "execution_count": 75,
   "metadata": {},
   "outputs": [
    {
     "data": {
      "image/png": "[encoded data removed]",
      "text/plain": [
       "<matplotlib.figure.Figure at 0x24855cc9438>"
      ]
     },
     "metadata": {},
     "output_type": "display_data"
    },
    {
     "data": {
      "image/png": "[encoded data removed]",
      "text/plain": [
       "<matplotlib.figure.Figure at 0x2485737acc0>"
      ]
     },
     "metadata": {},
     "output_type": "display_data"
    }
   ],
   "source": [
    "### Graph format options ###\n",
    "graphWidth = 6 #Default 6.0\n",
    "graphHeight = 4 #Default 4.0\n",
    "barWidth = 0.8 #Default 0.8\n",
    "legendLocation = 'center left' #Default 'best' or Choose: 'upper right/center/left', 'lower right/center/left'\n",
    "showDataTable = True #Toggles data table for bar charts\n",
    "\n",
    "### Graph color options ###\n",
    "# Optional: Replace with '<color map name>' from matplotlib.org/3.1.1/gallery/color/colormap_reference.html\n",
    "colorMap = 'coolwarm' #Default: tab10 (kinda ugly IMHO)\n",
    "# Can adjust max/min usable color within the range (min=0, max=1). Can also reverse i.e. [1, 0] \n",
    "colorRange = [0,1]  #Default: [0,1]\n",
    "colorScheme = pl.cm.get_cmap(colorMap)(np.linspace(colorRange[0],colorRange[1],len(chains)))\n",
    "\n",
    "# Aggregate graph options\n",
    "graphOptions = [graphWidth, graphHeight, barWidth, legendLocation, showDataTable, colorScheme]\n",
    "\n",
    "createBarChart(file, sheet, samples, numVials, chains, ylabel, graphOptions)"
   ]
  },
  {
   "cell_type": "code",
   "execution_count": 15,
   "metadata": {
    "scrolled": true
   },
   "outputs": [
    {
     "name": "stdout",
     "output_type": "stream",
     "text": [
      "[[ 0.  0.]\n",
      " [ 0.  0.]\n",
      " [ 0.  0.]]\n"
     ]
    }
   ],
   "source": [
    "num_Exp = len(samples)\n",
    "library_summary = np.zeros((num_Exp,2)) \n",
    "print(library_summary)"
   ]
  },
  {
   "cell_type": "code",
   "execution_count": 117,
   "metadata": {},
   "outputs": [],
   "source": [
    "# Populate library_summary array with C12 fraction and total titer\n",
    "\n",
    "for sample in range(0,num_Exp):\n",
    "    titer = 0\n",
    "    for analyte in avgMat:\n",
    "        titer = titer + analyte[sample]\n",
    "        \n",
    "    library_summary[sample, 1] = titer\n",
    "    \n",
    "\n",
    "# Populate library_summary array with C12 fraction and total titer\n",
    "\n",
    "for sample in range(0,num_Exp):\n",
    "    C14_titer = 0\n",
    "    C12_titer = 0\n",
    "    titer = 0\n",
    "    counter = 1\n",
    "    for analyte in avgMat[2:6]: #looking at C12 and C14 fractions only\n",
    "        if counter < 3:\n",
    "            C12_titer = C12_titer + analyte[sample]\n",
    "        \n",
    "        elif counter >= 3:\n",
    "            C14_titer = C14_titer + analyte[sample]\n",
    "            \n",
    "        counter = counter+1\n",
    "    \n",
    "    ratio = C12_titer/C14_titer\n",
    "    library_summary[sample, 0] = ratio"
   ]
  },
  {
   "cell_type": "code",
   "execution_count": 118,
   "metadata": {
    "collapsed": true
   },
   "outputs": [],
   "source": [
    "a = np.round(library_summary,2)"
   ]
  },
  {
   "cell_type": "code",
   "execution_count": 119,
   "metadata": {},
   "outputs": [
    {
     "data": {
      "text/plain": [
       "array([[   6.4,  701.1],\n",
       "       [   1.5,  717.1],\n",
       "       [   2.7,  434.9]])"
      ]
     },
     "execution_count": 119,
     "metadata": {},
     "output_type": "execute_result"
    }
   ],
   "source": [
    "np.trunc(a*10**1)/(10**1)"
   ]
  },
  {
   "cell_type": "code",
   "execution_count": 120,
   "metadata": {
    "collapsed": true
   },
   "outputs": [],
   "source": [
    "WT_slice = avgMat[:,0]\n",
    "WT_sum = np.sum(WT_slice)\n",
    "\n",
    "KCM272_slice = avgMat[:,1]\n",
    "KCM272_sum = np.sum(KCM272_slice)\n",
    "T137A_slice = avgMat[:,2]\n",
    "T137A_sum = np.sum(T137A_slice)"
   ]
  },
  {
   "cell_type": "code",
   "execution_count": 121,
   "metadata": {
    "collapsed": true
   },
   "outputs": [],
   "source": [
    "WT_dist = []\n",
    "for i in WT_slice:\n",
    "    fraction = i/WT_sum\n",
    "    WT_dist.append(fraction)\n",
    "\n",
    "\n",
    "KCM272_dist = []\n",
    "for i in KCM272_slice:\n",
    "    fraction = i/KCM272_sum\n",
    "    KCM272_dist.append(fraction)\n",
    "    \n",
    "T137A_dist = []\n",
    "for i in T137A_slice:\n",
    "    fraction = i/T137A_sum\n",
    "    T137A_dist.append(fraction)\n",
    "    "
   ]
  },
  {
   "cell_type": "code",
   "execution_count": 122,
   "metadata": {
    "collapsed": true
   },
   "outputs": [],
   "source": [
    "count = 0\n",
    "\n",
    "C12_1 = []\n",
    "C12 = []\n",
    "C14_1 = []\n",
    "C14 = []\n",
    "C16_1 = []\n",
    "C16 = []\n",
    "C18 = []\n",
    "C18_1 = []\n",
    "for x, y, z in zip(WT_dist, KCM272_dist, T137A_dist):\n",
    "    if count == 2:\n",
    "        C12_1.append(x)\n",
    "        C12_1.append(y)\n",
    "        C12_1.append(z)\n",
    "    elif count == 3:\n",
    "        C12.append(x)\n",
    "        C12.append(y)\n",
    "        C12.append(z)\n",
    "    elif count == 4:\n",
    "        C14_1.append(x)\n",
    "        C14_1.append(y)\n",
    "        C14_1.append(z)\n",
    "    elif count == 5:\n",
    "        C14.append(x)\n",
    "        C14.append(y)\n",
    "        C14.append(z)\n",
    "    elif count == 6:\n",
    "        C16_1.append(x)\n",
    "        C16_1.append(y)\n",
    "        C16_1.append(z)\n",
    "    elif count == 7:\n",
    "        C16.append(x)\n",
    "        C16.append(y)\n",
    "        C16.append(z)\n",
    "    elif count == 8:\n",
    "        C18_1.append(x)\n",
    "        C18_1.append(y)\n",
    "        C18_1.append(z)\n",
    "    elif count == 9:\n",
    "        C18.append(x)\n",
    "        C18.append(y)\n",
    "        C18.append(z)\n",
    "    \n",
    "    count = count + 1"
   ]
  },
  {
   "cell_type": "code",
   "execution_count": 123,
   "metadata": {},
   "outputs": [
    {
     "data": {
      "text/plain": [
       "[0.61456889363977729, 0.4658480644946732, 0.52895014115762862]"
      ]
     },
     "execution_count": 123,
     "metadata": {},
     "output_type": "execute_result"
    }
   ],
   "source": [
    "C12"
   ]
  },
  {
   "cell_type": "code",
   "execution_count": 124,
   "metadata": {},
   "outputs": [
    {
     "data": {
      "text/plain": [
       "[0.18780856953065239, 0.058345555627997404, 0.062862704875961753]"
      ]
     },
     "execution_count": 124,
     "metadata": {},
     "output_type": "execute_result"
    }
   ],
   "source": [
    "C12_1"
   ]
  },
  {
   "cell_type": "code",
   "execution_count": 125,
   "metadata": {},
   "outputs": [
    {
     "data": {
      "text/plain": [
       "[0.024766519062245966, 0.04184719495947118, 0.069377648865328739]"
      ]
     },
     "execution_count": 125,
     "metadata": {},
     "output_type": "execute_result"
    }
   ],
   "source": [
    "C18_1"
   ]
  },
  {
   "cell_type": "code",
   "execution_count": 126,
   "metadata": {},
   "outputs": [
    {
     "data": {
      "text/plain": [
       "[0.0038883365668561133,\n",
       " 0.0039518057192873511,\n",
       " 0.062862704875961753,\n",
       " 0.52895014115762862,\n",
       " 0.1156357152428286,\n",
       " 0.102990062689392,\n",
       " 0.021053952131148586,\n",
       " 0.084539391396596747,\n",
       " 0.069377648865328739,\n",
       " 0.0067502413549714634]"
      ]
     },
     "execution_count": 126,
     "metadata": {},
     "output_type": "execute_result"
    }
   ],
   "source": [
    "T137A_dist"
   ]
  },
  {
   "cell_type": "code",
   "execution_count": 127,
   "metadata": {},
   "outputs": [
    {
     "data": {
      "text/plain": [
       "[0.0048793924100603795,\n",
       " 0.015658726339826675,\n",
       " 0.18780856953065239,\n",
       " 0.61456889363977729,\n",
       " 0.098424242792116132,\n",
       " 0.026158892037864492,\n",
       " 0.01143706171567359,\n",
       " 0.015085652468402027,\n",
       " 0.024766519062245966,\n",
       " 0.0012120500033810915]"
      ]
     },
     "execution_count": 127,
     "metadata": {},
     "output_type": "execute_result"
    }
   ],
   "source": [
    "WT_dist"
   ]
  },
  {
   "cell_type": "code",
   "execution_count": 128,
   "metadata": {
    "collapsed": true
   },
   "outputs": [],
   "source": [
    "chains = ['C8','C10','C12_1,','C12','C14_1','C14','C16_1','C16','C18_1','C18']"
   ]
  },
  {
   "cell_type": "code",
   "execution_count": 129,
   "metadata": {
    "collapsed": true
   },
   "outputs": [],
   "source": [
    "import pickle"
   ]
  },
  {
   "cell_type": "code",
   "execution_count": 130,
   "metadata": {},
   "outputs": [],
   "source": [
    "pickle.dump([T137A_dist,WT_dist,chains], open('T137A_distribution.p', 'wb'))"
   ]
  },
  {
   "cell_type": "markdown",
   "metadata": {
    "collapsed": true
   },
   "source": [
    "### This is the old code for making the stacked bar chart. Keeping this here in case we need to use it again for any reason.\n",
    "    plot normal bar chart\n",
    "    %matplotlib inline\n",
    "    N = len(samples)\n",
    "    ind = np.arange(N)\n",
    "    firstMean = df_avg.loc[0,:]\n",
    "    firstStd = df_std.loc[0,:]\n",
    "    plt.figure(figsize=(graphWidth,graphHeight))\n",
    "    fistplot = plt.bar(ind, firstMean, width=.1, yerr=firstStd, label=chains[0])\n",
    "    sumMeans = [0]*len(samples)\n",
    "    for chain in range(1,len(chains)):\n",
    "        chainMean = df_avg.loc[chain,:]\n",
    "        prevChainMean = df_avg.loc[chain-1,:]\n",
    "        for i in range(len(sumMeans)):\n",
    "            sumMeans[i] = sumMeans[i] + prevChainMean[i]\n",
    "        chainStd = df_std.loc[chain,:]\n",
    "        plt.bar(ind, chainMean, width=.1, bottom=sumMeans, yerr=chainStd, label=chains[chain])\n",
    "    plt.xticks(ind,desired_order)\n",
    "    plt.legend(bbox_to_anchor = [1,.5], loc='center left')\n",
    "    plt.suptitle(title)\n",
    "    plt.ylabel(ylabel)\n",
    "    plt.show\n",
    "    \n",
    "### Alternate version with fewer lines of code and includes colored data table\n",
    "    %matplotlib inline\n",
    "    colors = []\n",
    "    ind = np.arange(len(samples)) + 0.3\n",
    "    nump = df_avg.T.values\n",
    "    nump_std = df_std.T.values\n",
    "    y_offset = np.zeros(len(samples))\n",
    "    cell_text = []\n",
    "    for chain in range(len(nump)):\n",
    "        plt.bar(ind, nump[chain], width=barWidth, bottom=y_offset, yerr=nump_std[chain])\n",
    "        colors.append('C'.strip() + str(chain))\n",
    "        y_offset = y_offset + nump[chain]\n",
    "        cell_text.append(['%1.2f'% val for val in nump[chain]])\n",
    "    cell_text.reverse()\n",
    "    colors = colors[::-1]\n",
    "    the_table = plt.table(cellText = cell_text, \n",
    "                          rowLabels = chains, \n",
    "                          rowColours=colors, \n",
    "                          colLabels = samples, \n",
    "                          loc = 'bottom')\n",
    "    plt.xticks([])\n",
    "    #plt.xticks(ind, samples)\n",
    "    plt.title(title)\n",
    "    plt.show()\n",
    "    \n",
    "### Displays formatted DataFrame for df_avg and df_scaled\n",
    "    df_avg_formatted = pd.DataFrame([[\"{0:.2f}\".format(val) for val in df_avg[col]] for col in df_avg],\n",
    "                                index=df_avg.T.index, \n",
    "                                columns=list(df_avg.T))\n",
    "    df_scaled_formatted = pd.DataFrame([[\"{0:.2f}%\".format(val) for val in df_scaled[col]] for col in df_scaled], \n",
    "                                       index=df_scaled.T.index, \n",
    "                                       columns=list(df_scaled.T)).style\n",
    "    display(df_avg_formatted)\n",
    "    display(df_scaled_formatted)\n",
    "    \n",
    "### Default color scheme\n",
    "    colorScheme = ['C'.strip() + str(x) for x in range(len(chains))]"
   ]
  },
  {
   "cell_type": "code",
   "execution_count": null,
   "metadata": {
    "collapsed": true
   },
   "outputs": [],
   "source": []
  }
 ],
 "metadata": {
  "kernelspec": {
   "display_name": "COBRA",
   "language": "python",
   "name": "cobra"
  },
  "language_info": {
   "codemirror_mode": {
    "name": "ipython",
    "version": 3
   },
   "file_extension": ".py",
   "mimetype": "text/x-python",
   "name": "python",
   "nbconvert_exporter": "python",
   "pygments_lexer": "ipython3",
   "version": "3.6.1"
  }
 },
 "nbformat": 4,
 "nbformat_minor": 2
}
