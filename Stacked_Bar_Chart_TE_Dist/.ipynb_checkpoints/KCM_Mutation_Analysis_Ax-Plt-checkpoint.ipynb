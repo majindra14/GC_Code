{
 "cells": [
  {
   "cell_type": "code",
   "execution_count": 7,
   "metadata": {},
   "outputs": [
    {
     "data": {
      "image/png": "[encoded data removed]",
      "text/plain": [
       "<Figure size 432x288 with 1 Axes>"
      ]
     },
     "metadata": {
      "needs_background": "light"
     },
     "output_type": "display_data"
    }
   ],
   "source": [
    "import matplotlib.pyplot as plt\n",
    "import numpy as np\n",
    "\n",
    "plt.rcParams[\"font.family\"] = \"Times New Roman\"\n",
    "font = {'size': 14,\n",
    " 'fontweight': plt.rcParams['axes.titleweight'],}\n",
    "\n",
    "labels = ['KCM272', 'KCM21', 'KCM75']\n",
    "mutations = [6, 5, 3]\n",
    "max_mut = max(mutations) + 1\n",
    "num_mutations = list(range(0,max_mut))\n",
    "bp_mutations = [2, 1, 1]\n",
    "point_mutations = ['T137A','M133L','M222K']\n",
    "\n",
    "x = np.arange(len(labels))  # the label locations\n",
    "y = np.arange(max_mut)\n",
    "width = 0.35  # the width of the bars\n",
    "\n",
    "fig, ax = plt.subplots()\n",
    "\n",
    "#clustered bar charts\n",
    "#rects1 = ax.bar(x - width/1.8,  mutations, width, label='Total', color = 'dimgray')\n",
    "#rects2 = ax.bar(x + width/1.8, bp_mutations, width, label='Binding pocket', color = 'm')\n",
    "\n",
    "#stacked bar charts\n",
    "rects1 = ax.bar(x,  mutations, width, label='Total', color = 'm')\n",
    "rects2 = ax.bar(x, bp_mutations, width, label='Binding pocket', color = 'khaki')\n",
    "\n",
    "\n",
    "# Add some text for labels, title and custom x-axis tick labels, etc.\n",
    "ax.set_ylabel('Number of mutations', fontsize = 'x-large')\n",
    "#ax.set_title('Scores by group and gender')\n",
    "ax.set_yticks(y)\n",
    "ax.set_yticklabels(num_mutations, fontdict = font)\n",
    "ax.set_xticks(x)\n",
    "ax.set_xticklabels(labels, fontdict = font)\n",
    "ax.legend(bbox_to_anchor = [.5,-.25], ncol = 2, loc='center', fontsize = 'x-large')\n",
    "\n",
    "def autolabel(rects):\n",
    "    \"\"\"Attach a text label above each bar in *rects*, displaying its height.\"\"\"\n",
    "    for rect, res in zip(rects, point_mutations):\n",
    "        height = rect.get_height()\n",
    "        ax.annotate(res,#'{}'.format(height), \n",
    "                    xy=(rect.get_x() + rect.get_width() / 2, height),\n",
    "                    xytext=(0, 3),  # 3 points vertical offset\n",
    "                    textcoords=\"offset points\",\n",
    "                    ha='center', va='bottom', fontsize = 'x-large')\n",
    "\n",
    "\n",
    "#autolabel(rects1)\n",
    "#autolabel(rects2)\n",
    "\n",
    "#fig.tight_layout()\n",
    "\n",
    "plt.show()\n",
    "\n",
    "\n"
   ]
  },
  {
   "cell_type": "code",
   "execution_count": 15,
   "metadata": {},
   "outputs": [
    {
     "name": "stdout",
     "output_type": "stream",
     "text": [
      "[0 1 2 3 4 5 6]\n"
     ]
    }
   ],
   "source": [
    "print(y)"
   ]
  },
  {
   "cell_type": "code",
   "execution_count": 13,
   "metadata": {},
   "outputs": [
    {
     "data": {
      "text/plain": [
       "<matplotlib.legend.Legend at 0x2189535a1d0>"
      ]
     },
     "execution_count": 13,
     "metadata": {},
     "output_type": "execute_result"
    },
    {
     "data": {
      "image/png": "[encoded data removed]",
      "text/plain": [
       "<Figure size 432x288 with 1 Axes>"
      ]
     },
     "metadata": {
      "needs_background": "light"
     },
     "output_type": "display_data"
    }
   ],
   "source": [
    "import matplotlib.pyplot as plt\n",
    "import numpy as np\n",
    "\n",
    "plt.rcParams[\"font.family\"] = \"Times New Roman\"\n",
    "font = {'size': 14,\n",
    " 'fontweight': plt.rcParams['axes.titleweight'],}\n",
    "\n",
    "labels = ['WT','KCM272', 'KCM272-BP']\n",
    "C12 = [0.61456889363977729, 0.4658480644946732, 0.52895014115762862]\n",
    "C12_1 = [0.18780856953065239, 0.058345555627997404, 0.062862704875961753]\n",
    "C12_1 = [i+j for i,j in zip(C12, C12_1)]\n",
    "C14_1 = [0.098424242792116132, 0.17808214120828647, 0.1156357152428286]\n",
    "C14_1 = [i+j for i,j in zip(C14_1, C12_1)]\n",
    "C14 = [0.026158892037864492, 0.15357317707211807, 0.102990062689392]\n",
    "C14 = [i+j for i,j in zip(C14, C14_1)]\n",
    "C16_1 = [0.01143706171567359, 0.043218518077115041, 0.021053952131148586]\n",
    "C16_1 = [i+j for i,j in zip(C16_1, C14)]\n",
    "C16 = [0.015085652468402027, 0.049854453160869387, 0.084539391396596747]\n",
    "C16 = [i+j for i,j in zip(C16_1, C16)]\n",
    "C18_1 = [0.024766519062245966, 0.04184719495947118, 0.069377648865328739]\n",
    "C18_1 = [i+j for i,j in zip(C18_1, C16)]\n",
    "\n",
    "#max_mut = max(mutations) + 1\n",
    "#num_mutations = list(range(0,max_mut))\n",
    "#bp_mutations = [2, 1, 1]\n",
    "point_mutations = ['T137A','M133L','M222K']\n",
    "\n",
    "x = np.arange(len(labels))  # the label locations\n",
    "#y = np.arange(max_mut)\n",
    "width = 0.35  # the width of the bars\n",
    "\n",
    "fig, ax = plt.subplots()\n",
    "\n",
    "#clustered bar charts\n",
    "#rects1 = ax.bar(x - width/1.8,  mutations, width, label='Total', color = 'dimgray')\n",
    "#rects2 = ax.bar(x + width/1.8, bp_mutations, width, label='Binding pocket', color = 'm')\n",
    "\n",
    "#stacked bar charts\n",
    "\n",
    "rects7 = ax.bar(x, C18_1, width, label='C18_1', color = 'gray')\n",
    "\n",
    "rects5 = ax.bar(x, C16, width, label='C16', color = 'gold')\n",
    "rects6 = ax.bar(x, C16_1, width, label='C16_1', color = 'khaki')\n",
    "\n",
    "rects3 = ax.bar(x, C14, width, label='C14', color = 'blue')\n",
    "rects4 = ax.bar(x, C14_1, width, label='C14_1', color = 'skyblue')\n",
    "rects2 = ax.bar(x, C12_1, width, label='C12_1', color = 'coral')\n",
    "rects1 = ax.bar(x, C12, width, label='C12', color = 'indianred')\n",
    "\n",
    "ax.tick_params(axis='y', labelsize=14)\n",
    "\n",
    "#rects2 = ax.bar(x, C12_1, bottom = C12, width = width, label='C12_1', color = 'coral')\n",
    "#rects3 = ax.bar(x, C14, bottom = [i+j for i,j in zip(C12, C12_1)], width = width, label='C14', color = 'blue')\n",
    "\n",
    "\n",
    "\n",
    "\n",
    "\n",
    "\n",
    "# Add some text for labels, title and custom x-axis tick labels, etc.\n",
    "ax.set_ylabel('Fatty acid distribution', fontsize = 'x-large')\n",
    "#ax.set_title('Scores by group and gender')\n",
    "#ax.set_yticks(y)\n",
    "#ax.set_yticklabels(num_mutations, fontdict = font)\n",
    "ax.set_xticks(x)\n",
    "ax.set_xticklabels(labels, fontdict = font)\n",
    "ax.legend(bbox_to_anchor = [.5,-.35], ncol = 3, loc='center', mode = None,fontsize = 'x-large')"
   ]
  },
  {
   "cell_type": "code",
   "execution_count": 30,
   "metadata": {
    "collapsed": true
   },
   "outputs": [],
   "source": [
    "C12 = [0.61456889363977729, 0.4658480644946732, 0.52895014115762862]\n",
    "C12_1 = [0.18780856953065239, 0.058345555627997404, 0.062862704875961753]\n",
    "C12_1 = [i+j for i,j in zip(C12, C12_1)]"
   ]
  },
  {
   "cell_type": "code",
   "execution_count": 31,
   "metadata": {},
   "outputs": [
    {
     "data": {
      "text/plain": [
       "[0.8023774631704297, 0.5241936201226706, 0.5918128460335904]"
      ]
     },
     "execution_count": 31,
     "metadata": {},
     "output_type": "execute_result"
    }
   ],
   "source": [
    "C12_1"
   ]
  },
  {
   "cell_type": "code",
   "execution_count": null,
   "metadata": {
    "collapsed": true
   },
   "outputs": [],
   "source": []
  }
 ],
 "metadata": {
  "kernelspec": {
   "display_name": "COBRA",
   "language": "python",
   "name": "cobra"
  },
  "language_info": {
   "codemirror_mode": {
    "name": "ipython",
    "version": 3
   },
   "file_extension": ".py",
   "mimetype": "text/x-python",
   "name": "python",
   "nbconvert_exporter": "python",
   "pygments_lexer": "ipython3",
   "version": "3.6.1"
  }
 },
 "nbformat": 4,
 "nbformat_minor": 2
}
