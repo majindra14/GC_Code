{
 "cells": [
  {
   "cell_type": "code",
   "execution_count": 2,
   "metadata": {
    "collapsed": true
   },
   "outputs": [],
   "source": [
    "import pandas as pd\n",
    "import numpy as np\n",
    "from numpy import array\n",
    "import matplotlib.pyplot as plt\n",
    "import math\n",
    "import openpyxl\n",
    "from statistics import * "
   ]
  },
  {
   "cell_type": "code",
   "execution_count": 3,
   "metadata": {
    "collapsed": true
   },
   "outputs": [],
   "source": [
    "#User enters data here\n",
    "\n",
    "file = 'C14.xlsx' #file name\n",
    "samples = ['WT','KCM272','T137A'] #name of samples\n",
    "### ^^Do these have to be in order? \n",
    "### ^^Yes, they have to be in order of appearance. I'm trying to see if I can get that fixed\n",
    "numVials = [3, 3, 3] ### USER INPUT number of vials per sample in order of appearance \n",
    "chains = ['C8','C10','C12_1,','C12','C14_1','C14','C16_1','C16','C18_1','C18'] #chain lengths\n",
    "\n",
    "#Graph options\n",
    "title = 'BTE Mutants' #graph title\n",
    "ylabel = 'mg/L FAME' #y axis label\n",
    "graphWidth = 9 #Default 6.0\n",
    "graphHeight = 4 #Default 4.0\n",
    "barWidth = 0.8 #Default 0.8\n",
    "legendLocation = 'upper left' #Default 'best' or Choose: 'upper right/center/left', 'lower right/center/left'\n",
    "#plt.rcParams[\"font.family\"] = \"Times New Roman\"\n",
    "### Python Default\n",
    "plt.rcParams[\"font.family\"] = 'DejaVu Sans'\n",
    "\n",
    "#Should be the same from batch to batch\n",
    "sheet = 'Corrected Concentration' #sheet with corrected concentration data\n",
    "\n",
    "# Check to see if lists samples and numVials are the same length\n",
    "if len(samples) != len(numVials):\n",
    "    raise Exception('Length of samples and numVials lists must be the same, hoe!') #love it\n",
    "    \n",
    "#avgMat = 0"
   ]
  },
  {
   "cell_type": "code",
   "execution_count": 4,
   "metadata": {
    "collapsed": true
   },
   "outputs": [],
   "source": [
    "#this function arranges data into an appropriate matrix. correctedConc should be clean with no empty spaces\n",
    "def dataArrange(correctedConc, numTotSamples):\n",
    "    numChains = int(len(correctedConc)/numTotSamples)\n",
    "    print(numTotSamples)\n",
    "    print(numChains)\n",
    "    correctedConc = np.array(correctedConc)\n",
    "    rearranged = np.zeros((numTotSamples, numChains))\n",
    "    iterator = 0;\n",
    "    for sample in range(0,numTotSamples):\n",
    "        for chain in range(0, numChains):\n",
    "            rearranged[sample, chain] = correctedConc[iterator]\n",
    "            iterator = iterator + 1 \n",
    "    return rearranged.T, rearranged.T.shape"
   ]
  },
  {
   "cell_type": "code",
   "execution_count": 5,
   "metadata": {
    "collapsed": true
   },
   "outputs": [],
   "source": [
    "#Calculates average and standard deviation of data\n",
    "def calcStats(data):\n",
    "    stats = [mean(data), stdev(data)]\n",
    "    return stats"
   ]
  },
  {
   "cell_type": "code",
   "execution_count": 6,
   "metadata": {
    "collapsed": true
   },
   "outputs": [],
   "source": [
    "#Returns average and standard deviation data in the form of matricies\n",
    "def dataParse(rearranged, samples, numVials):\n",
    "    \n",
    "    #rearranged - the rearranged corrected concentration data table with each row corresponding to a chain length\n",
    "        #and each column corresponding to a sample vial i.e.\n",
    "        #\n",
    "        #         H204A-1  H204A-2  H204A-3    WT-1    WT-2    WT-3\n",
    "        #   C8 [[    #        #        #        #        #        #    ],\n",
    "        #  C10  [    #        #        #        #        #        #    ],\n",
    "        #  C12  [    #        #        #        #        #        #    ],\n",
    "        #  C14  [    #        #        #        #        #        #    ],\n",
    "        #  C16  [    #        #        #        #        #        #    ]]\n",
    "        #\n",
    "    #samples - list of each type of sample i.e. [H204A, WT]\n",
    "    #numVials - number of vials per sample in order of appearance i.e. [3, 3]\n",
    "    \n",
    "    numChains = int(len(rearranged[0])) #number of chain lengths testing for\n",
    "    avgMat = np.zeros((numChains, len(samples))) #matrix to store average data\n",
    "    stdevMat = np.zeros((numChains, len(samples))) #matrix to store stdev data\n",
    "\n",
    "    row_number = range(0,len(chains))\n",
    "    column_number = range(0,len(samples))\n",
    "\n",
    "    for r in row_number:\n",
    "        #print(rearranged[0][r])\n",
    "        for c in column_number:\n",
    "            avgMat[r,c] = np.mean(rearranged[0][r][c*3:(c*3)+2]) # rearranged is an array which is set up such that each row contains the concentration for a given chain length for all samples\n",
    "            stdevMat[r,c] = np.std(rearranged[0][r][c*3:(c*3)+2])\n",
    "        \n",
    "    return avgMat,stdevMat"
   ]
  },
  {
   "cell_type": "code",
   "execution_count": 113,
   "metadata": {},
   "outputs": [],
   "source": [
    "#Creates stacked bar chart of chain length distributions\n",
    "def createBarChart (file, sheet, samples, numVials, chains, title, ylabel):\n",
    "    global avgMat\n",
    "    global scaledMat\n",
    "    \n",
    "    csfont = {'fontname':'Times New Roman'}\n",
    "    #get concentration data from excel sheet\n",
    "    concData = getCorrectedConcentration(file,sheet)\n",
    "    #arrange data into more managable rows and columns\n",
    "    rearranged = dataArrange(concData, sum(numVials))\n",
    "    \n",
    "    #get mean and standard deviation data\n",
    "    avgMat, stdevMat = dataParse(rearranged, samples, numVials)\n",
    "    df_avg = pd.DataFrame(avgMat, columns=samples)\n",
    "    df_std = pd.DataFrame(stdevMat, columns=samples)\n",
    "\n",
    "    #NEW!! (11/25/20) Calculate totals for percent stacked bar chart\n",
    "    total = avgMat.sum(axis = 0)\n",
    "    scaledMat = np.transpose(np.true_divide(avgMat, total)*100)\n",
    "    df_scaled = pd.DataFrame(scaledMat, index=samples, columns=chains)\n",
    "    \n",
    "    #plot normal bar chart\n",
    "    %matplotlib inline\n",
    "    N = len(samples)\n",
    "    ind = np.arange(N)\n",
    "    firstMean = df_avg.loc[0,:]\n",
    "    firstStd = df_std.loc[0,:]\n",
    "    plt.figure(figsize=(graphWidth,graphHeight))\n",
    "    fistplot = plt.bar(ind, firstMean, width=.1, yerr=firstStd, label=chains[0])\n",
    "    sumMeans = [0]*len(samples)\n",
    "    for chain in range(1,len(chains)):\n",
    "        chainMean = df_avg.loc[chain,:]\n",
    "        prevChainMean = df_avg.loc[chain-1,:]\n",
    "        for i in range(len(sumMeans)):\n",
    "            sumMeans[i] = sumMeans[i] + prevChainMean[i]\n",
    "        chainStd = df_std.loc[chain,:]\n",
    "        plt.bar(ind, chainMean, width=.1, bottom=sumMeans, yerr=chainStd, label=chains[chain])\n",
    "    plt.xticks(ind,samples)\n",
    "    plt.legend(bbox_to_anchor = [1,.5], loc='center left')\n",
    "    plt.suptitle(title)\n",
    "    plt.ylabel(ylabel)\n",
    "    plt.show\n",
    "    \n",
    "    #NEW!! (11/25/20) plot scaled bar chart\n",
    "    scaled = df_scaled.plot(kind = 'bar', \n",
    "                            stacked = True, \n",
    "                            rot = 0, #xaxis label rotation\n",
    "                            figsize=(graphWidth, graphHeight), \n",
    "                            title = title + \" Distribtuion\",\n",
    "                            width = .1)\n",
    "    scaled.legend(bbox_to_anchor = [1,.5], loc='center left')\n",
    "    scaled.set_ylabel('Product Distribution')    "
   ]
  },
  {
   "cell_type": "code",
   "execution_count": 114,
   "metadata": {
    "collapsed": true
   },
   "outputs": [],
   "source": [
    "#returns clean list of corrected concentrations from an excel file\n",
    "def getCorrectedConcentration (file, sheet):\n",
    "    wb = openpyxl.load_workbook(file)\n",
    "    df = pd.read_excel(file, sheet_name=sheet)\n",
    "    correctedConc = []\n",
    "    title = df[0][0].split('-')[0]\n",
    "    for i in df.index:\n",
    "        conc = df['Corrected Concentration'][i]\n",
    "        sample = df[0][i] if isinstance(df[0][i], float) or isinstance(df[0][i], int) else df[0][i].split('-')[0]\n",
    "        if isinstance(sample, str) and not sample == 'Peak#':\n",
    "            title = sample\n",
    "        if title in samples and isinstance(conc, float) and not math.isnan(conc): #math.isnan returns True if conc is nan\n",
    "            correctedConc.append(conc)\n",
    "    print(len(correctedConc))\n",
    "    return correctedConc"
   ]
  },
  {
   "cell_type": "code",
   "execution_count": 115,
   "metadata": {},
   "outputs": [
    {
     "name": "stdout",
     "output_type": "stream",
     "text": [
      "90\n",
      "9\n",
      "10\n"
     ]
    },
    {
     "data": {
      "image/png": "[encoded data removed]",
      "text/plain": [
       "<matplotlib.figure.Figure at 0x1e3e43b3ba8>"
      ]
     },
     "metadata": {},
     "output_type": "display_data"
    },
    {
     "data": {
      "image/png": "[encoded data removed]",
      "text/plain": [
       "<matplotlib.figure.Figure at 0x1e3e5a7f198>"
      ]
     },
     "metadata": {},
     "output_type": "display_data"
    }
   ],
   "source": [
    "createBarChart(file, sheet, samples, numVials, chains, title, ylabel)"
   ]
  },
  {
   "cell_type": "code",
   "execution_count": 95,
   "metadata": {},
   "outputs": [
    {
     "data": {
      "text/plain": [
       "array([[   3.42115603,    2.83267068,    1.69111202],\n",
       "       [  10.97901984,    1.88248451,    1.71871597],\n",
       "       [ 131.68082551,   41.83973555,   27.34019402],\n",
       "       [ 430.90120675,  334.06074573,  230.05054447],\n",
       "       [  69.00955358,  127.70312346,   50.2921867 ],\n",
       "       [  18.34114655,  110.12768747,   44.79235027],\n",
       "       [   8.01902561,   30.99210124,    9.15676691],\n",
       "       [  10.57721261,   35.75074594,   36.76780004],\n",
       "       [  17.36489279,   30.0087222 ,   30.1736679 ],\n",
       "       [   0.84982142,    1.90434167,    2.93580922]])"
      ]
     },
     "execution_count": 95,
     "metadata": {},
     "output_type": "execute_result"
    }
   ],
   "source": [
    "avgMat"
   ]
  },
  {
   "cell_type": "code",
   "execution_count": 100,
   "metadata": {},
   "outputs": [
    {
     "data": {
      "text/plain": [
       "array([[  0.48793924,   0.39501623,   0.38883366],\n",
       "       [  1.56587263,   0.26251266,   0.39518057],\n",
       "       [ 18.78085695,   5.83455556,   6.28627049],\n",
       "       [ 61.45688936,  46.58480645,  52.89501412],\n",
       "       [  9.84242428,  17.80821412,  11.56357152],\n",
       "       [  2.6158892 ,  15.35731771,  10.29900627],\n",
       "       [  1.14370617,   4.32185181,   2.10539521],\n",
       "       [  1.50856525,   4.98544532,   8.45393914],\n",
       "       [  2.47665191,   4.1847195 ,   6.93776489],\n",
       "       [  0.121205  ,   0.26556065,   0.67502414]])"
      ]
     },
     "execution_count": 100,
     "metadata": {},
     "output_type": "execute_result"
    }
   ],
   "source": [
    "scaledMat.T"
   ]
  },
  {
   "cell_type": "code",
   "execution_count": 85,
   "metadata": {
    "scrolled": true
   },
   "outputs": [
    {
     "name": "stdout",
     "output_type": "stream",
     "text": [
      "[[ 0.  0.]\n",
      " [ 0.  0.]\n",
      " [ 0.  0.]]\n"
     ]
    }
   ],
   "source": [
    "num_Exp = len(samples)\n",
    "library_summary = np.zeros((num_Exp,2)) \n",
    "print(library_summary)"
   ]
  },
  {
   "cell_type": "code",
   "execution_count": 12,
   "metadata": {
    "collapsed": true
   },
   "outputs": [],
   "source": [
    "# Populate library_summary array with C12 fraction and total titer\n",
    "\n",
    "for sample in range(0,num_Exp):\n",
    "    titer = 0\n",
    "    for analyte in avgMat:\n",
    "        titer = titer + analyte[sample]\n",
    "        \n",
    "    library_summary[sample, 1] = titer\n",
    "    \n",
    "\n",
    "# Populate library_summary array with C12 fraction and total titer\n",
    "\n",
    "for sample in range(0,num_Exp):\n",
    "    C14_titer = 0\n",
    "    C12_titer = 0\n",
    "    titer = 0\n",
    "    counter = 1\n",
    "    for analyte in avgMat[2:6]: #looking at C12 and C14 fractions only\n",
    "        if counter < 3:\n",
    "            C12_titer = C12_titer + analyte[sample]\n",
    "        \n",
    "        elif counter >= 3:\n",
    "            C14_titer = C14_titer + analyte[sample]\n",
    "            \n",
    "        counter = counter+1\n",
    "    \n",
    "    ratio = C12_titer/C14_titer\n",
    "    library_summary[sample, 0] = ratio"
   ]
  },
  {
   "cell_type": "code",
   "execution_count": 13,
   "metadata": {
    "collapsed": true
   },
   "outputs": [],
   "source": [
    "a = np.round(library_summary,2)"
   ]
  },
  {
   "cell_type": "code",
   "execution_count": 14,
   "metadata": {},
   "outputs": [
    {
     "data": {
      "text/plain": [
       "array([[   6.4,  701.1],\n",
       "       [   1.5,  717.1],\n",
       "       [   2.7,  434.9]])"
      ]
     },
     "execution_count": 14,
     "metadata": {},
     "output_type": "execute_result"
    }
   ],
   "source": [
    "np.trunc(a*10**1)/(10**1)"
   ]
  },
  {
   "cell_type": "code",
   "execution_count": 15,
   "metadata": {
    "collapsed": true
   },
   "outputs": [],
   "source": [
    "WT_slice = avgMat[:,0]\n",
    "WT_sum = np.sum(WT_slice)\n",
    "\n",
    "KCM272_slice = avgMat[:,1]\n",
    "KCM272_sum = np.sum(KCM272_slice)\n",
    "T137A_slice = avgMat[:,2]\n",
    "T137A_sum = np.sum(T137A_slice)"
   ]
  },
  {
   "cell_type": "code",
   "execution_count": 16,
   "metadata": {
    "collapsed": true
   },
   "outputs": [],
   "source": [
    "WT_dist = []\n",
    "for i in WT_slice:\n",
    "    fraction = i/WT_sum\n",
    "    WT_dist.append(fraction)\n",
    "\n",
    "\n",
    "KCM272_dist = []\n",
    "for i in KCM272_slice:\n",
    "    fraction = i/KCM272_sum\n",
    "    KCM272_dist.append(fraction)\n",
    "    \n",
    "T137A_dist = []\n",
    "for i in T137A_slice:\n",
    "    fraction = i/T137A_sum\n",
    "    T137A_dist.append(fraction)\n",
    "    "
   ]
  },
  {
   "cell_type": "code",
   "execution_count": 17,
   "metadata": {
    "collapsed": true
   },
   "outputs": [],
   "source": [
    "count = 0\n",
    "\n",
    "C12_1 = []\n",
    "C12 = []\n",
    "C14_1 = []\n",
    "C14 = []\n",
    "C16_1 = []\n",
    "C16 = []\n",
    "C18 = []\n",
    "C18_1 = []\n",
    "for x, y, z in zip(WT_dist, KCM272_dist, T137A_dist):\n",
    "    if count == 2:\n",
    "        C12_1.append(x)\n",
    "        C12_1.append(y)\n",
    "        C12_1.append(z)\n",
    "    elif count == 3:\n",
    "        C12.append(x)\n",
    "        C12.append(y)\n",
    "        C12.append(z)\n",
    "    elif count == 4:\n",
    "        C14_1.append(x)\n",
    "        C14_1.append(y)\n",
    "        C14_1.append(z)\n",
    "    elif count == 5:\n",
    "        C14.append(x)\n",
    "        C14.append(y)\n",
    "        C14.append(z)\n",
    "    elif count == 6:\n",
    "        C16_1.append(x)\n",
    "        C16_1.append(y)\n",
    "        C16_1.append(z)\n",
    "    elif count == 7:\n",
    "        C16.append(x)\n",
    "        C16.append(y)\n",
    "        C16.append(z)\n",
    "    elif count == 8:\n",
    "        C18_1.append(x)\n",
    "        C18_1.append(y)\n",
    "        C18_1.append(z)\n",
    "    elif count == 9:\n",
    "        C18.append(x)\n",
    "        C18.append(y)\n",
    "        C18.append(z)\n",
    "    \n",
    "    count = count + 1"
   ]
  },
  {
   "cell_type": "code",
   "execution_count": 18,
   "metadata": {},
   "outputs": [
    {
     "data": {
      "text/plain": [
       "[0.61456889363977729, 0.4658480644946732, 0.52895014115762862]"
      ]
     },
     "execution_count": 18,
     "metadata": {},
     "output_type": "execute_result"
    }
   ],
   "source": [
    "C12"
   ]
  },
  {
   "cell_type": "code",
   "execution_count": 19,
   "metadata": {},
   "outputs": [
    {
     "data": {
      "text/plain": [
       "[0.18780856953065239, 0.058345555627997404, 0.062862704875961753]"
      ]
     },
     "execution_count": 19,
     "metadata": {},
     "output_type": "execute_result"
    }
   ],
   "source": [
    "C12_1"
   ]
  },
  {
   "cell_type": "code",
   "execution_count": 20,
   "metadata": {},
   "outputs": [
    {
     "data": {
      "text/plain": [
       "[0.024766519062245966, 0.04184719495947118, 0.069377648865328739]"
      ]
     },
     "execution_count": 20,
     "metadata": {},
     "output_type": "execute_result"
    }
   ],
   "source": [
    "C18_1"
   ]
  },
  {
   "cell_type": "code",
   "execution_count": 21,
   "metadata": {},
   "outputs": [
    {
     "data": {
      "text/plain": [
       "[0.0038883365668561133,\n",
       " 0.0039518057192873511,\n",
       " 0.062862704875961753,\n",
       " 0.52895014115762862,\n",
       " 0.1156357152428286,\n",
       " 0.102990062689392,\n",
       " 0.021053952131148586,\n",
       " 0.084539391396596747,\n",
       " 0.069377648865328739,\n",
       " 0.0067502413549714634]"
      ]
     },
     "execution_count": 21,
     "metadata": {},
     "output_type": "execute_result"
    }
   ],
   "source": [
    "T137A_dist"
   ]
  },
  {
   "cell_type": "code",
   "execution_count": 23,
   "metadata": {},
   "outputs": [
    {
     "data": {
      "text/plain": [
       "[0.0048793924100603795,\n",
       " 0.015658726339826675,\n",
       " 0.18780856953065239,\n",
       " 0.61456889363977729,\n",
       " 0.098424242792116132,\n",
       " 0.026158892037864492,\n",
       " 0.01143706171567359,\n",
       " 0.015085652468402027,\n",
       " 0.024766519062245966,\n",
       " 0.0012120500033810915]"
      ]
     },
     "execution_count": 23,
     "metadata": {},
     "output_type": "execute_result"
    }
   ],
   "source": [
    "WT_dist"
   ]
  },
  {
   "cell_type": "code",
   "execution_count": 24,
   "metadata": {
    "collapsed": true
   },
   "outputs": [],
   "source": [
    "chains = ['C8','C10','C12_1,','C12','C14_1','C14','C16_1','C16','C18_1','C18']"
   ]
  },
  {
   "cell_type": "code",
   "execution_count": 25,
   "metadata": {
    "collapsed": true
   },
   "outputs": [],
   "source": [
    "import pickle"
   ]
  },
  {
   "cell_type": "code",
   "execution_count": 26,
   "metadata": {
    "collapsed": true
   },
   "outputs": [],
   "source": [
    "pickle.dump([T137A_dist,WT_dist,chains], open('T137A_distribution.p', 'wb'))"
   ]
  },
  {
   "cell_type": "code",
   "execution_count": null,
   "metadata": {
    "collapsed": true
   },
   "outputs": [],
   "source": []
  }
 ],
 "metadata": {
  "kernelspec": {
   "display_name": "COBRA",
   "language": "python",
   "name": "cobra"
  },
  "language_info": {
   "codemirror_mode": {
    "name": "ipython",
    "version": 3
   },
   "file_extension": ".py",
   "mimetype": "text/x-python",
   "name": "python",
   "nbconvert_exporter": "python",
   "pygments_lexer": "ipython3",
   "version": "3.6.1"
  }
 },
 "nbformat": 4,
 "nbformat_minor": 2
}
