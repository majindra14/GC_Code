{
 "cells": [
  {
   "cell_type": "code",
   "execution_count": 1,
   "metadata": {
    "tags": []
   },
   "outputs": [
    {
     "ename": "ImportError",
     "evalue": "DLL load failed: The specified module could not be found.",
     "output_type": "error",
     "traceback": [
      "\u001b[1;31m---------------------------------------------------------------------------\u001b[0m",
      "\u001b[1;31mImportError\u001b[0m                               Traceback (most recent call last)",
      "\u001b[1;32m<ipython-input-1-10fd45e89142>\u001b[0m in \u001b[0;36m<module>\u001b[1;34m()\u001b[0m\n\u001b[0;32m      7\u001b[0m \u001b[1;32mfrom\u001b[0m \u001b[0mstatistics\u001b[0m \u001b[1;32mimport\u001b[0m \u001b[1;33m*\u001b[0m\u001b[1;33m\u001b[0m\u001b[0m\n\u001b[0;32m      8\u001b[0m \u001b[1;32mfrom\u001b[0m \u001b[0mcycler\u001b[0m \u001b[1;32mimport\u001b[0m \u001b[0mcycler\u001b[0m\u001b[1;33m\u001b[0m\u001b[0m\n\u001b[1;32m----> 9\u001b[1;33m \u001b[1;32mfrom\u001b[0m \u001b[0mscipy\u001b[0m \u001b[1;32mimport\u001b[0m \u001b[0mstats\u001b[0m\u001b[1;33m\u001b[0m\u001b[0m\n\u001b[0m\u001b[0;32m     10\u001b[0m \u001b[1;32mfrom\u001b[0m \u001b[0mgcplot\u001b[0m \u001b[1;32mimport\u001b[0m \u001b[0mgc\u001b[0m\u001b[1;33m\u001b[0m\u001b[0m\n\u001b[0;32m     11\u001b[0m \u001b[1;32mimport\u001b[0m \u001b[0mimportlib\u001b[0m\u001b[1;33m\u001b[0m\u001b[0m\n",
      "\u001b[1;32mC:\\Program Files\\Anaconda3\\lib\\site-packages\\scipy\\stats\\__init__.py\u001b[0m in \u001b[0;36m<module>\u001b[1;34m()\u001b[0m\n\u001b[0;32m    346\u001b[0m \u001b[1;32mfrom\u001b[0m \u001b[0m__future__\u001b[0m \u001b[1;32mimport\u001b[0m \u001b[0mdivision\u001b[0m\u001b[1;33m,\u001b[0m \u001b[0mprint_function\u001b[0m\u001b[1;33m,\u001b[0m \u001b[0mabsolute_import\u001b[0m\u001b[1;33m\u001b[0m\u001b[0m\n\u001b[0;32m    347\u001b[0m \u001b[1;33m\u001b[0m\u001b[0m\n\u001b[1;32m--> 348\u001b[1;33m \u001b[1;32mfrom\u001b[0m \u001b[1;33m.\u001b[0m\u001b[0mstats\u001b[0m \u001b[1;32mimport\u001b[0m \u001b[1;33m*\u001b[0m\u001b[1;33m\u001b[0m\u001b[0m\n\u001b[0m\u001b[0;32m    349\u001b[0m \u001b[1;32mfrom\u001b[0m \u001b[1;33m.\u001b[0m\u001b[0mdistributions\u001b[0m \u001b[1;32mimport\u001b[0m \u001b[1;33m*\u001b[0m\u001b[1;33m\u001b[0m\u001b[0m\n\u001b[0;32m    350\u001b[0m \u001b[1;32mfrom\u001b[0m \u001b[1;33m.\u001b[0m\u001b[0mmorestats\u001b[0m \u001b[1;32mimport\u001b[0m \u001b[1;33m*\u001b[0m\u001b[1;33m\u001b[0m\u001b[0m\n",
      "\u001b[1;32mC:\\Program Files\\Anaconda3\\lib\\site-packages\\scipy\\stats\\stats.py\u001b[0m in \u001b[0;36m<module>\u001b[1;34m()\u001b[0m\n\u001b[0;32m    173\u001b[0m \u001b[1;32mfrom\u001b[0m \u001b[0mscipy\u001b[0m\u001b[1;33m.\u001b[0m\u001b[0m_lib\u001b[0m\u001b[1;33m.\u001b[0m\u001b[0msix\u001b[0m \u001b[1;32mimport\u001b[0m \u001b[0mcallable\u001b[0m\u001b[1;33m,\u001b[0m \u001b[0mstring_types\u001b[0m\u001b[1;33m\u001b[0m\u001b[0m\n\u001b[0;32m    174\u001b[0m \u001b[1;32mfrom\u001b[0m \u001b[0mscipy\u001b[0m\u001b[1;33m.\u001b[0m\u001b[0m_lib\u001b[0m\u001b[1;33m.\u001b[0m\u001b[0m_version\u001b[0m \u001b[1;32mimport\u001b[0m \u001b[0mNumpyVersion\u001b[0m\u001b[1;33m\u001b[0m\u001b[0m\n\u001b[1;32m--> 175\u001b[1;33m \u001b[1;32mimport\u001b[0m \u001b[0mscipy\u001b[0m\u001b[1;33m.\u001b[0m\u001b[0mspecial\u001b[0m \u001b[1;32mas\u001b[0m \u001b[0mspecial\u001b[0m\u001b[1;33m\u001b[0m\u001b[0m\n\u001b[0m\u001b[0;32m    176\u001b[0m \u001b[1;32mimport\u001b[0m \u001b[0mscipy\u001b[0m\u001b[1;33m.\u001b[0m\u001b[0mlinalg\u001b[0m \u001b[1;32mas\u001b[0m \u001b[0mlinalg\u001b[0m\u001b[1;33m\u001b[0m\u001b[0m\n\u001b[0;32m    177\u001b[0m \u001b[1;32mfrom\u001b[0m \u001b[1;33m.\u001b[0m \u001b[1;32mimport\u001b[0m \u001b[0mdistributions\u001b[0m\u001b[1;33m\u001b[0m\u001b[0m\n",
      "\u001b[1;32mC:\\Program Files\\Anaconda3\\lib\\site-packages\\scipy\\special\\__init__.py\u001b[0m in \u001b[0;36m<module>\u001b[1;34m()\u001b[0m\n\u001b[0;32m    638\u001b[0m \u001b[1;32mfrom\u001b[0m \u001b[1;33m.\u001b[0m\u001b[0msf_error\u001b[0m \u001b[1;32mimport\u001b[0m \u001b[0mSpecialFunctionWarning\u001b[0m\u001b[1;33m,\u001b[0m \u001b[0mSpecialFunctionError\u001b[0m\u001b[1;33m\u001b[0m\u001b[0m\n\u001b[0;32m    639\u001b[0m \u001b[1;33m\u001b[0m\u001b[0m\n\u001b[1;32m--> 640\u001b[1;33m \u001b[1;32mfrom\u001b[0m \u001b[1;33m.\u001b[0m\u001b[0m_ufuncs\u001b[0m \u001b[1;32mimport\u001b[0m \u001b[1;33m*\u001b[0m\u001b[1;33m\u001b[0m\u001b[0m\n\u001b[0m\u001b[0;32m    641\u001b[0m \u001b[1;33m\u001b[0m\u001b[0m\n\u001b[0;32m    642\u001b[0m \u001b[1;32mfrom\u001b[0m \u001b[1;33m.\u001b[0m\u001b[0mbasic\u001b[0m \u001b[1;32mimport\u001b[0m \u001b[1;33m*\u001b[0m\u001b[1;33m\u001b[0m\u001b[0m\n",
      "\u001b[1;31mImportError\u001b[0m: DLL load failed: The specified module could not be found."
     ]
    }
   ],
   "source": [
    "import pandas as pd\n",
    "import numpy as np\n",
    "from numpy import array\n",
    "import matplotlib.pyplot as plt\n",
    "import math\n",
    "import openpyxl\n",
    "from statistics import * \n",
    "from cycler import cycler\n",
    "from scipy import stats\n",
    "from gcplot import gc\n",
    "import importlib"
   ]
  },
  {
   "cell_type": "code",
   "execution_count": 2,
   "metadata": {
    "collapsed": true,
    "jupyter": {
     "outputs_hidden": true
    }
   },
   "outputs": [],
   "source": [
    "#User enters data here\n",
    "\n",
    "file = 'GCData_TE_ML w Conc Data Summary.xlsx' #file name\n",
    "file = 'GCData-SSM_mutants1-4 w Conc Data.xlsx'\n",
    "samples = ['ClFatB3','ClFatB3_tr','ClFatB3_tr_M1','ClFatB3_tr_M2','ClFatB3_tr_M3'] #name of samples\n",
    "samples = ['BTE-QE','H170E','M197F','M197V','Neg','R168A','Rec','WT']\n",
    "### ^^Do these have to be in order? \n",
    "### ^^Yes, they have to be in order of appearance. I'm trying to see if I can get that fixed\n",
    "numVials = [3, 3, 3, 3, 3, 3, 3, 3] ### USER INPUT number of vials per sample in order of appearance \n",
    "chains = ['C8','C10','C12:1','C12','C14:1','C14','C16:1','C16','C18:1','C18'] #chain lengths\n",
    "\n",
    "#Graph options\n",
    "title = 'Free fatty acid distribution of ClFatB3 variants' #graph title\n",
    "ylabel = 'mg/L FAME' #y axis label\n",
    "graphWidth = 9 #Default 6.0\n",
    "graphHeight = 4 #Default 4.0\n",
    "barWidth = 0.6 #Default 0.8\n",
    "legendLocation = 'upper left' #Default 'best' or Choose: 'upper right/center/left', 'lower right/center/left'\n",
    "#plt.rcParams[\"font.family\"] = \"Times New Roman\"\n",
    "\n",
    "\n",
    "\n",
    "### Python Default\n",
    "#plt.rcParams[\"font.family\"] = 'DejaVu Sans'\n",
    "\n",
    "#Should be the same from batch to batch\n",
    "sheet = 'Corrected Concentration' #sheet with corrected concentration data\n",
    "\n",
    "# Check to see if lists samples and numVials are the same length\n",
    "if len(samples) != len(numVials):\n",
    "    raise Exception('Length of samples and numVials lists must be the same, hoe!') #love it\n",
    "    \n",
    "#avgMat = 0"
   ]
  },
  {
   "cell_type": "markdown",
   "metadata": {},
   "source": [
    "## New"
   ]
  },
  {
   "cell_type": "code",
   "execution_count": 35,
   "metadata": {
    "collapsed": true,
    "jupyter": {
     "outputs_hidden": true
    },
    "tags": []
   },
   "outputs": [],
   "source": [
    "importlib.reload(gc)\n",
    "df = gc.getCorrectedConcentration(file, sheet)\n",
    "df_mean, df_err = gc.dataParse(df,chains)"
   ]
  },
  {
   "cell_type": "code",
   "execution_count": 37,
   "metadata": {
    "tags": []
   },
   "outputs": [
    {
     "data": {
      "image/png": "[encoded data removed]",
      "text/plain": [
       "<matplotlib.figure.Figure at 0x24f924ff2b0>"
      ]
     },
     "metadata": {},
     "output_type": "display_data"
    }
   ],
   "source": [
    "fig, ax = plt.subplots(figsize = (graphWidth, graphHeight))\n",
    "csfont = {'fontname':'Times New Roman'}\n",
    "colorwheel = ('olivedrab', 'orange', 'orange', 'indianred','indianred','blueviolet','blueviolet','palevioletred','palevioletred','skyblue','skyblue')\n",
    "plt.rcParams.update({'font.size': 14})\n",
    "plt.rcParams['axes.prop_cycle'] = cycler(color=colorwheel)\n",
    "\n",
    "ax = df_mean.plot.bar(ax = ax, stacked=True, edgecolor = 'k', width = barWidth, yerr = df_err)\n",
    "\n",
    "bars = ax.patches\n",
    "patterns = (['']*len(samples) + ['\\\\']*len(samples))*len(chains)\n",
    "for bar, pattern in zip(bars, patterns):\n",
    "    bar.set_hatch(pattern)\n",
    "    \n",
    "    \n",
    "plt.legend(bbox_to_anchor = [1,.5], loc='center left');\n",
    "plt.show()"
   ]
  },
  {
   "cell_type": "markdown",
   "metadata": {},
   "source": [
    "## Old"
   ]
  },
  {
   "cell_type": "code",
   "execution_count": 3,
   "metadata": {
    "collapsed": true,
    "jupyter": {
     "outputs_hidden": true
    },
    "tags": []
   },
   "outputs": [],
   "source": [
    "#this function arranges data into an appropriate matrix. correctedConc should be clean with no empty spaces\n",
    "def dataArrange(correctedConc, numTotSamples):\n",
    "    numChains = int(len(correctedConc)/numTotSamples)\n",
    "    rearranged = np.array(correctedConc).reshape((numTotSamples, numChains))\n",
    "    return rearranged.T, rearranged.T.shape"
   ]
  },
  {
   "cell_type": "code",
   "execution_count": 4,
   "metadata": {
    "collapsed": true,
    "jupyter": {
     "outputs_hidden": true
    },
    "tags": []
   },
   "outputs": [],
   "source": [
    "#Returns average and standard deviation data in the form of matricies\n",
    "def dataParse(rearranged, samples, numVials):\n",
    "    \n",
    "    #rearranged - the rearranged corrected concentration data table with each row corresponding to a chain length\n",
    "        #and each column corresponding to a sample vial i.e.\n",
    "        #\n",
    "        #         H204A-1  H204A-2  H204A-3    WT-1    WT-2    WT-3\n",
    "        #   C8 [[    #        #        #        #        #        #    ],\n",
    "        #  C10  [    #        #        #        #        #        #    ],\n",
    "        #  C12  [    #        #        #        #        #        #    ],\n",
    "        #  C14  [    #        #        #        #        #        #    ],\n",
    "        #  C16  [    #        #        #        #        #        #    ]]\n",
    "        #\n",
    "    #samples - list of each type of sample i.e. [H204A, WT]\n",
    "    #numVials - number of vials per sample in order of appearance i.e. [3, 3]\n",
    "    \n",
    "    numChains = int(len(rearranged[0])) #number of chain lengths testing for\n",
    "    avgMat = np.zeros((numChains, len(samples))) #matrix to store average data\n",
    "    stdevMat = np.zeros((numChains, len(samples))) #matrix to store stdev data\n",
    "\n",
    "    row_number = range(0,len(chains))\n",
    "    column_number = range(0,len(samples))\n",
    "\n",
    "    for r in row_number:\n",
    "        #print(rearranged[0][r])\n",
    "        for c in column_number:\n",
    "            avgMat[r,c] = np.mean(rearranged[0][r][c*3:(c*3)+3]) # rearranged is an array which is set up such that each row contains the concentration for a given chain length for all samples\n",
    "            stdevMat[r,c] = stats.sem(rearranged[0][r][(c*3):(c*3)+3])\n",
    "        \n",
    "    return avgMat,stdevMat"
   ]
  },
  {
   "cell_type": "code",
   "execution_count": 5,
   "metadata": {
    "collapsed": true,
    "jupyter": {
     "outputs_hidden": true
    }
   },
   "outputs": [],
   "source": [
    "#Creates stacked bar chart of chain length distributions\n",
    "def createBarChart (file, sheet, samples, numVials, chains, title, ylabel):\n",
    "    global avgMat\n",
    "    global rearranged\n",
    "    \n",
    "    \n",
    "    csfont = {'fontname':'Times New Roman'}\n",
    "    colorwheel = ('olivedrab', 'orange', 'orange', 'indianred','indianred','blueviolet','blueviolet','palevioletred','palevioletred','skyblue','skyblue')\n",
    "    #get concentration data from excel sheet\n",
    "    concData = getCorrectedConcentration(file,sheet)\n",
    "    #arrange data into more managable rows and columns\n",
    "    rearranged = dataArrange(concData, sum(numVials))\n",
    "    \n",
    "    #get mean and standard deviation data\n",
    "    avgMat, stdevMat = dataParse(rearranged, samples, numVials)\n",
    "    df_avg = pd.DataFrame(avgMat, columns=samples)\n",
    "    df_std = pd.DataFrame(stdevMat, columns=samples)\n",
    "    \n",
    "    #NEW!! (11/25/20) Calculate totals for percent stacked bar chart\n",
    "    total = avgMat.sum(axis = 0)\n",
    "    scaledMat = np.transpose(np.true_divide(avgMat, total)*100)\n",
    "    df_scaled = pd.DataFrame(scaledMat, index=samples, columns=chains)\n",
    "\n",
    "    #plot data\n",
    "    %matplotlib inline\n",
    "    N = len(samples)\n",
    "    ind = np.arange(N)\n",
    "    firstMean = df_avg.loc[0,:]\n",
    "    firstStd = df_std.loc[0,:]\n",
    "    plt.figure(figsize=(graphWidth,graphHeight))\n",
    "    plt.rcParams.update({'font.size': 14})\n",
    "    plt.rcParams['axes.prop_cycle'] = cycler(color=colorwheel)\n",
    "    fistplot = plt.bar(ind, firstMean, width=barWidth, yerr=firstStd, label=chains[0], edgecolor = 'k')\n",
    "    sumMeans = [0]*len(samples)\n",
    "    for chain in range(1,len(chains)):\n",
    "        chainMean = df_avg.loc[chain,:]\n",
    "        prevChainMean = df_avg.loc[chain-1,:]\n",
    "        for i in range(len(sumMeans)):\n",
    "            sumMeans[i] = sumMeans[i] + prevChainMean[i]\n",
    "        chainStd = df_std.loc[chain,:]\n",
    "        if chain%2 == True:\n",
    "            plt.bar(ind, chainMean, width=barWidth, bottom=sumMeans, yerr=chainStd, label=chains[chain], hatch = \"\\\\\", edgecolor = 'k')\n",
    "        else:\n",
    "            plt.bar(ind, chainMean, width=barWidth, bottom=sumMeans, yerr=chainStd, label=chains[chain], edgecolor = 'k')\n",
    "    plt.xticks(ind,samples, rotation = 45)\n",
    "    plt.yticks(np.arange(0,1200,200))\n",
    "    plt.legend(bbox_to_anchor = [1,.5], loc='center left')\n",
    "    plt.suptitle(title)\n",
    "    plt.ylabel(ylabel)\n",
    "    plt.show\n",
    "    plt.savefig('Banerjee_Jindra_Fig6', bbox_inches = \"tight\", dpi = 500)\n",
    "    \n",
    "    \n",
    "    #NEW!! (11/25/20) plot scaled bar chart\n",
    "    scaled = df_scaled.plot(kind = 'bar', \n",
    "                            stacked = True, \n",
    "                            rot = 45, #xaxis label rotation\n",
    "                            figsize=(graphWidth, graphHeight), \n",
    "                            title = title + \" Distribution\",\n",
    "                            width = barWidth)\n",
    "    \n",
    "    scaled.legend(bbox_to_anchor = [1,.5], loc='center left')\n",
    "    scaled.set_ylabel('Product Distribution')  "
   ]
  },
  {
   "cell_type": "code",
   "execution_count": 26,
   "metadata": {
    "collapsed": true,
    "jupyter": {
     "outputs_hidden": true
    },
    "tags": []
   },
   "outputs": [],
   "source": [
    "#returns clean list of corrected concentrations from an excel file\n",
    "def getCorrectedConcentration (file, sheet):\n",
    "    wb = openpyxl.load_workbook(file)\n",
    "    df = pd.read_excel(file, sheetname=sheet)\n",
    "    correctedConc = []\n",
    "    title = \"-\".join(df[0][0].split('-')[:-1])\n",
    "    for i in df.index:\n",
    "        conc = df['Corrected Concentration'][i]\n",
    "        sample = df[0][i] if isinstance(df[0][i], float) or isinstance(df[0][i], int) else \"-\".join(df[0][i].split('-')[:-1])\n",
    "        if isinstance(sample, str) and sample != '':\n",
    "            title = sample\n",
    "        if title in samples and isinstance(conc, float) and not math.isnan(conc): #math.isnan returns True if conc is nan\n",
    "            correctedConc.append(conc)\n",
    "    print(len(correctedConc))\n",
    "    return correctedConc"
   ]
  },
  {
   "cell_type": "code",
   "execution_count": 27,
   "metadata": {
    "tags": []
   },
   "outputs": [
    {
     "name": "stdout",
     "output_type": "stream",
     "text": [
      "240\n"
     ]
    },
    {
     "data": {
      "image/png": "[encoded data removed]",
      "text/plain": [
       "<matplotlib.figure.Figure at 0x1bf59dba9b0>"
      ]
     },
     "metadata": {},
     "output_type": "display_data"
    },
    {
     "data": {
      "image/png": "[encoded data removed]",
      "text/plain": [
       "<matplotlib.figure.Figure at 0x1bf581025c0>"
      ]
     },
     "metadata": {},
     "output_type": "display_data"
    }
   ],
   "source": [
    "createBarChart(file, sheet, samples, numVials, chains, title, ylabel)"
   ]
  },
  {
   "cell_type": "code",
   "execution_count": 41,
   "metadata": {
    "collapsed": true,
    "jupyter": {
     "outputs_hidden": true
    }
   },
   "outputs": [],
   "source": [
    "\n",
    "row_number = range(0,len(chains))\n",
    "column_number = range(0,len(samples))\n",
    "sample_number = range(0,len(samples*3))\n",
    "avgPerMat = np.zeros((len(chains), len(samples))) #matrix to store average data\n",
    "stdErrPerMat = np.zeros((len(chains), len(samples))) #matrix to store std error data\n",
    "rearranged_per = np.zeros((len(chains), len(samples)*3))\n",
    "combinedMat = np.zeros((len(chains), len(samples)), dtype = 'object')\n",
    "\n",
    "TotTit = np.zeros((len(samples*3)))\n",
    "avgTotTit = np.zeros((len(samples)))\n",
    "stdErrTotTit = np.zeros((len(samples)))\n",
    "combinedTotTit = np.zeros((len(samples)), dtype = 'object')\n",
    "\n",
    "\n",
    "for s in sample_number:\n",
    "    rearranged_sum = rearranged[0][:,s].sum()\n",
    "    TotTit[s] = rearranged_sum\n",
    "    rearranged_per_slice = rearranged[0][:,s]/rearranged_sum\n",
    "    rearranged_per[:,s] = rearranged_per_slice # creates matrix like rearranged but every entry is a percent of total titer, each column is one sample, each row is a different chain length\n",
    "    \n",
    "for r in row_number:\n",
    "    for c in column_number:\n",
    "        avgPerMat[r,c] = round(np.mean(rearranged_per[r][(c*3):(c*3)+3]),4)*100 # rearranged is an array which is set up such that each row contains the concentration for a given chain length for all samples\n",
    "        stdErrPerMat[r,c] = round((stats.sem(rearranged_per[r][(c*3):(c*3)+3])),4)*100\n",
    "        #stdErrPerMat[r,c] = (np.std(rearranged_per[r][(c*3):(c*3)+3]))/np.sqrt(3)\n",
    "        avgTotTit[c] = round(np.mean(TotTit[c*3:(c*3)+3]),4)\n",
    "        stdErrTotTit[c] = round(stats.sem(TotTit[c*3:(c*3)+3]),4)\n",
    "\n",
    "for r in row_number:\n",
    "    for c in column_number:\n",
    "        #avgPerMat[r,c] = str(avgPerMat[r,c])\n",
    "        #stdErrPerMat[r,c] = str(stdErrPerMat[r,c])\n",
    "        waxednvaxed = (str(avgPerMat[r,c])[:5], str(stdErrPerMat[r,c])[:5])\n",
    "        hotgrlsummer = ((str(avgTotTit[c]))[:5], str(stdErrTotTit[c])[:4])\n",
    "        #print(waxednvaxed)\n",
    "        combinedMat_entry = \"±\".join(waxednvaxed)\n",
    "        combinedMat[r,c] = combinedMat_entry\n",
    "        \n",
    "        combinedTotTit_entry = '±'.join(hotgrlsummer)\n",
    "        combinedTotTit[c] = combinedTotTit_entry\n",
    "\n",
    "combinedMat = combinedMat.T\n",
    "#combinedTotTit = combinedTotTit.T\n",
    "\n",
    "combinedMat = np.column_stack((combinedMat,combinedTotTit))\n"
   ]
  },
  {
   "cell_type": "code",
   "execution_count": 42,
   "metadata": {},
   "outputs": [
    {
     "data": {
      "text/plain": [
       "array([   1.72529615,    6.92860621,   62.57831108,  368.53015496,\n",
       "         44.74603862,   21.29241481,    6.16974786,   25.68683167,\n",
       "         32.72884582,    1.98813936])"
      ]
     },
     "execution_count": 42,
     "metadata": {},
     "output_type": "execute_result"
    }
   ],
   "source": [
    "rearranged[0][:,0]"
   ]
  },
  {
   "cell_type": "code",
   "execution_count": 43,
   "metadata": {},
   "outputs": [
    {
     "data": {
      "text/plain": [
       "array([ 18.3971,  12.1701,  51.8766,  18.5868,   5.0187,   5.223 ,\n",
       "         6.0721,  20.3692])"
      ]
     },
     "execution_count": 43,
     "metadata": {},
     "output_type": "execute_result"
    }
   ],
   "source": [
    "stdErrTotTit"
   ]
  },
  {
   "cell_type": "code",
   "execution_count": 44,
   "metadata": {},
   "outputs": [
    {
     "data": {
      "text/html": [
       "<div>\n",
       "<style>\n",
       "    .dataframe thead tr:only-child th {\n",
       "        text-align: right;\n",
       "    }\n",
       "\n",
       "    .dataframe thead th {\n",
       "        text-align: left;\n",
       "    }\n",
       "\n",
       "    .dataframe tbody tr th {\n",
       "        vertical-align: top;\n",
       "    }\n",
       "</style>\n",
       "<table border=\"1\" class=\"dataframe\">\n",
       "  <thead>\n",
       "    <tr style=\"text-align: right;\">\n",
       "      <th></th>\n",
       "      <th>0</th>\n",
       "      <th>1</th>\n",
       "      <th>2</th>\n",
       "      <th>3</th>\n",
       "      <th>4</th>\n",
       "      <th>5</th>\n",
       "      <th>6</th>\n",
       "      <th>7</th>\n",
       "      <th>8</th>\n",
       "      <th>9</th>\n",
       "      <th>10</th>\n",
       "    </tr>\n",
       "  </thead>\n",
       "  <tbody>\n",
       "    <tr>\n",
       "      <th>0</th>\n",
       "      <td>0.31±0.01</td>\n",
       "      <td>1.27±0.04</td>\n",
       "      <td>11.51±0.4</td>\n",
       "      <td>64.82±0.26</td>\n",
       "      <td>7.85±0.03</td>\n",
       "      <td>3.54±0.11</td>\n",
       "      <td>1.0±0.05</td>\n",
       "      <td>4.18±0.2</td>\n",
       "      <td>5.18±0.33</td>\n",
       "      <td>0.33±0.01</td>\n",
       "      <td>537.4±18.3</td>\n",
       "    </tr>\n",
       "    <tr>\n",
       "      <th>1</th>\n",
       "      <td>0.3±0.01</td>\n",
       "      <td>1.52±0.02</td>\n",
       "      <td>12.67±0.11</td>\n",
       "      <td>62.33±0.3</td>\n",
       "      <td>8.06±0.05</td>\n",
       "      <td>3.88±0.05</td>\n",
       "      <td>1.27±0.03</td>\n",
       "      <td>4.14±0.05</td>\n",
       "      <td>5.54±0.11</td>\n",
       "      <td>0.3±0.0</td>\n",
       "      <td>603.5±12.1</td>\n",
       "    </tr>\n",
       "    <tr>\n",
       "      <th>2</th>\n",
       "      <td>0.45±0.05</td>\n",
       "      <td>0.66±0.03</td>\n",
       "      <td>6.89±0.77</td>\n",
       "      <td>56.89±2.2</td>\n",
       "      <td>6.18±1.24</td>\n",
       "      <td>5.1±0.15</td>\n",
       "      <td>1.24±0.1</td>\n",
       "      <td>12.12±2.61</td>\n",
       "      <td>9.58±1.15</td>\n",
       "      <td>0.89±0.18</td>\n",
       "      <td>336.2±51.8</td>\n",
       "    </tr>\n",
       "    <tr>\n",
       "      <th>3</th>\n",
       "      <td>0.5±0.01</td>\n",
       "      <td>0.33±0.0</td>\n",
       "      <td>5.83±0.06</td>\n",
       "      <td>41.4±0.05</td>\n",
       "      <td>12.4±0.17</td>\n",
       "      <td>15.19±0.03</td>\n",
       "      <td>6.85±0.03</td>\n",
       "      <td>11.29±0.09</td>\n",
       "      <td>5.58±0.12</td>\n",
       "      <td>0.64±0.01</td>\n",
       "      <td>454.1±18.5</td>\n",
       "    </tr>\n",
       "    <tr>\n",
       "      <th>4</th>\n",
       "      <td>1.58±0.01</td>\n",
       "      <td>0.0±0.0</td>\n",
       "      <td>0.0±0.0</td>\n",
       "      <td>2.21±0.11</td>\n",
       "      <td>0.15±0.15</td>\n",
       "      <td>5.49±0.43</td>\n",
       "      <td>6.47±0.96</td>\n",
       "      <td>61.08±2.21</td>\n",
       "      <td>19.99±1.94</td>\n",
       "      <td>3.02±0.09</td>\n",
       "      <td>95.00±5.01</td>\n",
       "    </tr>\n",
       "    <tr>\n",
       "      <th>5</th>\n",
       "      <td>0.31±0.01</td>\n",
       "      <td>0.98±0.16</td>\n",
       "      <td>9.69±0.92</td>\n",
       "      <td>62.36±1.09</td>\n",
       "      <td>8.22±0.18</td>\n",
       "      <td>4.37±0.41</td>\n",
       "      <td>1.1±0.01</td>\n",
       "      <td>5.82±0.82</td>\n",
       "      <td>6.72±0.69</td>\n",
       "      <td>0.44±0.05</td>\n",
       "      <td>501.6±5.22</td>\n",
       "    </tr>\n",
       "    <tr>\n",
       "      <th>6</th>\n",
       "      <td>23.95±0.13</td>\n",
       "      <td>4.59±0.04</td>\n",
       "      <td>21.82±0.08</td>\n",
       "      <td>22.23±0.09</td>\n",
       "      <td>0.0±0.0</td>\n",
       "      <td>23.0±0.14</td>\n",
       "      <td>0.0±0.0</td>\n",
       "      <td>4.33±0.01</td>\n",
       "      <td>0.0±0.0</td>\n",
       "      <td>0.07±0.0</td>\n",
       "      <td>969.0±6.07</td>\n",
       "    </tr>\n",
       "    <tr>\n",
       "      <th>7</th>\n",
       "      <td>0.3±0.01</td>\n",
       "      <td>1.29±0.04</td>\n",
       "      <td>11.56±0.42</td>\n",
       "      <td>64.77±0.35</td>\n",
       "      <td>7.87±0.02</td>\n",
       "      <td>3.57±0.13</td>\n",
       "      <td>0.98±0.06</td>\n",
       "      <td>4.22±0.25</td>\n",
       "      <td>5.11±0.37</td>\n",
       "      <td>0.35±0.03</td>\n",
       "      <td>522.4±20.3</td>\n",
       "    </tr>\n",
       "  </tbody>\n",
       "</table>\n",
       "</div>"
      ],
      "text/plain": [
       "           0          1           2           3          4           5   \\\n",
       "0   0.31±0.01  1.27±0.04   11.51±0.4  64.82±0.26  7.85±0.03   3.54±0.11   \n",
       "1    0.3±0.01  1.52±0.02  12.67±0.11   62.33±0.3  8.06±0.05   3.88±0.05   \n",
       "2   0.45±0.05  0.66±0.03   6.89±0.77   56.89±2.2  6.18±1.24    5.1±0.15   \n",
       "3    0.5±0.01   0.33±0.0   5.83±0.06   41.4±0.05  12.4±0.17  15.19±0.03   \n",
       "4   1.58±0.01    0.0±0.0     0.0±0.0   2.21±0.11  0.15±0.15   5.49±0.43   \n",
       "5   0.31±0.01  0.98±0.16   9.69±0.92  62.36±1.09  8.22±0.18   4.37±0.41   \n",
       "6  23.95±0.13  4.59±0.04  21.82±0.08  22.23±0.09    0.0±0.0   23.0±0.14   \n",
       "7    0.3±0.01  1.29±0.04  11.56±0.42  64.77±0.35  7.87±0.02   3.57±0.13   \n",
       "\n",
       "          6           7           8          9           10  \n",
       "0   1.0±0.05    4.18±0.2   5.18±0.33  0.33±0.01  537.4±18.3  \n",
       "1  1.27±0.03   4.14±0.05   5.54±0.11    0.3±0.0  603.5±12.1  \n",
       "2   1.24±0.1  12.12±2.61   9.58±1.15  0.89±0.18  336.2±51.8  \n",
       "3  6.85±0.03  11.29±0.09   5.58±0.12  0.64±0.01  454.1±18.5  \n",
       "4  6.47±0.96  61.08±2.21  19.99±1.94  3.02±0.09  95.00±5.01  \n",
       "5   1.1±0.01   5.82±0.82   6.72±0.69  0.44±0.05  501.6±5.22  \n",
       "6    0.0±0.0   4.33±0.01     0.0±0.0   0.07±0.0  969.0±6.07  \n",
       "7  0.98±0.06   4.22±0.25   5.11±0.37  0.35±0.03  522.4±20.3  "
      ]
     },
     "execution_count": 44,
     "metadata": {},
     "output_type": "execute_result"
    }
   ],
   "source": [
    "pd.DataFrame(combinedMat)"
   ]
  },
  {
   "cell_type": "code",
   "execution_count": 50,
   "metadata": {
    "collapsed": true,
    "jupyter": {
     "outputs_hidden": true
    }
   },
   "outputs": [],
   "source": [
    "filename = 'GCData_TE_ML.xlsx'\n",
    "wb = openpyxl.load_workbook(filename)\n",
    "sheet1 = ''\n",
    "sheet1 = wb.create_sheet('final_output')\n",
    "\n",
    "for line in combinedMat:\n",
    "    line = line.tolist()\n",
    "    sheet1.append(line)\n",
    "      \n",
    "wb.save(filename)"
   ]
  },
  {
   "cell_type": "code",
   "execution_count": 15,
   "metadata": {},
   "outputs": [
    {
     "ename": "NameError",
     "evalue": "name 'avgMat' is not defined",
     "output_type": "error",
     "traceback": [
      "\u001b[1;31m---------------------------------------------------------------------------\u001b[0m",
      "\u001b[1;31mNameError\u001b[0m                                 Traceback (most recent call last)",
      "\u001b[1;32m<ipython-input-15-453909c87459>\u001b[0m in \u001b[0;36m<module>\u001b[1;34m\u001b[0m\n\u001b[1;32m----> 1\u001b[1;33m \u001b[0mavgMat\u001b[0m\u001b[1;33m\u001b[0m\u001b[1;33m\u001b[0m\u001b[0m\n\u001b[0m",
      "\u001b[1;31mNameError\u001b[0m: name 'avgMat' is not defined"
     ]
    }
   ],
   "source": [
    "avgMat"
   ]
  },
  {
   "cell_type": "code",
   "execution_count": 18,
   "metadata": {},
   "outputs": [
    {
     "name": "stdout",
     "output_type": "stream",
     "text": [
      "[[ 0.  0.]\n",
      " [ 0.  0.]\n",
      " [ 0.  0.]\n",
      " [ 0.  0.]\n",
      " [ 0.  0.]\n",
      " [ 0.  0.]\n",
      " [ 0.  0.]\n",
      " [ 0.  0.]]\n"
     ]
    }
   ],
   "source": [
    "num_Exp = len(samples)\n",
    "library_summary = np.zeros((num_Exp,2)) \n",
    "print(library_summary)"
   ]
  },
  {
   "cell_type": "code",
   "execution_count": 19,
   "metadata": {
    "collapsed": true,
    "jupyter": {
     "outputs_hidden": true
    }
   },
   "outputs": [],
   "source": [
    "# Populate library_summary array with C12 fraction and total titer\n",
    "\n",
    "for sample in range(0,num_Exp):\n",
    "    titer = 0\n",
    "    for analyte in avgMat:\n",
    "        titer = titer + analyte[sample]\n",
    "        \n",
    "    library_summary[sample, 1] = titer\n",
    "    \n",
    "\n",
    "# Populate library_summary array with C12 fraction and total titer\n",
    "\n",
    "for sample in range(0,num_Exp):\n",
    "    C14_titer = 0\n",
    "    C12_titer = 0\n",
    "    titer = 0\n",
    "    counter = 1\n",
    "    for analyte in avgMat[2:6]: #looking at C12 and C14 fractions only\n",
    "        if counter < 3:\n",
    "            C12_titer = C12_titer + analyte[sample]\n",
    "        \n",
    "        elif counter >= 3:\n",
    "            C14_titer = C14_titer + analyte[sample]\n",
    "            \n",
    "        counter = counter+1\n",
    "    \n",
    "    ratio = C12_titer/C14_titer\n",
    "    library_summary[sample, 0] = ratio"
   ]
  },
  {
   "cell_type": "code",
   "execution_count": 20,
   "metadata": {},
   "outputs": [
    {
     "data": {
      "text/plain": [
       "array([[  7.51056897e+00,   4.26143881e+02],\n",
       "       [  1.98997024e+00,   7.86335201e+01],\n",
       "       [  6.57891171e+00,   6.53396050e+02],\n",
       "       [  8.89866550e+00,   5.56050297e+02],\n",
       "       [  2.94674350e+00,   1.21940844e+02],\n",
       "       [  4.19909725e-01,   1.06243614e+02],\n",
       "       [  1.72996001e+00,   9.67192586e+02],\n",
       "       [  5.32917048e+00,   6.84548957e+02]])"
      ]
     },
     "execution_count": 20,
     "metadata": {},
     "output_type": "execute_result"
    }
   ],
   "source": [
    "library_summary"
   ]
  },
  {
   "cell_type": "code",
   "execution_count": 21,
   "metadata": {},
   "outputs": [
    {
     "data": {
      "text/plain": [
       "array([[  7.50000000e+00,   4.26100000e+02],\n",
       "       [  1.90000000e+00,   7.86000000e+01],\n",
       "       [  6.50000000e+00,   6.53400000e+02],\n",
       "       [  8.90000000e+00,   5.56000000e+02],\n",
       "       [  2.90000000e+00,   1.21900000e+02],\n",
       "       [  4.00000000e-01,   1.06200000e+02],\n",
       "       [  1.70000000e+00,   9.67100000e+02],\n",
       "       [  5.30000000e+00,   6.84500000e+02]])"
      ]
     },
     "execution_count": 21,
     "metadata": {},
     "output_type": "execute_result"
    }
   ],
   "source": [
    "a = np.round(library_summary,2)\n",
    "np.trunc(a*10**1)/(10**1)"
   ]
  },
  {
   "cell_type": "code",
   "execution_count": 72,
   "metadata": {
    "collapsed": true,
    "jupyter": {
     "outputs_hidden": true
    }
   },
   "outputs": [],
   "source": [
    "#Phase 1: Put distribution data into excel\n",
    "\n",
    "wb = openpyxl.load_workbook('GCData_mutants-Nov19-21 w Conc Data.xlsx')\n",
    "\n",
    "sheet_output = wb['Table']"
   ]
  },
  {
   "cell_type": "code",
   "execution_count": 73,
   "metadata": {
    "collapsed": true,
    "jupyter": {
     "outputs_hidden": true
    }
   },
   "outputs": [],
   "source": [
    "x = ['C12:C14 ratio']\n",
    "for row in a:\n",
    "    x.append(row[0])"
   ]
  },
  {
   "cell_type": "code",
   "execution_count": 74,
   "metadata": {
    "collapsed": true,
    "jupyter": {
     "outputs_hidden": true
    }
   },
   "outputs": [],
   "source": [
    "sheet_output.append(x)"
   ]
  },
  {
   "cell_type": "code",
   "execution_count": 75,
   "metadata": {
    "collapsed": true,
    "jupyter": {
     "outputs_hidden": true
    }
   },
   "outputs": [],
   "source": [
    "y = ['titer']\n",
    "for row in a:\n",
    "    y.append(row[1])"
   ]
  },
  {
   "cell_type": "code",
   "execution_count": 76,
   "metadata": {
    "collapsed": true,
    "jupyter": {
     "outputs_hidden": true
    }
   },
   "outputs": [],
   "source": [
    "sheet_output.append(y)"
   ]
  },
  {
   "cell_type": "code",
   "execution_count": 22,
   "metadata": {
    "collapsed": true,
    "jupyter": {
     "outputs_hidden": true
    }
   },
   "outputs": [],
   "source": [
    "# Populate library_summary array with C12 fraction and total titer\n",
    "\n",
    "for sample in range(0,num_Exp):\n",
    "    titer = 0\n",
    "    for analyte in avgMat:\n",
    "        titer = titer + analyte[sample]\n",
    "        \n",
    "    library_summary[sample, 1] = titer\n",
    "    \n",
    "\n",
    "# Populate library_summary array with C12 fraction and total titer\n",
    "\n",
    "for sample in range(0,num_Exp):\n",
    "    C12_titer = 0\n",
    "    titer = 0\n",
    "    counter = 1\n",
    "    for analyte in avgMat[2:6]:\n",
    "        if counter < 3:\n",
    "            C12_titer = C12_titer + analyte[sample]\n",
    "            \n",
    "        titer = titer + analyte[sample]\n",
    "        counter = counter+1\n",
    "    \n",
    "    C12_fraction = C12_titer/titer\n",
    "    library_summary[sample, 0] = C12_fraction"
   ]
  },
  {
   "cell_type": "code",
   "execution_count": 23,
   "metadata": {},
   "outputs": [
    {
     "data": {
      "text/plain": [
       "array([[  8.00000000e-01,   4.26100000e+02],\n",
       "       [  6.00000000e-01,   7.86000000e+01],\n",
       "       [  8.00000000e-01,   6.53400000e+02],\n",
       "       [  9.00000000e-01,   5.56000000e+02],\n",
       "       [  7.00000000e-01,   1.21900000e+02],\n",
       "       [  3.00000000e-01,   1.06200000e+02],\n",
       "       [  6.00000000e-01,   9.67100000e+02],\n",
       "       [  8.00000000e-01,   6.84500000e+02]])"
      ]
     },
     "execution_count": 23,
     "metadata": {},
     "output_type": "execute_result"
    }
   ],
   "source": [
    "a = np.round(library_summary,2)\n",
    "np.trunc(a*10**1)/(10**1)"
   ]
  },
  {
   "cell_type": "code",
   "execution_count": 79,
   "metadata": {
    "collapsed": true,
    "jupyter": {
     "outputs_hidden": true
    },
    "tags": []
   },
   "outputs": [],
   "source": [
    "z = ['C12 fraction']\n",
    "for row in a:\n",
    "    z.append(row[0])"
   ]
  },
  {
   "cell_type": "code",
   "execution_count": 81,
   "metadata": {
    "collapsed": true,
    "jupyter": {
     "outputs_hidden": true
    },
    "tags": []
   },
   "outputs": [],
   "source": [
    "sheet_output.append(z)"
   ]
  },
  {
   "cell_type": "code",
   "execution_count": 82,
   "metadata": {
    "collapsed": true,
    "jupyter": {
     "outputs_hidden": true
    },
    "tags": []
   },
   "outputs": [],
   "source": [
    "wb.save('GCData_mutants-Nov19-21 w Conc Data.xlsx')"
   ]
  },
  {
   "cell_type": "code",
   "execution_count": 83,
   "metadata": {
    "collapsed": true,
    "jupyter": {
     "outputs_hidden": true
    },
    "tags": []
   },
   "outputs": [],
   "source": [
    "sheet_output.append(samples)"
   ]
  },
  {
   "cell_type": "code",
   "execution_count": 84,
   "metadata": {
    "collapsed": true,
    "jupyter": {
     "outputs_hidden": true
    },
    "tags": []
   },
   "outputs": [],
   "source": [
    "wb.save('GCData_mutants-Nov19-21 w Conc Data.xlsx')"
   ]
  },
  {
   "cell_type": "code",
   "execution_count": null,
   "metadata": {
    "collapsed": true,
    "jupyter": {
     "outputs_hidden": true
    }
   },
   "outputs": [],
   "source": []
  }
 ],
 "metadata": {
  "kernelspec": {
   "display_name": "COBRA2",
   "language": "python",
   "name": "cobra2"
  },
  "language_info": {
   "codemirror_mode": {
    "name": "ipython",
    "version": 3
   },
   "file_extension": ".py",
   "mimetype": "text/x-python",
   "name": "python",
   "nbconvert_exporter": "python",
   "pygments_lexer": "ipython3",
   "version": "3.8.11"
  }
 },
 "nbformat": 4,
 "nbformat_minor": 4
}
