{
 "cells": [
  {
   "cell_type": "code",
   "execution_count": 1,
   "metadata": {
    "tags": []
   },
   "outputs": [],
   "source": [
    "import numpy as np\n",
    "import pandas as pd\n",
    "import numpy as np\n",
    "from numpy import array\n",
    "import matplotlib.pyplot as plt\n",
    "import math\n",
    "import openpyxl\n",
    "from statistics import * \n",
    "from cycler import cycler\n",
    "import scipy\n",
    "import scipy.stats\n",
    "from gcplot import gc\n",
    "import importlib\n",
    "from collections import Counter\n",
    "from datetime import datetime\n",
    "import os\n",
    "from openpyxl import load_workbook"
   ]
  },
  {
   "cell_type": "markdown",
   "metadata": {},
   "source": [
    "Note: If changes are made to the `gc` module, you need to add the following line to the cell you are working in to ensure those changes are reflected in this notebook. Simply re-importing the module will not work.\n",
    "\n",
    "    importlib.reload(gc)"
   ]
  },
  {
   "cell_type": "markdown",
   "metadata": {},
   "source": [
    "### Step 1: Enter file information here\n",
    "- Populate `file_list` with names of files in *chronological order* (newest first). If samples with the same names are detected, the samples in the newest files will override the samples in older files.    \n",
    "- Populate `sheet` with the name of the Excel sheet containing the corrected concentration data. This name should be the same across all Excel files.\n",
    "- Populate `remove_sample_list` and `remove_product_list` with names of samples and products that should be disregarded from all files (if desired).  Otherwise, leave as empty list(s)."
   ]
  },
  {
   "cell_type": "code",
   "execution_count": 2,
   "metadata": {
    "tags": []
   },
   "outputs": [],
   "source": [
    "file_list = [\n",
    "    'GCData_R227X w Conc Data - July 2021.xlsx',\n",
    "    'GCData_BTE_variants w Conc Data - June 2021.xlsx',\n",
    "    'GCData_BTE_variants w Conc Data - May 2021.xlsx',\n",
    "    'GCData_LP_FAME w Conc Data - Apr 2021.xlsx',\n",
    "    'GCData_Acid_FAME w Conc Data - Feb 2021.xlsx',\n",
    "    'GCData_Jan_2021 w Conc Data - Jan 2021.xlsx',\n",
    "    'GCData_KCM_mutants-R2 w Conc Data - Dec 2020.xlsx',\n",
    "    'GCData_M133X w Conc Data - Dec 2020.xlsx',\n",
    "    'GCData_mutants-Nov19-ext_std_refined w Conc Data - Nov 2020.xlsx',\n",
    "    'GCData-AM_mutantsKCM2 w Conc Data.xlsx',\n",
    "    'GCData-AM_mutantsKCM1 w Conc Data.xlsx',\n",
    "    'GCData-AM_mutants15-16 w Conc Data.xlsx',\n",
    "    'GCData-AM_mutants1-9 w Conc Data - Aug 2020.xlsx',\n",
    "    'GCData-SSM_mutants5-8 w Conc Data.xlsx',\n",
    "    'GCData-SSM_mutants1-4 w Conc Data.xlsx',\n",
    "    'GCData_mutants-Nov21 w Conc Data.xlsx'\n",
    "]\n",
    "\n",
    "sheet = 'Corrected Concentration'\n",
    "\n",
    "remove_sample_list = ['BTE-QE', 'BTE_AW', 'BTE_BP_Mut', 'BTE_WT', 'FAME', 'WT', 'WT_A', 'Neg', 'Neg_A','Rec']#, 'BTE', ]\n",
    "remove_product_list = ['C17:cp']"
   ]
  },
  {
   "cell_type": "markdown",
   "metadata": {},
   "source": [
    "- Run `gc.load_data` to get the corrected concentration data from each Excel file. \n",
    "- Set the `output` option to **`True`** to see which products and samples were detected from each file, or set to **`False`** to hide output.\n",
    "  - The products and samples in <span style=\"color:#ba4046\">red</span> are those that were removed from the dataframe as specified by `remove_product_list` and `remove_sample_list`, respectively.\n",
    "  - The samples in <span style=\"color:#b5821b\">yellow</span> are duplicates that have been overridden by a higher priority file.\n",
    "  - The samples in <span style=\"color:#2e8d4e\">green</span> are those that will have their data included in the analysis and visualiziation."
   ]
  },
  {
   "cell_type": "code",
   "execution_count": 3,
   "metadata": {},
   "outputs": [
    {
     "name": "stdout",
     "output_type": "stream",
     "text": [
      "\u001b[1mGCData_R227X w Conc Data - July 2021.xlsx\u001b[0m\n",
      "Detected products:      ['C8', 'C10:1', 'C10', 'C12:1', 'C12', 'C14:1', 'C14', 'C16:1', 'C16', 'C18:1', 'C18']\n",
      "Detected sample groups: ['\u001b[92mBTE\u001b[0m', '\u001b[91mBTE_AW\u001b[0m', '\u001b[92mH204A\u001b[0m', '\u001b[92mM133L_M222K_R227H\u001b[0m', '\u001b[92mM133L_M222K_R227H_AW\u001b[0m', '\u001b[92mR227A\u001b[0m', '\u001b[92mR227D\u001b[0m', '\u001b[92mR227F\u001b[0m', '\u001b[92mR227H\u001b[0m', '\u001b[91mRec\u001b[0m']\n",
      "\u001b[1mGCData_BTE_variants w Conc Data - June 2021.xlsx\u001b[0m\n",
      "Detected products:      ['C8', 'C10:1', 'C10', 'C12:1', 'C12', 'C14:1', 'C14', 'C16:1', 'C16', 'C18:1', 'C18']\n",
      "Detected sample groups: ['\u001b[93mBTE\u001b[0m', '\u001b[93mH204A\u001b[0m', '\u001b[92mKCM2\u001b[0m', '\u001b[92mKCM250\u001b[0m', '\u001b[92mKCM280\u001b[0m', '\u001b[92mKCM3\u001b[0m', '\u001b[92mKCM35\u001b[0m', '\u001b[92mKCM7\u001b[0m', '\u001b[91mRec\u001b[0m']\n",
      "\u001b[1mGCData_BTE_variants w Conc Data - May 2021.xlsx\u001b[0m\n",
      "Detected products:      ['C8', 'C10:1', 'C10', 'C12:1', 'C12', 'C14:1', 'C14', 'C16:1', 'C16', 'C18:1', 'C18']\n",
      "Detected sample groups: ['\u001b[93mBTE\u001b[0m', '\u001b[92mBTE_M133F_M222K\u001b[0m', '\u001b[92mBTE_M222K_R227H\u001b[0m']\n",
      "\u001b[1mGCData_LP_FAME w Conc Data - Apr 2021.xlsx\u001b[0m\n",
      "Detected products:      ['C8', 'C10:1', 'C10', 'C12:1', 'C12', 'C14:1', 'C14', 'C16:1', 'C16', 'C18:1', 'C18']\n",
      "Detected sample groups: ['\u001b[91mBTE_WT\u001b[0m', '\u001b[93mH204A\u001b[0m', '\u001b[92mBTE_LP_Mut\u001b[0m', '\u001b[91mBTE_BP_Mut\u001b[0m', '\u001b[91mRec\u001b[0m']\n",
      "\u001b[1mGCData_Acid_FAME w Conc Data - Feb 2021.xlsx\u001b[0m\n",
      "Detected products:      ['C8', 'C10', 'C12:1', 'C12', 'C14:1', 'C14', 'C16:1', 'C16', '\u001b[91mC17:cp\u001b[0m', 'C18:1', 'C18']\n",
      "Detected sample groups: ['\u001b[91mWT\u001b[0m', '\u001b[93mH204A\u001b[0m', '\u001b[92mM133L_M222K\u001b[0m', '\u001b[92mI269N\u001b[0m', '\u001b[92mM133L_M222K_I269N\u001b[0m']\n",
      "\u001b[1mGCData_Jan_2021 w Conc Data - Jan 2021.xlsx\u001b[0m\n",
      "Detected products:      ['C8', 'C10', 'C12:1', 'C12', 'C14:1', 'C14', 'C16:1', 'C16', 'C18:1', 'C18']\n",
      "Detected sample groups: ['\u001b[91mWT_A\u001b[0m', '\u001b[91mNeg_A\u001b[0m', '\u001b[92mM133L_M222K_A\u001b[0m', '\u001b[92mM163L\u001b[0m', '\u001b[92mM163L_R227Q\u001b[0m', '\u001b[92mQ_M222K\u001b[0m', '\u001b[92mQ_R227Q\u001b[0m']\n",
      "\u001b[1mGCData_KCM_mutants-R2 w Conc Data - Dec 2020.xlsx\u001b[0m\n",
      "Detected products:      ['C8', 'C10', 'C12:1', 'C12', 'C14:1', 'C14', 'C16:1', 'C16', 'C18:1', 'C18']\n",
      "Detected sample groups: ['\u001b[91mWT\u001b[0m', '\u001b[91mNeg\u001b[0m', '\u001b[92mKCM207\u001b[0m', '\u001b[92mKCM222\u001b[0m', '\u001b[92mKCM276\u001b[0m', '\u001b[92mKCM311\u001b[0m', '\u001b[92mKCM375\u001b[0m', '\u001b[91mRec\u001b[0m']\n",
      "\u001b[1mGCData_M133X w Conc Data - Dec 2020.xlsx\u001b[0m\n",
      "Detected products:      ['C8', 'C10', 'C12:1', 'C12', 'C14:1', 'C14', 'C16:1', 'C16', 'C18:1', 'C18', 'C10:1']\n",
      "Detected sample groups: ['\u001b[91mWT\u001b[0m', '\u001b[91mNeg\u001b[0m', '\u001b[93mM133L_M222K\u001b[0m', '\u001b[92mM133L\u001b[0m', '\u001b[92mM133F\u001b[0m', '\u001b[92mM133I\u001b[0m', '\u001b[92mM133V\u001b[0m', '\u001b[91mRec\u001b[0m']\n",
      "\u001b[1mGCData_mutants-Nov19-ext_std_refined w Conc Data - Nov 2020.xlsx\u001b[0m\n",
      "Detected products:      ['C8', 'C10', 'C12:1', 'C12', 'C14:1', 'C14', 'C16:1', 'C16', 'C18:1', 'C18', 'C10:1']\n",
      "Detected sample groups: ['\u001b[92mAM18\u001b[0m', '\u001b[92mAM19\u001b[0m', '\u001b[92mAM20\u001b[0m', '\u001b[91mFAME\u001b[0m', '\u001b[93mH204A\u001b[0m', '\u001b[93mI269N\u001b[0m', '\u001b[93mM133L\u001b[0m', '\u001b[92mM133L-I269N\u001b[0m', '\u001b[91mRec\u001b[0m', '\u001b[91mWT\u001b[0m']\n",
      "\u001b[1mGCData-AM_mutantsKCM2 w Conc Data.xlsx\u001b[0m\n",
      "Detected products:      ['C8', 'C10', 'C12:1', 'C12', 'C14:1', 'C14', 'C16:1', 'C16', 'C18:1', 'C18']\n",
      "Detected sample groups: ['\u001b[91mWT\u001b[0m', '\u001b[91mNeg\u001b[0m', '\u001b[92mKCM21\u001b[0m', '\u001b[92mKCM75\u001b[0m', '\u001b[91mRec\u001b[0m']\n",
      "\u001b[1mGCData-AM_mutantsKCM1 w Conc Data.xlsx\u001b[0m\n",
      "Detected products:      ['C8', 'C10', 'C12:1', 'C12', 'C14:1', 'C14', 'C16:1', 'C16', 'C18:1', 'C18']\n",
      "Detected sample groups: ['\u001b[91mWT\u001b[0m', '\u001b[91mNeg\u001b[0m', '\u001b[92mKCM114\u001b[0m', '\u001b[92mKCM116\u001b[0m', '\u001b[92mKCM272\u001b[0m', '\u001b[92mKCM414\u001b[0m', '\u001b[92mKCM55\u001b[0m', '\u001b[92mKCM77\u001b[0m', '\u001b[91mRec\u001b[0m']\n",
      "\u001b[1mGCData-AM_mutants15-16 w Conc Data.xlsx\u001b[0m\n",
      "Detected products:      ['C8', 'C10', 'C12:1', 'C12', 'C14:1', 'C14', 'C16:1', 'C16', 'C18:1', 'C18']\n",
      "Detected sample groups: ['\u001b[91mWT\u001b[0m', '\u001b[91mNeg\u001b[0m', '\u001b[92mAM15\u001b[0m', '\u001b[92mAM16\u001b[0m', '\u001b[91mRec\u001b[0m']\n",
      "\u001b[1mGCData-AM_mutants1-9 w Conc Data - Aug 2020.xlsx\u001b[0m\n",
      "Detected products:      ['C8', 'C10', 'C12:1', 'C12', 'C14:1', 'C14', 'C16:1', 'C16', 'C18:1', 'C18']\n",
      "Detected sample groups: ['\u001b[92mAM1\u001b[0m', '\u001b[92mAM2\u001b[0m', '\u001b[92mAM3\u001b[0m', '\u001b[92mAM4\u001b[0m', '\u001b[92mAM5\u001b[0m', '\u001b[92mAM6\u001b[0m', '\u001b[92mAM7\u001b[0m', '\u001b[92mAM8\u001b[0m', '\u001b[92mAM9\u001b[0m', '\u001b[91mNeg\u001b[0m', '\u001b[91mRec\u001b[0m', '\u001b[91mWT\u001b[0m']\n",
      "\u001b[1mGCData-SSM_mutants5-8 w Conc Data.xlsx\u001b[0m\n",
      "Detected products:      ['C8', 'C10', 'C12:1', 'C12', 'C14:1', 'C14', 'C16:1', 'C16', 'C18:1', 'C18']\n",
      "Detected sample groups: ['\u001b[91mWT\u001b[0m', '\u001b[91mNeg\u001b[0m', '\u001b[92mT137A\u001b[0m', '\u001b[92mH170A\u001b[0m', '\u001b[92mH170K\u001b[0m', '\u001b[92mM197H\u001b[0m', '\u001b[91mRec\u001b[0m']\n",
      "\u001b[1mGCData-SSM_mutants1-4 w Conc Data.xlsx\u001b[0m\n",
      "Detected products:      ['C8', 'C10', 'C12:1', 'C12', 'C14:1', 'C14', 'C16:1', 'C16', 'C18:1', 'C18']\n",
      "Detected sample groups: ['\u001b[91mBTE-QE\u001b[0m', '\u001b[92mH170E\u001b[0m', '\u001b[92mM197F\u001b[0m', '\u001b[92mM197V\u001b[0m', '\u001b[91mNeg\u001b[0m', '\u001b[92mR168A\u001b[0m', '\u001b[91mRec\u001b[0m', '\u001b[91mWT\u001b[0m']\n",
      "\u001b[1mGCData_mutants-Nov21 w Conc Data.xlsx\u001b[0m\n",
      "Detected products:      ['C8', 'C10', 'C12:1', 'C12', 'C14:1', 'C14', 'C16:1', 'C16', 'C18:1', 'C18', 'C10:1']\n",
      "Detected sample groups: ['\u001b[93mM133L_M222K\u001b[0m', '\u001b[92mM222K\u001b[0m', '\u001b[91mNeg\u001b[0m', '\u001b[91mWT\u001b[0m']\n",
      "\u001b[1mDone!\u001b[0m\n"
     ]
    }
   ],
   "source": [
    "importlib.reload(gc)\n",
    "master_df, master_sample_list, df_dict = gc.load_data(file_list, sheet, remove_sample_list, remove_product_list, output = True)"
   ]
  },
  {
   "cell_type": "markdown",
   "metadata": {},
   "source": [
    "### Step 2: Enter plotting information here\n",
    "- Populate `samples` with names of samples in the order you wish to plot data for. Set to **`None`** to plot all data.    \n",
    "- Populate `chains` with the names of the products in the order you wish to plot data for. Set to **`None`** to plot all products in the default order (alphanumeric).   "
   ]
  },
  {
   "cell_type": "code",
   "execution_count": 4,
   "metadata": {
    "tags": []
   },
   "outputs": [],
   "source": [
    "samples = ['BTE', 'H204A', 'KCM55']\n",
    "chains = ['C8', 'C10:1', 'C10', 'C12:1', 'C12', 'C14:1', 'C14', 'C16:1', 'C16', 'C18:1', 'C18']"
   ]
  },
  {
   "cell_type": "code",
   "execution_count": 5,
   "metadata": {},
   "outputs": [
    {
     "data": {
      "text/plain": [
       "66"
      ]
     },
     "execution_count": 5,
     "metadata": {},
     "output_type": "execute_result"
    }
   ],
   "source": [
    "len(master_df['Sample Group'].unique())"
   ]
  },
  {
   "cell_type": "markdown",
   "metadata": {},
   "source": [
    "- Enter plot formatting options here"
   ]
  },
  {
   "cell_type": "code",
   "execution_count": 6,
   "metadata": {
    "tags": []
   },
   "outputs": [],
   "source": [
    "title = 'Free fatty acid distribution of BTE variants' #graph title\n",
    "ylabel = 'mg/L FAME' #y axis label\n",
    "graphWidth = len(samples) #Default 6.0\n",
    "graphHeight = 4 #Default 4.0\n",
    "barWidth = 0.6 #Default 0.8\n",
    "legendLocation = 'upper left' #Default 'best' or Choose: 'upper right/center/left', 'lower right/center/left'\n",
    "plotDistribution = False\n",
    "\n",
    "csfont = {'fontname':'Times New Roman'}\n",
    "colorwheel = ('olivedrab', 'orange', 'orange', 'indianred','indianred','blueviolet','blueviolet','palevioletred','palevioletred','skyblue','skyblue')\n",
    "plt.rcParams.update({'font.size': 14})\n",
    "plt.rcParams['axes.prop_cycle'] = cycler(color=colorwheel)\n",
    "\n",
    "### Python Default\n",
    "#plt.rcParams[\"font.family\"] = 'DejaVu Sans'"
   ]
  },
  {
   "cell_type": "markdown",
   "metadata": {},
   "source": [
    "### Step 3: Analyze and visualize data"
   ]
  },
  {
   "cell_type": "code",
   "execution_count": 7,
   "metadata": {
    "tags": []
   },
   "outputs": [],
   "source": [
    "df_mean, df_scaled, df_err = gc.dataParse(master_df, samples, chains)\n",
    "summary_stats = gc.summary_stats(master_df, samples, chains)"
   ]
  },
  {
   "cell_type": "code",
   "execution_count": 8,
   "metadata": {},
   "outputs": [
    {
     "data": {
      "text/html": [
       "<div>\n",
       "<style scoped>\n",
       "    .dataframe tbody tr th:only-of-type {\n",
       "        vertical-align: middle;\n",
       "    }\n",
       "\n",
       "    .dataframe tbody tr th {\n",
       "        vertical-align: top;\n",
       "    }\n",
       "\n",
       "    .dataframe thead th {\n",
       "        text-align: right;\n",
       "    }\n",
       "</style>\n",
       "<table border=\"1\" class=\"dataframe\">\n",
       "  <thead>\n",
       "    <tr style=\"text-align: right;\">\n",
       "      <th>Products</th>\n",
       "      <th>C8</th>\n",
       "      <th>C10:1</th>\n",
       "      <th>C10</th>\n",
       "      <th>C12:1</th>\n",
       "      <th>C12</th>\n",
       "      <th>C14:1</th>\n",
       "      <th>C14</th>\n",
       "      <th>C16:1</th>\n",
       "      <th>C16</th>\n",
       "      <th>C18:1</th>\n",
       "      <th>C18</th>\n",
       "    </tr>\n",
       "    <tr>\n",
       "      <th>Sample Group</th>\n",
       "      <th></th>\n",
       "      <th></th>\n",
       "      <th></th>\n",
       "      <th></th>\n",
       "      <th></th>\n",
       "      <th></th>\n",
       "      <th></th>\n",
       "      <th></th>\n",
       "      <th></th>\n",
       "      <th></th>\n",
       "      <th></th>\n",
       "    </tr>\n",
       "  </thead>\n",
       "  <tbody>\n",
       "    <tr>\n",
       "      <th>BTE</th>\n",
       "      <td>1.598022</td>\n",
       "      <td>2.1175</td>\n",
       "      <td>8.895198</td>\n",
       "      <td>89.325796</td>\n",
       "      <td>488.118626</td>\n",
       "      <td>59.048217</td>\n",
       "      <td>24.572578</td>\n",
       "      <td>12.724098</td>\n",
       "      <td>22.665236</td>\n",
       "      <td>41.678700</td>\n",
       "      <td>1.184630</td>\n",
       "    </tr>\n",
       "    <tr>\n",
       "      <th>H204A</th>\n",
       "      <td>4.636901</td>\n",
       "      <td>0.0000</td>\n",
       "      <td>0.351488</td>\n",
       "      <td>0.000000</td>\n",
       "      <td>2.701066</td>\n",
       "      <td>0.262328</td>\n",
       "      <td>5.194794</td>\n",
       "      <td>6.636793</td>\n",
       "      <td>62.448644</td>\n",
       "      <td>17.252556</td>\n",
       "      <td>5.336504</td>\n",
       "    </tr>\n",
       "    <tr>\n",
       "      <th>KCM55</th>\n",
       "      <td>2.566350</td>\n",
       "      <td>NaN</td>\n",
       "      <td>6.932517</td>\n",
       "      <td>70.812963</td>\n",
       "      <td>383.943350</td>\n",
       "      <td>46.340595</td>\n",
       "      <td>19.514763</td>\n",
       "      <td>6.428295</td>\n",
       "      <td>18.040612</td>\n",
       "      <td>24.512894</td>\n",
       "      <td>1.408879</td>\n",
       "    </tr>\n",
       "  </tbody>\n",
       "</table>\n",
       "</div>"
      ],
      "text/plain": [
       "Products            C8   C10:1       C10      C12:1         C12      C14:1  \\\n",
       "Sample Group                                                                 \n",
       "BTE           1.598022  2.1175  8.895198  89.325796  488.118626  59.048217   \n",
       "H204A         4.636901  0.0000  0.351488   0.000000    2.701066   0.262328   \n",
       "KCM55         2.566350     NaN  6.932517  70.812963  383.943350  46.340595   \n",
       "\n",
       "Products            C14      C16:1        C16      C18:1       C18  \n",
       "Sample Group                                                        \n",
       "BTE           24.572578  12.724098  22.665236  41.678700  1.184630  \n",
       "H204A          5.194794   6.636793  62.448644  17.252556  5.336504  \n",
       "KCM55         19.514763   6.428295  18.040612  24.512894  1.408879  "
      ]
     },
     "execution_count": 8,
     "metadata": {},
     "output_type": "execute_result"
    }
   ],
   "source": [
    "df_mean"
   ]
  },
  {
   "cell_type": "code",
   "execution_count": 9,
   "metadata": {},
   "outputs": [],
   "source": [
    "ratios = []\n",
    "titers = []\n",
    "\n",
    "for i in range(len(samples)):\n",
    "    ratio = (df_mean.iat[i,3]+df_mean.iat[i,4])/(df_mean.iat[i,5]+df_mean.iat[i,6])\n",
    "    titer = sum(df_mean.iloc[i,:])\n",
    "    ratios.append(ratio)\n",
    "    titers.append(titer)"
   ]
  },
  {
   "cell_type": "code",
   "execution_count": 10,
   "metadata": {},
   "outputs": [],
   "source": [
    "num_Exp = len(samples)\n",
    "library_summary = np.zeros((num_Exp,3)) \n",
    "\n",
    "for sample_no, x, y in zip(range(num_Exp), ratios, titers):\n",
    "    library_summary[sample_no, 0] = x\n",
    "    library_summary[sample_no, 1] = y\n",
    "    \n",
    "        \n",
    "        \n"
   ]
  },
  {
   "cell_type": "code",
   "execution_count": 11,
   "metadata": {},
   "outputs": [
    {
     "data": {
      "text/plain": [
       "array([[6.900e+00, 7.519e+02, 0.000e+00],\n",
       "       [4.000e-01, 1.048e+02, 0.000e+00],\n",
       "       [6.900e+00,       nan, 0.000e+00]])"
      ]
     },
     "execution_count": 11,
     "metadata": {},
     "output_type": "execute_result"
    }
   ],
   "source": [
    "a = np.round(library_summary,2)\n",
    "np.trunc(a*10**1)/(10**1)"
   ]
  },
  {
   "cell_type": "code",
   "execution_count": 12,
   "metadata": {
    "tags": []
   },
   "outputs": [
    {
     "name": "stderr",
     "output_type": "stream",
     "text": [
      "C:\\Users\\Baopa\\Anaconda3\\envs\\FAME_w_stats\\lib\\site-packages\\numpy\\core\\_methods.py:44: RuntimeWarning: invalid value encountered in reduce\n",
      "  return umr_minimum(a, axis, None, out, keepdims, initial, where)\n",
      "C:\\Users\\Baopa\\Anaconda3\\envs\\FAME_w_stats\\lib\\site-packages\\numpy\\core\\_methods.py:40: RuntimeWarning: invalid value encountered in reduce\n",
      "  return umr_maximum(a, axis, None, out, keepdims, initial, where)\n"
     ]
    },
    {
     "data": {
      "image/png": "[encoded data removed]",
      "text/plain": [
       "<Figure size 216x288 with 1 Axes>"
      ]
     },
     "metadata": {
      "needs_background": "light"
     },
     "output_type": "display_data"
    }
   ],
   "source": [
    "fig, axs = plt.subplots(1, 1, figsize = (graphWidth, graphHeight))\n",
    "df_mean.plot.bar(ax = axs, stacked=True, edgecolor = 'k', width = barWidth, yerr = df_err, title = title)\n",
    "\n",
    "# After plotting, set the hatches such that the hatch pattern alternates\n",
    "gc.set_hatch(axs, df_mean.columns)\n",
    "\n",
    "# Plot formatting\n",
    "plt.setp(axs.get_xticklabels(), rotation=45, ha='right')\n",
    "axs.set_ylabel(ylabel)\n",
    "axs.set_xlabel('')\n",
    "# Show plot legend\n",
    "axs.legend(bbox_to_anchor = [1,.5], loc='center left');\n",
    "plt.show()"
   ]
  },
  {
   "cell_type": "code",
   "execution_count": 13,
   "metadata": {},
   "outputs": [
    {
     "data": {
      "image/png": "[encoded data removed]",
      "text/plain": [
       "<Figure size 216x288 with 1 Axes>"
      ]
     },
     "metadata": {
      "needs_background": "light"
     },
     "output_type": "display_data"
    }
   ],
   "source": [
    "fig, axs = plt.subplots(1, 1, figsize = (graphWidth, graphHeight))\n",
    "\n",
    "df_scaled.plot.bar(ax = axs, stacked=True, edgecolor = 'k', width = barWidth, title = title + ' (scaled)')\n",
    "\n",
    "# After plotting, set the hatches such that the hatch pattern alternates\n",
    "gc.set_hatch(axs, df_scaled.columns)\n",
    "\n",
    "# Plot formatting\n",
    "plt.setp(axs.get_xticklabels(), rotation=45, ha='right')\n",
    "axs.set_ylabel('Product Distribution')\n",
    "axs.set_xlabel('')\n",
    "# Show plot legend\n",
    "axs.legend(bbox_to_anchor = [1,.5], loc='center left');\n",
    "plt.show()"
   ]
  },
  {
   "cell_type": "code",
   "execution_count": 14,
   "metadata": {},
   "outputs": [
    {
     "data": {
      "text/html": [
       "<div>\n",
       "<style scoped>\n",
       "    .dataframe tbody tr th:only-of-type {\n",
       "        vertical-align: middle;\n",
       "    }\n",
       "\n",
       "    .dataframe tbody tr th {\n",
       "        vertical-align: top;\n",
       "    }\n",
       "\n",
       "    .dataframe thead th {\n",
       "        text-align: right;\n",
       "    }\n",
       "</style>\n",
       "<table border=\"1\" class=\"dataframe\">\n",
       "  <thead>\n",
       "    <tr style=\"text-align: right;\">\n",
       "      <th>Sample Group</th>\n",
       "      <th>BTE</th>\n",
       "      <th>H204A</th>\n",
       "      <th>KCM55</th>\n",
       "    </tr>\n",
       "    <tr>\n",
       "      <th>Products</th>\n",
       "      <th></th>\n",
       "      <th></th>\n",
       "      <th></th>\n",
       "    </tr>\n",
       "  </thead>\n",
       "  <tbody>\n",
       "    <tr>\n",
       "      <th>C18</th>\n",
       "      <td>0.001575</td>\n",
       "      <td>0.050911</td>\n",
       "      <td>0.002427</td>\n",
       "    </tr>\n",
       "    <tr>\n",
       "      <th>C18:1</th>\n",
       "      <td>0.055429</td>\n",
       "      <td>0.164591</td>\n",
       "      <td>0.042227</td>\n",
       "    </tr>\n",
       "    <tr>\n",
       "      <th>C16</th>\n",
       "      <td>0.030143</td>\n",
       "      <td>0.595764</td>\n",
       "      <td>0.031078</td>\n",
       "    </tr>\n",
       "    <tr>\n",
       "      <th>C16:1</th>\n",
       "      <td>0.016922</td>\n",
       "      <td>0.063315</td>\n",
       "      <td>0.011074</td>\n",
       "    </tr>\n",
       "    <tr>\n",
       "      <th>C14</th>\n",
       "      <td>0.032679</td>\n",
       "      <td>0.049559</td>\n",
       "      <td>0.033617</td>\n",
       "    </tr>\n",
       "    <tr>\n",
       "      <th>C14:1</th>\n",
       "      <td>0.078529</td>\n",
       "      <td>0.002503</td>\n",
       "      <td>0.079829</td>\n",
       "    </tr>\n",
       "    <tr>\n",
       "      <th>C12</th>\n",
       "      <td>0.649156</td>\n",
       "      <td>0.025768</td>\n",
       "      <td>0.661400</td>\n",
       "    </tr>\n",
       "    <tr>\n",
       "      <th>C12:1</th>\n",
       "      <td>0.118796</td>\n",
       "      <td>0.000000</td>\n",
       "      <td>0.121986</td>\n",
       "    </tr>\n",
       "    <tr>\n",
       "      <th>C10</th>\n",
       "      <td>0.011830</td>\n",
       "      <td>0.003353</td>\n",
       "      <td>0.011942</td>\n",
       "    </tr>\n",
       "    <tr>\n",
       "      <th>C10:1</th>\n",
       "      <td>0.002816</td>\n",
       "      <td>0.000000</td>\n",
       "      <td>NaN</td>\n",
       "    </tr>\n",
       "    <tr>\n",
       "      <th>C8</th>\n",
       "      <td>0.002125</td>\n",
       "      <td>0.044236</td>\n",
       "      <td>0.004421</td>\n",
       "    </tr>\n",
       "  </tbody>\n",
       "</table>\n",
       "</div>"
      ],
      "text/plain": [
       "Sample Group       BTE     H204A     KCM55\n",
       "Products                                  \n",
       "C18           0.001575  0.050911  0.002427\n",
       "C18:1         0.055429  0.164591  0.042227\n",
       "C16           0.030143  0.595764  0.031078\n",
       "C16:1         0.016922  0.063315  0.011074\n",
       "C14           0.032679  0.049559  0.033617\n",
       "C14:1         0.078529  0.002503  0.079829\n",
       "C12           0.649156  0.025768  0.661400\n",
       "C12:1         0.118796  0.000000  0.121986\n",
       "C10           0.011830  0.003353  0.011942\n",
       "C10:1         0.002816  0.000000       NaN\n",
       "C8            0.002125  0.044236  0.004421"
      ]
     },
     "execution_count": 14,
     "metadata": {},
     "output_type": "execute_result"
    }
   ],
   "source": [
    "df_scaled.T.iloc[::-1]"
   ]
  },
  {
   "cell_type": "markdown",
   "metadata": {},
   "source": [
    "### Step 4: Write summary table to Excel file\n",
    "- Set `save_to_file` and `save_to_sheet` to the file name and sheet name you wish to save the dataframe to, respectively.\n",
    "- To save to a new sheet in an existing summary file, set `save_to_file` to the name of the existing file and set `save_to_sheet` to a new sheet name, otherwise data in the existing sheet will be overwritten.\n",
    "- Set the `replace` option to **`True`** to replace an existing Excel file."
   ]
  },
  {
   "cell_type": "code",
   "execution_count": 15,
   "metadata": {},
   "outputs": [
    {
     "name": "stdout",
     "output_type": "stream",
     "text": [
      "The sheet name 'Table1' already exists in Summary Statistics.xlsx.\n",
      "Existing data in 'Table1' will be replaced with new data. Proceed? Yes/No: Yes\n",
      "Done!\n"
     ]
    }
   ],
   "source": [
    "save_to_file = 'Summary Statistics.xlsx'\n",
    "save_to_sheet = 'Table1'\n",
    "gc.save_df_to_excel(summary_stats, save_to_file, save_to_sheet, replace = False) "
   ]
  },
  {
   "cell_type": "code",
   "execution_count": null,
   "metadata": {
    "jupyter": {
     "outputs_hidden": true
    }
   },
   "outputs": [],
   "source": []
  },
  {
   "cell_type": "code",
   "execution_count": null,
   "metadata": {},
   "outputs": [],
   "source": []
  }
 ],
 "metadata": {
  "kernelspec": {
   "display_name": "Python [conda env:FAME_w_stats]",
   "language": "python",
   "name": "conda-env-FAME_w_stats-py"
  },
  "language_info": {
   "codemirror_mode": {
    "name": "ipython",
    "version": 3
   },
   "file_extension": ".py",
   "mimetype": "text/x-python",
   "name": "python",
   "nbconvert_exporter": "python",
   "pygments_lexer": "ipython3",
   "version": "3.8.12"
  }
 },
 "nbformat": 4,
 "nbformat_minor": 4
}
