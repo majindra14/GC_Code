{
 "cells": [
  {
   "cell_type": "code",
   "execution_count": 2,
   "metadata": {
    "collapsed": true
   },
   "outputs": [],
   "source": [
    "import pandas as pd\n",
    "import numpy as np\n",
    "from numpy import array\n",
    "import matplotlib.pyplot as plt\n",
    "import math\n",
    "import openpyxl\n",
    "from statistics import * "
   ]
  },
  {
   "cell_type": "code",
   "execution_count": 15,
   "metadata": {},
   "outputs": [
    {
     "name": "stdout",
     "output_type": "stream",
     "text": [
      "0  Chain Length Conc (mg/L) Peak Area Conc (mg/L) Peak Area Conc (mg/L)  \\\n",
      "1            C7          10     19664          50    102211         100   \n",
      "2            C8          10     12086          50     96901         100   \n",
      "3            C9          10     12220          50    109416         100   \n",
      "4           C10          10     11364          50    112460         100   \n",
      "5           C11          10     11354          50    121218         100   \n",
      "6           C12          10     11671          50    131328         100   \n",
      "7           C13          10     11474          50    140772         100   \n",
      "8           C14          10     15509          50    143713         100   \n",
      "9           C15          10     47410          50      1978         100   \n",
      "10          C16          10    136275          50    211310         100   \n",
      "11          C17          10         -          50         -         100   \n",
      "\n",
      "0  Peak Area Conc (mg/L) Peak Area Conc (mg/L) Peak Area  \n",
      "1       1828         500   1177901        2000   2522844  \n",
      "2          -         500   1232414        2000   2589475  \n",
      "3       2363         500   1323017        2000   2747118  \n",
      "4       2707         500   1295064        2000   2679104  \n",
      "5       4028         500   1342950        2000   2783594  \n",
      "6       6151         500   1417179        2000   2929293  \n",
      "7       8154         500   1494950        2000   3076296  \n",
      "8      14350         500   1547138        2000   3113534  \n",
      "9      37876         500      6028        2000     13376  \n",
      "10    139815         500   1526528        2000   3075718  \n",
      "11         -         500         -        2000         -  \n"
     ]
    }
   ],
   "source": [
    "#This code will parse through the Peak_ID worksheet and generate another worksheet in the same file called \"External_STD\"\n",
    "#with concentration and peak area data for C7, C8, ..., C17 arranged like so:\n",
    "#\n",
    "# Chain Length | Conc (mg/L) | Peak Area | Conc (mg/L) | Peak Area | Conc (mg/L) | Peak Area | Conc (mg/L) | Peak Area\n",
    "# _____________________________________________________________________________________________________________________\n",
    "#      C7      |    1000     |     #     |     500     |     #     |     100     |     #     |     25      |     #\n",
    "#      C8      |    1000     |     #     |     500     |     #     |     100     |     #     |     25      |     #\n",
    "#      ...     |    1000     |     #     |     500     |     #     |     100     |     #     |     25      |     #\n",
    "#      C17     |    1000     |     #     |     500     |     #     |     100     |     #     |     25      |     #\n",
    "#"
   ]
  },
  {
   "cell_type": "code",
   "execution_count": 16,
   "metadata": {
    "collapsed": true
   },
   "outputs": [],
   "source": [
    "def getExternalStdData(file, sheetname, area_col, chain_col, alc_acid_ID):\n",
    "    col = [area_col, chain_col]\n",
    "    wb = openpyxl.load_workbook(file)\n",
    "    sheet = wb[sheetname]\n",
    "    #create dataframe from relevant columns only\n",
    "    df = pd.read_excel(file, sheetname=sheetname, usecols = col, header = None)\n",
    "    #convert dataframe to array to allow array traversals\n",
    "    dfList = df.values.tolist()\n",
    "    #Master_dict will hold area and concentration data \n",
    "    Master_dict = {'C7':[], 'C8':[], 'C9':[], 'C10':[], 'C11':[], 'C12':[],\n",
    "                 'C13':[], 'C14':[], 'C15':[], 'C16':[], 'C17':[]}\n",
    "\n",
    "    # creates list of external standard title indicies (location of titles)\n",
    "    alc_acid_indicies = []\n",
    "    for i in range(len(dfList)):\n",
    "        name = dfList[i][1]\n",
    "        if name[0:name.find('-')] == alc_acid_ID:\n",
    "            alc_acid_indicies.append(i)\n",
    "    \n",
    "    conc_array = []\n",
    "    titleTypes = ['Peak#', 'R.Time', 'I.Time', 'F.Time', 'Area', 'Height']\n",
    "    # start adding to master matrix here using indicies of titles\n",
    "    for i in alc_acid_indicies:\n",
    "        #find the position right before the start of a new set of data as indicated by a string\n",
    "        endindex = i\n",
    "        for k in range(len(dfList[i:len(dfList)])):\n",
    "            endindex+=1\n",
    "            testVar = dfList[endindex][0]\n",
    "            if(isinstance(testVar,str) and testVar not in titleTypes):\n",
    "                break\n",
    "        #parse title to find concentration (gets the number after '-' in the title) and add to conc_array and sort\n",
    "        conc = dfList[i][1][dfList[i][1].find('-')+1:len(dfList[i][1])]\n",
    "        conc_array.append(int(conc))\n",
    "        conc_array.sort()\n",
    "        #for each chain, add the concentration and area data to the Master dictionary\n",
    "        for j in range(endindex-i):\n",
    "            if(isinstance(dfList[i+j][0], int)):\n",
    "                conc_and_area = [conc, dfList[i+j][0]]\n",
    "                Master_dict[dfList[i+j][1]].append(conc_and_area)\n",
    "    \n",
    "    #create master matrix holding arrays of area values\n",
    "    num_conc, num_chain = len(conc_array), len(Master_dict);\n",
    "    Master = [[0 for x in range(num_conc*2+1)] for y in range(num_chain+1)]\n",
    "    \n",
    "    #populate column titles\n",
    "    Master[0][0] = 'Chain Length'\n",
    "    for i in range(1, num_conc*2+1):\n",
    "        if i%2==0:\n",
    "            Master[0][i] = 'Peak Area'\n",
    "        else:\n",
    "            Master[0][i] = 'Conc (mg/L)'\n",
    "    \n",
    "    #create matrix with desired layout as seen in Cell 2\n",
    "    chain_iterator = 1\n",
    "    for chain in Master_dict:\n",
    "        conc_iterator = 1\n",
    "        #label first column with chain\n",
    "        Master[chain_iterator][0] = chain\n",
    "        for conc in conc_array:\n",
    "            area = []\n",
    "            #search for correct area data\n",
    "            for pair in Master_dict[chain]:\n",
    "                if int(pair[0]) == conc:\n",
    "                    area.append(pair[1])\n",
    "                    break\n",
    "            #this accounts for double-counting areas (only picks the largest one)\n",
    "            area.sort(reverse = True)\n",
    "            #this accounts for no area data\n",
    "            if len(area) == 0:\n",
    "                area = ['-']\n",
    "            #add to the master matrix\n",
    "            Master[chain_iterator][conc_iterator] = conc\n",
    "            conc_iterator+=1\n",
    "            Master[chain_iterator][conc_iterator] = area[0]\n",
    "            conc_iterator+=1\n",
    "        chain_iterator+=1\n",
    "    excelData = pd.DataFrame(data=Master, index=None)\n",
    "    #set first row as header for aesthetics\n",
    "    new_header = excelData.iloc[0]\n",
    "    excelData = excelData[1:]\n",
    "    excelData.columns = new_header\n",
    "    print(excelData)\n",
    "    #write to the excel file\n",
    "    writer = pd.ExcelWriter(file, engine = 'openpyxl')\n",
    "    writer.book = wb\n",
    "    excelData.to_excel(writer, sheet_name = \"EXT_STD\", index = False)\n",
    "    wb.save(file)\n",
    "    return excelData"
   ]
  },
  {
   "cell_type": "code",
   "execution_count": null,
   "metadata": {
    "collapsed": true
   },
   "outputs": [],
   "source": [
    "#user input here\n",
    "file = 'GCData_for_Ryan_w_FaOH_STD_Data.xlsx'\n",
    "sheetname = 'Peak_ID (3)'\n",
    "area_col = 3\n",
    "chain_col = 5\n",
    "alc_acid_ID = 'FAOH'\n",
    "df2 = getExternalStdData(file, sheetname, area_col, chain_col, alc_acid_ID)"
   ]
  },
  {
   "cell_type": "code",
   "execution_count": null,
   "metadata": {
    "collapsed": true
   },
   "outputs": [],
   "source": []
  }
 ],
 "metadata": {
  "kernelspec": {
   "display_name": "COBRA",
   "language": "python",
   "name": "cobra"
  },
  "language_info": {
   "codemirror_mode": {
    "name": "ipython",
    "version": 3
   },
   "file_extension": ".py",
   "mimetype": "text/x-python",
   "name": "python",
   "nbconvert_exporter": "python",
   "pygments_lexer": "ipython3",
   "version": "3.6.1"
  }
 },
 "nbformat": 4,
 "nbformat_minor": 2
}
