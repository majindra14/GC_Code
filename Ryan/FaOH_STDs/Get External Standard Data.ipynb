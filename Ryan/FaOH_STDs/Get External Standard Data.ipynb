{
 "cells": [
  {
   "cell_type": "code",
   "execution_count": 1,
   "metadata": {
    "collapsed": true
   },
   "outputs": [],
   "source": [
    "#This code will parse through the Peak_ID worksheet and generate another worksheet in the same file called \"External_STD\"\n",
    "#with concentration and peak area data for C7, C8, ..., C17 arranged like so:\n",
    "#\n",
    "# Chain Length | Conc (mg/L) | Peak Area | Conc (mg/L) | Peak Area | Conc (mg/L) | Peak Area | Conc (mg/L) | Peak Area\n",
    "# _____________________________________________________________________________________________________________________\n",
    "#      C7      |    1000     |     #     |     500     |     #     |     100     |     #     |     25      |     #\n",
    "#      C8      |    1000     |     #     |     500     |     #     |     100     |     #     |     25      |     #\n",
    "#      ...     |    1000     |     #     |     500     |     #     |     100     |     #     |     25      |     #\n",
    "#      C17     |    1000     |     #     |     500     |     #     |     100     |     #     |     25      |     #\n",
    "#\n",
    "#Peak_ID worksheet lay out...\n",
    "#\n",
    "#"
   ]
  },
  {
   "cell_type": "code",
   "execution_count": null,
   "metadata": {
    "collapsed": true
   },
   "outputs": [],
   "source": [
    "def getExtStdData(file, sheetname, area_col, chain_col):\n",
    "    col = [area_col, chain_col]\n",
    "    wb = openpyxl.load_workbook(file)\n",
    "    sheet = wb[sheetname]\n",
    "    #create dataframe from relevant columns only\n",
    "    df = pd.read_excel(file, sheetname=sheetname, usecols = col)\n",
    "    #convert dataframe to allow array traversals\n",
    "    dfList = df.values.tolist()\n",
    "    \n",
    "    #create master matrix holding arrays of area values\n",
    "    num_conc, num_chain = 5, 11;\n",
    "    Master = [[0 for x in range(num_conc)] for y in range(num_chain)] \n",
    "    \n",
    "    #loop through area column, creating different arrays at the start of a non-numerical value (indicates new conc).\n",
    "    #  Populate master matrix at end of each loop. In the same loop, populate conc matrix with all conc values using \n",
    "    #  non-numerical value title (new title indicates new conc).\n",
    "    #  Conc matrix should be the same size as area matrix. At the same time create dictionary?\n",
    "    \n",
    "    #parse through dictionary to create data table seen in first cell\n",
    "    #To create data table...\n",
    "    "
   ]
  }
 ],
 "metadata": {
  "kernelspec": {
   "display_name": "COBRA",
   "language": "python",
   "name": "cobra"
  },
  "language_info": {
   "codemirror_mode": {
    "name": "ipython",
    "version": 3
   },
   "file_extension": ".py",
   "mimetype": "text/x-python",
   "name": "python",
   "nbconvert_exporter": "python",
   "pygments_lexer": "ipython3",
   "version": "3.6.1"
  }
 },
 "nbformat": 4,
 "nbformat_minor": 2
}
