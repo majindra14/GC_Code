{
 "cells": [
  {
   "cell_type": "code",
   "execution_count": 1,
   "metadata": {},
   "outputs": [],
   "source": [
    "import pandas as pd\n",
    "import numpy as np\n",
    "#from pandas import ExcelWriter\n",
    "#from pandas import ExcelFile\n",
    "#from scipy import stats\n",
    "import matplotlib.pyplot as plt\n",
    "#import math\n",
    "#import xlwt\n",
    "#import openpyxl"
   ]
  },
  {
   "cell_type": "markdown",
   "metadata": {},
   "source": [
    "Key\n",
    "\n",
    "'sp|Q41635.1|FATB_UMBCA', BTE 12 carbon specific\n",
    "\n",
    "'AAC49001.1', BTE long-chain\n",
    "\n",
    "'AAC49269.1', FatB2 [Cuphea hookeriana] - short\n",
    "\n",
    "'AAC48990.1', 16:0-ACP thioesterase preprotein [Cuphea hookeriana] - long\n",
    "\n",
    "'AEM72522.1', acyl-ACP thioesterase FatB1 [Cuphea viscosissima] - short\n",
    "\n",
    "'AEM72523.1', FatB2 [Cuphea viscosissima] - long\n",
    " \n",
    "'tr|Q39554|Q39554_9MYRT', CpFatB1 - short\n",
    "\n",
    "'tr|Q39555|Q39555_9MYRT', CpFatB2 - long\n"
   ]
  },
  {
   "cell_type": "code",
   "execution_count": 2,
   "metadata": {},
   "outputs": [],
   "source": [
    "accessions = ['sp|Q41635.1|FATB_UMBCA', 'AAC49001.1', 'AAC49269.1', 'AAC48990.1', 'AEM72522.1', 'AEM72523.1', 'tr|Q39554|Q39554_9MYRT', 'tr|Q39555|Q39555_9MYRT']\n",
    "\n",
    "aligned_seq = []\n",
    "\n",
    "for i in accessions:\n",
    "\n",
    "    seq_fragments = []\n",
    "    \n",
    "    # for an unknown reason, the next four lines need to be included in the for loop instead of executed outside\n",
    "    filename = 'Thioesterase_Alignment_output_4-13-2020.txt'\n",
    "    dataFile = open(filename, \"r\")\n",
    "    position = 0\n",
    "    dataAsNumberedList = enumerate(dataFile, 1) #creates a list of tuples with line number, string\n",
    "\n",
    "    for num, line in dataAsNumberedList: # iterates through each tuple in dataAsNumberedList\n",
    "        line2 = line.split() # splits up each line in dataAsNumberedList into separate variables\n",
    "        if i in line2:\n",
    "            seq = line2[1] # references the second column (see .split() command)\n",
    "            seq_fragments.append(seq) # appends each relevant entry and separates with a comma\n",
    "\n",
    "    seq_string = ''.join(seq_fragments) # joins all entries from append.() command and makes one single string\n",
    "\n",
    "    aligned_seq.append(seq_string)\n",
    "\n",
    "dataFile.close()\n",
    "\n",
    "\n"
   ]
  },
  {
   "cell_type": "code",
   "execution_count": 3,
   "metadata": {},
   "outputs": [],
   "source": [
    "a = aligned_seq[0] # BTE short\n",
    "b = aligned_seq[1] # BTE long\n",
    "c = aligned_seq[2] # Hookeriana short\n",
    "d = aligned_seq[3] # Hookeriana long\n",
    "e = aligned_seq[4] # viscosissima short\n",
    "f = aligned_seq[5] # viscosissima long\n",
    "g = aligned_seq[6] # CupTE short\n",
    "h = aligned_seq[7] # CupTE long\n",
    "\n",
    "length = len(aligned_seq[0])\n",
    "\n",
    "hits=np.array([['clustal_index'],[accessions[0]],[accessions[1]],[accessions[2]],[accessions[3]],[accessions[4]],[accessions[5]],[accessions[6]],[accessions[7]]],ndmin=2)\n",
    "\n",
    "\n",
    "for i in range(length):\n",
    "    if a[i]==b[i]:\n",
    "        firstcomparison=np.array([[i+1],[a[i]],['']],ndmin=2)\n",
    "    else:\n",
    "        firstcomparison=np.array([[i+1],[a[i]],[b[i]]],ndmin=2)\n",
    "    if c[i]==d[i]:\n",
    "        secondcomparison=np.array([[''],['']],ndmin=2)\n",
    "    else:\n",
    "        secondcomparison=np.array([[c[i]],[d[i]]],ndmin=2)\n",
    "    if e[i]==f[i]:\n",
    "        thirdcomparison=np.array([[''],['']],ndmin=2)\n",
    "    else:\n",
    "        thirdcomparison=np.array([[e[i]],[f[i]]],ndmin=2)\n",
    "    if g[i]==h[i]:\n",
    "        fourthcomparison=np.array([[''],['']],ndmin=2)\n",
    "    else:\n",
    "        fourthcomparison=np.array([[g[i]],[h[i]]],ndmin=2)\n",
    "    append=np.concatenate((firstcomparison,secondcomparison,thirdcomparison,fourthcomparison),axis=0)\n",
    "    hits=np.append(hits,append,axis=1)\n",
    "\n",
    "\n",
    "        \n",
    "\n",
    "\n",
    "\n",
    "df = pd.DataFrame(hits)\n",
    "df.to_excel(excel_writer = \"C:/Users/Baopa/Desktop/test.xlsx\")"
   ]
  },
  {
   "cell_type": "code",
   "execution_count": null,
   "metadata": {},
   "outputs": [],
   "source": []
  }
 ],
 "metadata": {
  "kernelspec": {
   "display_name": "Python [conda env:cameo3.4]",
   "language": "python",
   "name": "conda-env-cameo3.4-py"
  },
  "language_info": {
   "codemirror_mode": {
    "name": "ipython",
    "version": 3
   },
   "file_extension": ".py",
   "mimetype": "text/x-python",
   "name": "python",
   "nbconvert_exporter": "python",
   "pygments_lexer": "ipython3",
   "version": "3.6.9"
  }
 },
 "nbformat": 4,
 "nbformat_minor": 2
}
