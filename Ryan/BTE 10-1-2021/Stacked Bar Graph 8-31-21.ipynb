{
 "cells": [
  {
   "cell_type": "code",
   "execution_count": 3,
   "metadata": {
    "tags": []
   },
   "outputs": [],
   "source": [
    "import numpy as np\n",
    "import pandas as pd\n",
    "import numpy as np\n",
    "from numpy import array\n",
    "import matplotlib.pyplot as plt\n",
    "import math\n",
    "import openpyxl\n",
    "from statistics import * \n",
    "from cycler import cycler\n",
    "import scipy\n",
    "import scipy.stats\n",
    "from gcplot import gc\n",
    "import importlib\n",
    "from collections import Counter\n",
    "from datetime import datetime\n",
    "import os\n",
    "from openpyxl import load_workbook"
   ]
  },
  {
   "cell_type": "markdown",
   "metadata": {},
   "source": [
    "Note: If changes are made to the `gc` module, you need to add the following line to the cell you are working in to ensure those changes are reflected in this notebook. Simply re-importing the module will not work.\n",
    "\n",
    "    importlib.reload(gc)"
   ]
  },
  {
   "cell_type": "markdown",
   "metadata": {},
   "source": [
    "### Step 1: Enter file information here\n",
    "- Populate `file_list` with names of files in *chronological order* (newest first). If samples with the same names are detected, the samples in the newest files will override the samples in older files.    \n",
    "- Populate `sheet` with the name of the Excel sheet containing the corrected concentration data. This name should be the same across all Excel files.\n",
    "- Populate `remove_sample_list` and `remove_product_list` with names of samples and products that should be disregarded from all files (if desired).  Otherwise, leave as empty list(s)."
   ]
  },
  {
   "cell_type": "code",
   "execution_count": 6,
   "metadata": {
    "tags": []
   },
   "outputs": [],
   "source": [
    "file_list = [\n",
    "    'GCData_R227X w Conc Data - July 2021.xlsx',\n",
    "    'GCData_BTE_variants w Conc Data - June 2021.xlsx',\n",
    "    'GCData_BTE_variants w Conc Data - May 2021.xlsx',\n",
    "    'GCData_LP_FAME w Conc Data - Apr 2021.xlsx',\n",
    "    'GCData_Acid_FAME w Conc Data - Feb 2021.xlsx',\n",
    "    'GCData_Jan_2021 w Conc Data - Jan 2021.xlsx',\n",
    "    'GCData_KCM_mutants-R2 w Conc Data - Dec 2020.xlsx',\n",
    "    'GCData_M133X w Conc Data - Dec 2020.xlsx',\n",
    "    'GCData_mutants-Nov19-ext_std_refined w Conc Data - Nov 2020.xlsx',\n",
    "    'GCData-AM_mutantsKCM2 w Conc Data.xlsx',\n",
    "    'GCData-AM_mutantsKCM1 w Conc Data.xlsx',\n",
    "    'GCData-AM_mutants15-16 w Conc Data.xlsx',\n",
    "    'GCData-AM_mutants1-9 w Conc Data - Aug 2020.xlsx',\n",
    "    'GCData-SSM_mutants5-8 w Conc Data.xlsx',\n",
    "    'GCData-SSM_mutants1-4 w Conc Data.xlsx',\n",
    "]\n",
    "file_list = ['GCData_for_Ryan_w_FaOH_STD_Data.xlsx']\n",
    "\n",
    "sheet = 'Corrected Concentration'\n",
    "\n",
    "#remove_sample_list = ['BTE-QE', 'BTE_AW', 'BTE_BP_Mut', 'BTE_WT', 'FAME', 'WT', 'WT_A', 'Neg', 'Neg_A','Rec']#, 'BTE', ]\n",
    "remove_sample_list = []\n",
    "remove_product_list = []\n",
    "#remove_product_list = ['C17:cp']"
   ]
  },
  {
   "cell_type": "markdown",
   "metadata": {},
   "source": [
    "- Run `gc.load_data` to get the corrected concentration data from each Excel file. \n",
    "- Set the `output` option to **`True`** to see which products and samples were detected from each file, or set to **`False`** to hide output.\n",
    "  - The products and samples in <span style=\"color:#ba4046\">red</span> are those that were removed from the dataframe as specified by `remove_product_list` and `remove_sample_list`, respectively.\n",
    "  - The samples in <span style=\"color:#b5821b\">yellow</span> are duplicates that have been overridden by a higher priority file.\n",
    "  - The samples in <span style=\"color:#2e8d4e\">green</span> are those that will have their data included in the analysis and visualiziation."
   ]
  },
  {
   "cell_type": "code",
   "execution_count": 7,
   "metadata": {},
   "outputs": [
    {
     "name": "stdout",
     "output_type": "stream",
     "text": [
      "\u001b[1mGCData_for_Ryan_w_FaOH_STD_Data.xlsx\u001b[0m\n",
      "Detected products:      ['C8', 'C10', 'C12', 'C14', 'C16', 'C18']\n",
      "Detected sample groups: ['\u001b[92m133_222_227\u001b[0m', '\u001b[92mBTE\u001b[0m', '\u001b[92mD10S\u001b[0m', '\u001b[92mE174G\u001b[0m', '\u001b[92mH132Q\u001b[0m', '\u001b[92mH204A\u001b[0m', '\u001b[92mI198E\u001b[0m', '\u001b[92mK159E\u001b[0m', '\u001b[92mN131I\u001b[0m', '\u001b[92mR109C\u001b[0m', '\u001b[92mRec\u001b[0m']\n",
      "\u001b[1mDone!\u001b[0m\n"
     ]
    }
   ],
   "source": [
    "importlib.reload(gc)\n",
    "master_df, master_sample_list, df_dict = gc.load_data(file_list, sheet, remove_sample_list, remove_product_list, output = True)"
   ]
  },
  {
   "cell_type": "markdown",
   "metadata": {},
   "source": [
    "### Step 2: Enter plotting information here\n",
    "- Populate `samples` with names of samples in the order you wish to plot data for. Set to **`None`** to plot all data.    \n",
    "- Populate `chains` with the names of the products in the order you wish to plot data for. Set to **`None`** to plot all products in the default order (alphanumeric).   "
   ]
  },
  {
   "cell_type": "code",
   "execution_count": 8,
   "metadata": {
    "tags": []
   },
   "outputs": [],
   "source": [
    "samples = ['BTE', 'H204A', 'M133L_M222K_R227H', 'M133L_M222K_R227H_AW', 'R227A', 'R227D', 'R227F', 'R227H', 'KCM2', 'KCM250', 'KCM280', 'KCM3', 'KCM35', 'KCM7']\n",
    "chains = ['C8', 'C10:1', 'C10', 'C12:1', 'C12', 'C14:1', 'C14', 'C16:1', 'C16', 'C18:1', 'C18']\n",
    "samples = None\n",
    "chains = ['C8','C10','C12','C14','C16','C18']"
   ]
  },
  {
   "cell_type": "code",
   "execution_count": 9,
   "metadata": {},
   "outputs": [
    {
     "data": {
      "text/plain": [
       "11"
      ]
     },
     "execution_count": 9,
     "metadata": {},
     "output_type": "execute_result"
    }
   ],
   "source": [
    "len(master_df['Sample Group'].unique())"
   ]
  },
  {
   "cell_type": "markdown",
   "metadata": {},
   "source": [
    "- Enter plot formatting options here"
   ]
  },
  {
   "cell_type": "code",
   "execution_count": 11,
   "metadata": {
    "tags": []
   },
   "outputs": [],
   "source": [
    "title = 'Free fatty acid distribution of ClFatB3 variants' #graph title\n",
    "ylabel = 'mg/L FAME' #y axis label\n",
    "graphWidth = 10 #Default 6.0\n",
    "graphHeight = 4 #Default 4.0\n",
    "barWidth = 0.6 #Default 0.8\n",
    "legendLocation = 'upper left' #Default 'best' or Choose: 'upper right/center/left', 'lower right/center/left'\n",
    "plotDistribution = False\n",
    "\n",
    "csfont = {'fontname':'Times New Roman'}\n",
    "colorwheel = ('olivedrab', 'orange', 'orange', 'indianred','indianred','blueviolet','blueviolet','palevioletred','palevioletred','skyblue','skyblue')\n",
    "plt.rcParams.update({'font.size': 14})\n",
    "plt.rcParams['axes.prop_cycle'] = cycler(color=colorwheel)\n",
    "\n",
    "### Python Default\n",
    "#plt.rcParams[\"font.family\"] = 'DejaVu Sans'"
   ]
  },
  {
   "cell_type": "markdown",
   "metadata": {},
   "source": [
    "### Step 3: Analyze and visualize data"
   ]
  },
  {
   "cell_type": "code",
   "execution_count": 12,
   "metadata": {
    "tags": []
   },
   "outputs": [],
   "source": [
    "df_mean, df_scaled, df_err = gc.dataParse(master_df, samples, chains)\n",
    "summary_stats = gc.summary_stats(master_df, samples, chains)"
   ]
  },
  {
   "cell_type": "code",
   "execution_count": 13,
   "metadata": {
    "tags": []
   },
   "outputs": [
    {
     "data": {
      "image/png": "[encoded data removed]",
      "text/plain": [
       "<Figure size 720x288 with 1 Axes>"
      ]
     },
     "metadata": {
      "needs_background": "light"
     },
     "output_type": "display_data"
    }
   ],
   "source": [
    "fig, axs = plt.subplots(1, 1, figsize = (graphWidth, graphHeight))\n",
    "df_mean.plot.bar(ax = axs, stacked=True, edgecolor = 'k', width = barWidth, yerr = df_err, title = title)\n",
    "\n",
    "# After plotting, set the hatches such that the hatch pattern alternates\n",
    "gc.set_hatch(axs, df_mean.columns)\n",
    "\n",
    "# Plot formatting\n",
    "plt.setp(axs.get_xticklabels(), rotation=45, ha='right')\n",
    "axs.set_ylabel(ylabel)\n",
    "axs.set_xlabel('')\n",
    "# Show plot legend\n",
    "axs.legend(bbox_to_anchor = [1,.5], loc='center left');\n",
    "plt.show()"
   ]
  },
  {
   "cell_type": "code",
   "execution_count": 14,
   "metadata": {},
   "outputs": [
    {
     "data": {
      "image/png": "[encoded data removed]",
      "text/plain": [
       "<Figure size 720x288 with 1 Axes>"
      ]
     },
     "metadata": {
      "needs_background": "light"
     },
     "output_type": "display_data"
    }
   ],
   "source": [
    "fig, axs = plt.subplots(1, 1, figsize = (graphWidth, graphHeight))\n",
    "\n",
    "df_scaled.plot.bar(ax = axs, stacked=True, edgecolor = 'k', width = barWidth, title = title + ' (scaled)')\n",
    "\n",
    "# After plotting, set the hatches such that the hatch pattern alternates\n",
    "gc.set_hatch(axs, df_scaled.columns)\n",
    "\n",
    "# Plot formatting\n",
    "plt.setp(axs.get_xticklabels(), rotation=45, ha='right')\n",
    "axs.set_ylabel('Product Distribution')\n",
    "axs.set_xlabel('')\n",
    "# Show plot legend\n",
    "axs.legend(bbox_to_anchor = [1,.5], loc='center left');\n",
    "plt.show()"
   ]
  },
  {
   "cell_type": "code",
   "execution_count": 15,
   "metadata": {},
   "outputs": [
    {
     "data": {
      "text/html": [
       "<div>\n",
       "<style scoped>\n",
       "    .dataframe tbody tr th:only-of-type {\n",
       "        vertical-align: middle;\n",
       "    }\n",
       "\n",
       "    .dataframe tbody tr th {\n",
       "        vertical-align: top;\n",
       "    }\n",
       "\n",
       "    .dataframe thead th {\n",
       "        text-align: right;\n",
       "    }\n",
       "</style>\n",
       "<table border=\"1\" class=\"dataframe\">\n",
       "  <thead>\n",
       "    <tr style=\"text-align: right;\">\n",
       "      <th>Sample Group</th>\n",
       "      <th>133_222_227</th>\n",
       "      <th>BTE</th>\n",
       "      <th>D10S</th>\n",
       "      <th>E174G</th>\n",
       "      <th>H132Q</th>\n",
       "      <th>H204A</th>\n",
       "      <th>I198E</th>\n",
       "      <th>K159E</th>\n",
       "      <th>N131I</th>\n",
       "      <th>R109C</th>\n",
       "      <th>Rec</th>\n",
       "    </tr>\n",
       "    <tr>\n",
       "      <th>Products</th>\n",
       "      <th></th>\n",
       "      <th></th>\n",
       "      <th></th>\n",
       "      <th></th>\n",
       "      <th></th>\n",
       "      <th></th>\n",
       "      <th></th>\n",
       "      <th></th>\n",
       "      <th></th>\n",
       "      <th></th>\n",
       "      <th></th>\n",
       "    </tr>\n",
       "  </thead>\n",
       "  <tbody>\n",
       "    <tr>\n",
       "      <th>C18</th>\n",
       "      <td>0.330973</td>\n",
       "      <td>0.255097</td>\n",
       "      <td>0.269889</td>\n",
       "      <td>0.250763</td>\n",
       "      <td>0.265573</td>\n",
       "      <td>0.254137</td>\n",
       "      <td>0.227545</td>\n",
       "      <td>0.331058</td>\n",
       "      <td>0.296237</td>\n",
       "      <td>0.288916</td>\n",
       "      <td>0.117273</td>\n",
       "    </tr>\n",
       "    <tr>\n",
       "      <th>C16</th>\n",
       "      <td>0.258872</td>\n",
       "      <td>0.153816</td>\n",
       "      <td>0.350136</td>\n",
       "      <td>0.157108</td>\n",
       "      <td>0.165309</td>\n",
       "      <td>0.702528</td>\n",
       "      <td>0.723144</td>\n",
       "      <td>0.220767</td>\n",
       "      <td>0.205322</td>\n",
       "      <td>0.185542</td>\n",
       "      <td>0.183406</td>\n",
       "    </tr>\n",
       "    <tr>\n",
       "      <th>C14</th>\n",
       "      <td>0.039820</td>\n",
       "      <td>0.050253</td>\n",
       "      <td>0.068319</td>\n",
       "      <td>0.048107</td>\n",
       "      <td>0.052702</td>\n",
       "      <td>0.035877</td>\n",
       "      <td>0.037720</td>\n",
       "      <td>0.049997</td>\n",
       "      <td>0.063914</td>\n",
       "      <td>0.047416</td>\n",
       "      <td>0.301069</td>\n",
       "    </tr>\n",
       "    <tr>\n",
       "      <th>C12</th>\n",
       "      <td>0.361280</td>\n",
       "      <td>0.529209</td>\n",
       "      <td>0.031286</td>\n",
       "      <td>0.532506</td>\n",
       "      <td>0.505927</td>\n",
       "      <td>0.005592</td>\n",
       "      <td>0.003961</td>\n",
       "      <td>0.391562</td>\n",
       "      <td>0.428836</td>\n",
       "      <td>0.468497</td>\n",
       "      <td>0.190567</td>\n",
       "    </tr>\n",
       "    <tr>\n",
       "      <th>C10</th>\n",
       "      <td>0.007699</td>\n",
       "      <td>0.010210</td>\n",
       "      <td>0.249274</td>\n",
       "      <td>0.010059</td>\n",
       "      <td>0.009224</td>\n",
       "      <td>NaN</td>\n",
       "      <td>0.002931</td>\n",
       "      <td>0.005471</td>\n",
       "      <td>0.004475</td>\n",
       "      <td>0.008350</td>\n",
       "      <td>0.035620</td>\n",
       "    </tr>\n",
       "    <tr>\n",
       "      <th>C8</th>\n",
       "      <td>0.001355</td>\n",
       "      <td>0.001416</td>\n",
       "      <td>0.031097</td>\n",
       "      <td>0.001458</td>\n",
       "      <td>0.001265</td>\n",
       "      <td>0.001867</td>\n",
       "      <td>0.004699</td>\n",
       "      <td>0.001145</td>\n",
       "      <td>0.001217</td>\n",
       "      <td>0.001279</td>\n",
       "      <td>0.172065</td>\n",
       "    </tr>\n",
       "  </tbody>\n",
       "</table>\n",
       "</div>"
      ],
      "text/plain": [
       "Sample Group  133_222_227       BTE      D10S     E174G     H132Q     H204A  \\\n",
       "Products                                                                      \n",
       "C18              0.330973  0.255097  0.269889  0.250763  0.265573  0.254137   \n",
       "C16              0.258872  0.153816  0.350136  0.157108  0.165309  0.702528   \n",
       "C14              0.039820  0.050253  0.068319  0.048107  0.052702  0.035877   \n",
       "C12              0.361280  0.529209  0.031286  0.532506  0.505927  0.005592   \n",
       "C10              0.007699  0.010210  0.249274  0.010059  0.009224       NaN   \n",
       "C8               0.001355  0.001416  0.031097  0.001458  0.001265  0.001867   \n",
       "\n",
       "Sample Group     I198E     K159E     N131I     R109C       Rec  \n",
       "Products                                                        \n",
       "C18           0.227545  0.331058  0.296237  0.288916  0.117273  \n",
       "C16           0.723144  0.220767  0.205322  0.185542  0.183406  \n",
       "C14           0.037720  0.049997  0.063914  0.047416  0.301069  \n",
       "C12           0.003961  0.391562  0.428836  0.468497  0.190567  \n",
       "C10           0.002931  0.005471  0.004475  0.008350  0.035620  \n",
       "C8            0.004699  0.001145  0.001217  0.001279  0.172065  "
      ]
     },
     "execution_count": 15,
     "metadata": {},
     "output_type": "execute_result"
    }
   ],
   "source": [
    "df_scaled.T.iloc[::-1]"
   ]
  },
  {
   "cell_type": "markdown",
   "metadata": {},
   "source": [
    "### Step 4: Write summary table to Excel file\n",
    "- Set `save_to_file` and `save_to_sheet` to the file name and sheet name you wish to save the dataframe to, respectively.\n",
    "- To save to a new sheet in an existing summary file, set `save_to_file` to the name of the existing file and set `save_to_sheet` to a new sheet name, otherwise data in the existing sheet will be overwritten.\n",
    "- Set the `replace` option to **`True`** to replace an existing Excel file."
   ]
  },
  {
   "cell_type": "code",
   "execution_count": 28,
   "metadata": {},
   "outputs": [
    {
     "name": "stdout",
     "output_type": "stream",
     "text": [
      "The sheet name 'Table1' already exists in Summary Statistics.xlsx.\n",
      "Existing data in 'Table1' will be replaced with new data. Proceed? Yes/No: No\n",
      "Operation cancelled.\n"
     ]
    }
   ],
   "source": [
    "save_to_file = 'Summary Statistics.xlsx'\n",
    "save_to_sheet = 'Table1'\n",
    "gc.save_df_to_excel(summary_stats, save_to_file, save_to_sheet, replace = False) "
   ]
  },
  {
   "cell_type": "code",
   "execution_count": null,
   "metadata": {
    "collapsed": true,
    "jupyter": {
     "outputs_hidden": true
    }
   },
   "outputs": [],
   "source": []
  }
 ],
 "metadata": {
  "kernelspec": {
   "display_name": "COBRA2",
   "language": "python",
   "name": "cobra2"
  },
  "language_info": {
   "codemirror_mode": {
    "name": "ipython",
    "version": 3
   },
   "file_extension": ".py",
   "mimetype": "text/x-python",
   "name": "python",
   "nbconvert_exporter": "python",
   "pygments_lexer": "ipython3",
   "version": "3.8.11"
  }
 },
 "nbformat": 4,
 "nbformat_minor": 4
}
