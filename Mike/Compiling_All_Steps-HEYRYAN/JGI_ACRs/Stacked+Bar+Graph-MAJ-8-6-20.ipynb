{
 "cells": [
  {
   "cell_type": "code",
   "execution_count": 5,
   "metadata": {
    "collapsed": true
   },
   "outputs": [],
   "source": [
    "import pandas as pd\n",
    "import numpy as np\n",
    "from numpy import array\n",
    "import matplotlib.pyplot as plt\n",
    "import math\n",
    "import openpyxl\n",
    "from statistics import * "
   ]
  },
  {
   "cell_type": "code",
   "execution_count": 6,
   "metadata": {
    "collapsed": true
   },
   "outputs": [],
   "source": [
    "#User enters data here\n",
    "file = 'GCData-JGI_ACRs w Conc Data.xlsx' #file name\n",
    "sheet = 'Corrected Concentration' #sheet with corrected concentration data\n",
    "samples = ['A10','A12','B12','C10','C11','C12','D10','E11','H9','H10','H12','MaACR','Neg','Rec'] #name of samples\n",
    "### ^^Do these have to be in order? \n",
    "### ^^Yes, they have to be in order of appearance. I'm trying to see if I can get that fixed\n",
    "numVials = [3, 3, 3, 3, 3, 3, 3, 3, 3, 3, 3, 3, 3, 3] ### USER INPUT number of vials per sample in order of appearance \n",
    "\n",
    "# Check to see if lists samples and numVials are the same length\n",
    "if len(samples) != len(numVials):\n",
    "    raise Exception('Length of samples and numVials lists must be the same, hoe!') #love it\n",
    "\n",
    "chains = ['C4','C6', 'C8','C10','C12','C14','C16'] #chain lengths\n",
    "\n",
    "#Graph options\n",
    "title = 'JGI ACR Homolog' #graph title\n",
    "ylabel = 'mg/L FaOH' #y axis label\n",
    "graphWidth = 9 #Default 6.0\n",
    "graphHeight = 4 #Default 4.0\n",
    "barWidth = 0.8 #Default 0.8\n",
    "legendLocation = 'upper left' #Default 'best' or Choose: 'upper right/center/left', 'lower right/center/left' "
   ]
  },
  {
   "cell_type": "code",
   "execution_count": 7,
   "metadata": {
    "collapsed": true
   },
   "outputs": [],
   "source": [
    "#this function arranges data into an appropriate matrix. correctedConc should be clean with no empty spaces\n",
    "def dataArrange(correctedConc, numTotSamples):\n",
    "    numChains = int(len(correctedConc)/numTotSamples)\n",
    "    correctedConc = np.array(correctedConc)\n",
    "    rearranged = np.zeros((numTotSamples, numChains))\n",
    "    iterator = 0;\n",
    "    for sample in range(0,numTotSamples):\n",
    "        for chain in range(0, numChains):\n",
    "            rearranged[sample, chain] = correctedConc[iterator]\n",
    "            iterator = iterator + 1 \n",
    "    return rearranged.T, rearranged.T.shape"
   ]
  },
  {
   "cell_type": "code",
   "execution_count": 8,
   "metadata": {
    "collapsed": true
   },
   "outputs": [],
   "source": [
    "#Calculates average and standard deviation of data\n",
    "def calcStats(data):\n",
    "    stats = [mean(data), stdev(data)]\n",
    "    return stats"
   ]
  },
  {
   "cell_type": "code",
   "execution_count": 9,
   "metadata": {
    "collapsed": true
   },
   "outputs": [],
   "source": [
    "#Returns average and standard deviation data in the form of matricies\n",
    "def dataParse(rearranged, samples, numVials):\n",
    "    #rearranged - the rearranged corrected concentration data table with each row corresponding to a chain length\n",
    "        #and each column corresponding to a sample vial i.e.\n",
    "        #\n",
    "        #         H204A-1  H204A-2  H204A-3    WT-1    WT-2    WT-3\n",
    "        #   C8 [[    #        #        #        #        #        #    ],\n",
    "        #  C10  [    #        #        #        #        #        #    ],\n",
    "        #  C12  [    #        #        #        #        #        #    ],\n",
    "        #  C14  [    #        #        #        #        #        #    ],\n",
    "        #  C16  [    #        #        #        #        #        #    ]]\n",
    "        #\n",
    "    #samples - list of each type of sample i.e. [H204A, WT]\n",
    "    #numVials - number of vials per sample in order of appearance i.e. [3, 3]\n",
    "    \n",
    "    numChains = int(len(rearranged[0])) #number of chain lengths testing for\n",
    "    avgMat = np.zeros((numChains, len(samples))) #matrix to store average data\n",
    "    stdevMat = np.zeros((numChains, len(samples))) #matrix to store stdev data\n",
    "\n",
    "    row_number = range(0,len(chains))\n",
    "    column_number = range(0,len(samples))\n",
    "\n",
    "    for r in row_number:\n",
    "        #print(rearranged[0][r])\n",
    "        for c in column_number:\n",
    "            avgMat[r,c] = np.mean(rearranged[0][r][c*3:(c*3)+2]) # rearranged is an array which is set up such that each row contains the concentration for a given chain length for all samples\n",
    "            stdevMat[r,c] = np.std(rearranged[0][r][c*3:(c*3)+2])\n",
    "    print(rearranged)    \n",
    "    return avgMat,stdevMat"
   ]
  },
  {
   "cell_type": "code",
   "execution_count": 10,
   "metadata": {
    "collapsed": true
   },
   "outputs": [],
   "source": [
    "#Creates stacked bar chart of chain length distributions\n",
    "def createBarChart (file, sheet, samples, numVials, chains, title, ylabel):\n",
    "    #get concentration data from excel sheet\n",
    "    concData = getCorrectedConcentration(file,sheet)\n",
    "    #arrange data into more managable rows and columns\n",
    "    rearranged = dataArrange(concData, sum(numVials))\n",
    "    \n",
    "    #get mean and standard deviation data\n",
    "    avgMat, stdevMat = dataParse(rearranged, samples, numVials)\n",
    "    df_avg = pd.DataFrame(avgMat, columns=samples)\n",
    "    df_std = pd.DataFrame(stdevMat, columns=samples)\n",
    "\n",
    "    #plot data\n",
    "    %matplotlib inline\n",
    "    N = len(samples)\n",
    "    ind = np.arange(N)\n",
    "    firstMean = df_avg.loc[0,:]\n",
    "    firstStd = df_std.loc[0,:]\n",
    "    plt.figure(figsize=(graphWidth,graphHeight))\n",
    "    fistplot = plt.bar(ind, firstMean, width=barWidth, yerr=firstStd, label=chains[0])\n",
    "    sumMeans = [0]*len(samples)\n",
    "    for chain in range(1,len(chains)):\n",
    "        chainMean = df_avg.loc[chain,:]\n",
    "        prevChainMean = df_avg.loc[chain-1,:]\n",
    "        for i in range(len(sumMeans)):\n",
    "            sumMeans[i] = sumMeans[i] + prevChainMean[i]\n",
    "        chainStd = df_std.loc[chain,:]\n",
    "        plt.bar(ind, chainMean, width=barWidth, bottom=sumMeans, yerr=chainStd, label=chains[chain])\n",
    "    plt.xticks(ind,samples)\n",
    "    plt.legend(loc=legendLocation)\n",
    "    plt.suptitle(title)\n",
    "    plt.ylabel(ylabel)\n",
    "    plt.show"
   ]
  },
  {
   "cell_type": "code",
   "execution_count": 11,
   "metadata": {
    "collapsed": true
   },
   "outputs": [],
   "source": [
    "#returns clean list of corrected concentrations from an excel file\n",
    "def getCorrectedConcentration (file, sheet):\n",
    "    wb = openpyxl.load_workbook(file)\n",
    "    df = pd.read_excel(file, sheetname=sheet)\n",
    "    correctedConc = []\n",
    "    title = df[0][0].split('-')[0]\n",
    "    for i in df.index:\n",
    "        conc = df['Corrected Concentration'][i]\n",
    "        sample = df[0][i] if isinstance(df[0][i], float) else df[0][i].split('-')[0]\n",
    "        if isinstance(sample, str) and not sample == 'Peak#':\n",
    "            title = sample\n",
    "        if title in samples and isinstance(conc, float) and not math.isnan(conc): #math.isnan returns True if conc is nan\n",
    "            correctedConc.append(conc)\n",
    "    return correctedConc"
   ]
  },
  {
   "cell_type": "code",
   "execution_count": 13,
   "metadata": {},
   "outputs": [
    {
     "name": "stdout",
     "output_type": "stream",
     "text": [
      "(array([[  5.25660722e-14,   5.32489218e-14,   4.85897585e-14,\n",
      "          4.98003656e-14,   4.82606478e-14,   5.20740609e-14,\n",
      "          5.15165171e-14,   4.93519052e-14,   5.22232461e-14,\n",
      "          4.86687188e-14,   4.88639278e-14,   5.20872557e-14,\n",
      "          4.69261274e-14,   4.87073585e-14,   5.31030403e-14,\n",
      "          4.90619264e-14,   4.99456913e-14,   4.83838564e-14,\n",
      "          4.86751613e-14,   4.93544269e-14,   4.89666177e-14,\n",
      "          5.20452266e-14,   5.30540396e-14,   4.86871047e-14,\n",
      "          1.75500785e-02,   1.55271392e-02,   1.53449895e-02,\n",
      "          1.79103937e-02,   1.55296115e-02,   1.55851387e-02,\n",
      "          1.54281014e-02,   1.47118299e-02,   1.51977538e-02,\n",
      "          8.05412388e-02,   9.18101294e-02,   9.47823863e-02,\n",
      "          1.45579781e-02,   1.74114888e-02,   5.11269154e-02,\n",
      "          5.04209545e-02,   5.02058632e-02,   5.36580006e-02],\n",
      "       [  3.10844029e-14,   3.14872945e-14,   2.87396437e-14,\n",
      "          2.94614255e-14,   2.85549624e-14,   3.07996503e-14,\n",
      "          3.04749179e-14,   2.91932974e-14,   7.58404162e-01,\n",
      "          2.87805941e-14,   2.89049846e-14,   3.08042737e-14,\n",
      "          2.77584941e-14,   2.88108819e-14,   3.14018573e-14,\n",
      "          2.90218334e-14,   2.95431908e-14,   2.86264963e-14,\n",
      "          2.87820234e-14,   2.91767493e-14,   2.89602936e-14,\n",
      "          3.07799889e-14,   3.13762933e-14,   2.88013022e-14,\n",
      "          3.12050349e-14,   3.04532575e-14,   2.88528067e-14,\n",
      "          3.09094918e-14,   2.87483910e-14,   3.09729480e-14,\n",
      "          2.91098189e-14,   2.76722805e-14,   2.98119701e-14,\n",
      "          2.37865653e+00,   2.67763777e+00,   2.79834719e+00,\n",
      "          2.78129427e-14,   2.96156290e-14,   3.08773579e-14,\n",
      "          5.45438577e-01,   5.42900205e-01,   5.73661213e-01],\n",
      "       [  7.73168866e-01,   8.88394874e-01,   8.79792126e-01,\n",
      "          2.69895295e-12,   1.03091065e+00,   2.60786473e-12,\n",
      "          1.04871696e+00,   2.48738553e-12,   9.52122254e-01,\n",
      "          7.42625925e-01,   1.01041626e+00,   9.64497413e-01,\n",
      "          1.02014701e+00,   2.50134127e-12,   2.62681042e-12,\n",
      "          2.50659897e-12,   1.00122433e+00,   2.67817051e-12,\n",
      "          8.70968565e-01,   2.12218080e-12,   2.39629911e-12,\n",
      "          2.44887133e-12,   1.02997585e+00,   8.24210896e-01,\n",
      "          1.87108571e-12,   1.79609202e-12,   1.81463300e-12,\n",
      "          6.20373278e-01,   6.89366773e-01,   6.26262188e-01,\n",
      "          1.86347989e-12,   6.05120219e-01,   1.87074048e-12,\n",
      "          3.75340759e+02,   4.18772048e+02,   4.26724161e+02,\n",
      "          6.05271132e-01,   6.22541951e-01,   1.78169373e-12,\n",
      "          1.05415458e+02,   1.07089822e+02,   1.09308766e+02],\n",
      "       [  2.08592546e-12,   2.48579554e-12,   2.11667780e-12,\n",
      "          2.28261389e-12,   2.42221584e-12,   2.15228017e-12,\n",
      "          2.30766649e-12,   2.00074095e-12,   5.83734977e-01,\n",
      "          2.20624291e-12,   2.30840744e-12,   2.23843318e-12,\n",
      "          1.89017451e-12,   2.06813579e-12,   2.23420964e-12,\n",
      "          2.04172403e-12,   2.41701724e-12,   2.23333297e-12,\n",
      "          1.80074732e-12,   1.72500062e-12,   1.90669661e-12,\n",
      "          1.89768394e-12,   2.40003756e-12,   2.47079716e-12,\n",
      "          1.62960610e-12,   1.53616008e-12,   1.61950277e-12,\n",
      "          1.72599975e-12,   1.59830605e-12,   1.72526744e-12,\n",
      "          1.63093762e-12,   1.65737284e-12,   1.57834479e-12,\n",
      "          8.61473279e+02,   9.77869229e+02,   9.52291960e+02,\n",
      "          4.61710091e-01,   1.85338176e-12,   1.63297618e-12,\n",
      "          9.80327327e+01,   1.02001465e+02,   9.84962442e+01],\n",
      "       [  1.73188860e-12,   2.10263514e-12,   1.80886400e-12,\n",
      "          1.99837282e-12,   2.11968895e-12,   1.89209196e-12,\n",
      "          1.95059377e-12,   1.72486475e-12,   5.69060023e-01,\n",
      "          1.82802830e-12,   2.05703646e-12,   1.96898543e-12,\n",
      "          1.62254574e-12,   1.82574923e-12,   1.96450797e-12,\n",
      "          1.77647490e-12,   2.11123989e-12,   1.94368356e-12,\n",
      "          1.53446453e-12,   1.55214389e-12,   1.62242937e-12,\n",
      "          1.63484031e-12,   2.08694325e-12,   2.13012290e-12,\n",
      "          1.55345862e-12,   1.46321876e-12,   1.53596582e-12,\n",
      "          1.63305779e-12,   1.52892616e-12,   1.62717115e-12,\n",
      "          1.58717918e-12,   1.54140175e-12,   1.41932694e-12,\n",
      "          8.91076131e+02,   9.71541637e+02,   9.33408093e+02,\n",
      "          8.41555949e-01,   1.75070645e-12,   2.28198602e+00,\n",
      "          1.02037936e+02,   1.07872862e+02,   1.01551977e+02],\n",
      "       [  1.59332214e-12,   1.94023423e-12,   1.66352755e-12,\n",
      "          1.83028133e-12,   1.93817438e-12,   1.73961096e-12,\n",
      "          8.55740275e-01,   9.86303847e-01,   8.47289710e-01,\n",
      "          1.67549554e-12,   1.90527419e-12,   1.82799906e-12,\n",
      "          1.46436348e-12,   1.64143850e-12,   1.78770278e-12,\n",
      "          1.63249332e-12,   1.96938371e-12,   1.78458128e-12,\n",
      "          1.41963409e-12,   1.40458753e-12,   1.50097823e-12,\n",
      "          1.48215087e-12,   1.91840210e-12,   1.97575100e-12,\n",
      "          1.50055862e-12,   1.40390219e-12,   1.47380700e-12,\n",
      "          1.60541658e-12,   1.44437517e-12,   1.61294212e-12,\n",
      "          1.55179497e-12,   1.50176965e-12,   1.34384915e-12,\n",
      "          4.25207981e+02,   4.68416742e+02,   4.55834920e+02,\n",
      "          7.46709988e-01,   1.74222522e-12,   2.36606280e+00,\n",
      "          1.03584406e+02,   1.10685228e+02,   1.02523526e+02],\n",
      "       [  1.44159752e-12,   1.76696465e-12,   1.49308428e-12,\n",
      "          1.63895727e-12,   1.70407649e-12,   1.54030036e-12,\n",
      "          3.22073983e+00,   2.94789487e+00,   2.77296226e+00,\n",
      "          1.53009545e-12,   1.68985671e-12,   1.64680365e-12,\n",
      "          5.15936159e-01,   1.41106220e-12,   1.59170824e-12,\n",
      "          6.36827717e-01,   1.79242880e-12,   1.58675682e-12,\n",
      "          1.28124897e-12,   1.20417907e-12,   1.36039814e-12,\n",
      "          1.28408952e-12,   1.71453370e-12,   1.81233304e-12,\n",
      "          1.32289254e-12,   1.23538010e-12,   1.30970336e-12,\n",
      "          1.44441248e-12,   1.25076378e-12,   1.45297499e-12,\n",
      "          1.38095855e-12,   1.34961446e-12,   1.20184066e-12,\n",
      "          5.82032451e+01,   6.64021384e+01,   6.30494790e+01,\n",
      "          7.79791907e-01,   1.60547695e-12,   2.54752371e+00,\n",
      "          9.41526674e+01,   9.95909841e+01,   9.30026277e+01]]), (7, 42))\n"
     ]
    },
    {
     "data": {
      "image/png": "[encoded data removed]",
      "text/plain": [
       "<matplotlib.figure.Figure at 0x19a9c18f4a8>"
      ]
     },
     "metadata": {},
     "output_type": "display_data"
    }
   ],
   "source": [
    "createBarChart(file, sheet, samples, numVials, chains, title, ylabel)"
   ]
  },
  {
   "cell_type": "code",
   "execution_count": null,
   "metadata": {
    "collapsed": true
   },
   "outputs": [],
   "source": []
  }
 ],
 "metadata": {
  "kernelspec": {
   "display_name": "COBRA",
   "language": "python",
   "name": "cobra"
  },
  "language_info": {
   "codemirror_mode": {
    "name": "ipython",
    "version": 3
   },
   "file_extension": ".py",
   "mimetype": "text/x-python",
   "name": "python",
   "nbconvert_exporter": "python",
   "pygments_lexer": "ipython3",
   "version": "3.6.1"
  }
 },
 "nbformat": 4,
 "nbformat_minor": 2
}
