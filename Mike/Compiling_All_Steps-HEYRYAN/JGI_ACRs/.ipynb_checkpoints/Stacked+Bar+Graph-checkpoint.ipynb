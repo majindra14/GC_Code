{
 "cells": [
  {
   "cell_type": "code",
   "execution_count": 1,
   "metadata": {},
   "outputs": [],
   "source": [
    "import pandas as pd\n",
    "import numpy as np\n",
    "from numpy import array\n",
    "import matplotlib.pyplot as plt\n",
    "import math\n",
    "import openpyxl\n",
    "from statistics import * "
   ]
  },
  {
   "cell_type": "code",
   "execution_count": 8,
   "metadata": {},
   "outputs": [
    {
     "ename": "TypeError",
     "evalue": "read_excel() got an unexpected keyword argument `sheetname`",
     "output_type": "error",
     "traceback": [
      "\u001b[1;31m---------------------------------------------------------------------------\u001b[0m",
      "\u001b[1;31mTypeError\u001b[0m                                 Traceback (most recent call last)",
      "\u001b[1;32m<ipython-input-8-08b41ed82d16>\u001b[0m in \u001b[0;36m<module>\u001b[1;34m\u001b[0m\n\u001b[0;32m      8\u001b[0m \u001b[0mylabel\u001b[0m \u001b[1;33m=\u001b[0m \u001b[1;34m'mg/L FAME'\u001b[0m \u001b[1;31m#y axis label\u001b[0m\u001b[1;33m\u001b[0m\u001b[1;33m\u001b[0m\u001b[0m\n\u001b[0;32m      9\u001b[0m \u001b[1;33m\u001b[0m\u001b[0m\n\u001b[1;32m---> 10\u001b[1;33m \u001b[0mcreateBarChart\u001b[0m\u001b[1;33m(\u001b[0m\u001b[0mfile\u001b[0m\u001b[1;33m,\u001b[0m \u001b[0msheet\u001b[0m\u001b[1;33m,\u001b[0m \u001b[0msamples\u001b[0m\u001b[1;33m,\u001b[0m \u001b[0mnumVials\u001b[0m\u001b[1;33m,\u001b[0m \u001b[0mchains\u001b[0m\u001b[1;33m,\u001b[0m \u001b[0mtitle\u001b[0m\u001b[1;33m,\u001b[0m \u001b[0mylabel\u001b[0m\u001b[1;33m)\u001b[0m\u001b[1;33m\u001b[0m\u001b[1;33m\u001b[0m\u001b[0m\n\u001b[0m",
      "\u001b[1;32m<ipython-input-6-985727e722b7>\u001b[0m in \u001b[0;36mcreateBarChart\u001b[1;34m(file, sheet, samples, numVials, chains, title, ylabel)\u001b[0m\n\u001b[0;32m      2\u001b[0m \u001b[1;32mdef\u001b[0m \u001b[0mcreateBarChart\u001b[0m \u001b[1;33m(\u001b[0m\u001b[0mfile\u001b[0m\u001b[1;33m,\u001b[0m \u001b[0msheet\u001b[0m\u001b[1;33m,\u001b[0m \u001b[0msamples\u001b[0m\u001b[1;33m,\u001b[0m \u001b[0mnumVials\u001b[0m\u001b[1;33m,\u001b[0m \u001b[0mchains\u001b[0m\u001b[1;33m,\u001b[0m \u001b[0mtitle\u001b[0m\u001b[1;33m,\u001b[0m \u001b[0mylabel\u001b[0m\u001b[1;33m)\u001b[0m\u001b[1;33m:\u001b[0m\u001b[1;33m\u001b[0m\u001b[1;33m\u001b[0m\u001b[0m\n\u001b[0;32m      3\u001b[0m     \u001b[1;31m#get concentration data from excel sheet\u001b[0m\u001b[1;33m\u001b[0m\u001b[1;33m\u001b[0m\u001b[1;33m\u001b[0m\u001b[0m\n\u001b[1;32m----> 4\u001b[1;33m     \u001b[0mconcData\u001b[0m \u001b[1;33m=\u001b[0m \u001b[0mgetCorrectedConcentration\u001b[0m\u001b[1;33m(\u001b[0m\u001b[0mfile\u001b[0m\u001b[1;33m,\u001b[0m\u001b[0msheet\u001b[0m\u001b[1;33m)\u001b[0m\u001b[1;33m\u001b[0m\u001b[1;33m\u001b[0m\u001b[0m\n\u001b[0m\u001b[0;32m      5\u001b[0m     \u001b[1;31m#Data inconsistency? Check w/ Mike and delete later\u001b[0m\u001b[1;33m\u001b[0m\u001b[1;33m\u001b[0m\u001b[1;33m\u001b[0m\u001b[0m\n\u001b[0;32m      6\u001b[0m     \u001b[0mconcData\u001b[0m\u001b[1;33m[\u001b[0m\u001b[0mconcData\u001b[0m\u001b[1;33m.\u001b[0m\u001b[0mindex\u001b[0m\u001b[1;33m(\u001b[0m\u001b[1;36m339.52465146162808\u001b[0m\u001b[1;33m)\u001b[0m\u001b[1;33m]\u001b[0m\u001b[1;33m=\u001b[0m\u001b[1;36m0\u001b[0m\u001b[1;33m\u001b[0m\u001b[1;33m\u001b[0m\u001b[0m\n",
      "\u001b[1;32m<ipython-input-7-4ff482963553>\u001b[0m in \u001b[0;36mgetCorrectedConcentration\u001b[1;34m(file, sheet)\u001b[0m\n\u001b[0;32m      2\u001b[0m \u001b[1;32mdef\u001b[0m \u001b[0mgetCorrectedConcentration\u001b[0m \u001b[1;33m(\u001b[0m\u001b[0mfile\u001b[0m\u001b[1;33m,\u001b[0m \u001b[0msheet\u001b[0m\u001b[1;33m)\u001b[0m\u001b[1;33m:\u001b[0m\u001b[1;33m\u001b[0m\u001b[1;33m\u001b[0m\u001b[0m\n\u001b[0;32m      3\u001b[0m     \u001b[0mwb\u001b[0m \u001b[1;33m=\u001b[0m \u001b[0mopenpyxl\u001b[0m\u001b[1;33m.\u001b[0m\u001b[0mload_workbook\u001b[0m\u001b[1;33m(\u001b[0m\u001b[0mfile\u001b[0m\u001b[1;33m)\u001b[0m\u001b[1;33m\u001b[0m\u001b[1;33m\u001b[0m\u001b[0m\n\u001b[1;32m----> 4\u001b[1;33m     \u001b[0mdf\u001b[0m \u001b[1;33m=\u001b[0m \u001b[0mpd\u001b[0m\u001b[1;33m.\u001b[0m\u001b[0mread_excel\u001b[0m\u001b[1;33m(\u001b[0m\u001b[0mfile\u001b[0m\u001b[1;33m,\u001b[0m \u001b[0msheetname\u001b[0m\u001b[1;33m=\u001b[0m\u001b[0msheet\u001b[0m\u001b[1;33m)\u001b[0m\u001b[1;33m\u001b[0m\u001b[1;33m\u001b[0m\u001b[0m\n\u001b[0m\u001b[0;32m      5\u001b[0m     \u001b[0mcorrectedConc\u001b[0m \u001b[1;33m=\u001b[0m \u001b[1;33m[\u001b[0m\u001b[1;33m]\u001b[0m\u001b[1;33m\u001b[0m\u001b[1;33m\u001b[0m\u001b[0m\n\u001b[0;32m      6\u001b[0m     \u001b[1;32mfor\u001b[0m \u001b[0mi\u001b[0m \u001b[1;32min\u001b[0m \u001b[0mdf\u001b[0m\u001b[1;33m.\u001b[0m\u001b[0mindex\u001b[0m\u001b[1;33m:\u001b[0m\u001b[1;33m\u001b[0m\u001b[1;33m\u001b[0m\u001b[0m\n",
      "\u001b[1;32m~\\Anaconda3\\envs\\cameo3.4\\lib\\site-packages\\pandas\\util\\_decorators.py\u001b[0m in \u001b[0;36mwrapper\u001b[1;34m(*args, **kwargs)\u001b[0m\n\u001b[0;32m    206\u001b[0m                 \u001b[1;32melse\u001b[0m\u001b[1;33m:\u001b[0m\u001b[1;33m\u001b[0m\u001b[1;33m\u001b[0m\u001b[0m\n\u001b[0;32m    207\u001b[0m                     \u001b[0mkwargs\u001b[0m\u001b[1;33m[\u001b[0m\u001b[0mnew_arg_name\u001b[0m\u001b[1;33m]\u001b[0m \u001b[1;33m=\u001b[0m \u001b[0mnew_arg_value\u001b[0m\u001b[1;33m\u001b[0m\u001b[1;33m\u001b[0m\u001b[0m\n\u001b[1;32m--> 208\u001b[1;33m             \u001b[1;32mreturn\u001b[0m \u001b[0mfunc\u001b[0m\u001b[1;33m(\u001b[0m\u001b[1;33m*\u001b[0m\u001b[0margs\u001b[0m\u001b[1;33m,\u001b[0m \u001b[1;33m**\u001b[0m\u001b[0mkwargs\u001b[0m\u001b[1;33m)\u001b[0m\u001b[1;33m\u001b[0m\u001b[1;33m\u001b[0m\u001b[0m\n\u001b[0m\u001b[0;32m    209\u001b[0m \u001b[1;33m\u001b[0m\u001b[0m\n\u001b[0;32m    210\u001b[0m         \u001b[1;32mreturn\u001b[0m \u001b[0mwrapper\u001b[0m\u001b[1;33m\u001b[0m\u001b[1;33m\u001b[0m\u001b[0m\n",
      "\u001b[1;32m~\\Anaconda3\\envs\\cameo3.4\\lib\\site-packages\\pandas\\io\\excel\\_base.py\u001b[0m in \u001b[0;36mread_excel\u001b[1;34m(io, sheet_name, header, names, index_col, usecols, squeeze, dtype, engine, converters, true_values, false_values, skiprows, nrows, na_values, keep_default_na, verbose, parse_dates, date_parser, thousands, comment, skip_footer, skipfooter, convert_float, mangle_dupe_cols, **kwds)\u001b[0m\n\u001b[0;32m    304\u001b[0m         \u001b[1;32mif\u001b[0m \u001b[0marg\u001b[0m \u001b[1;32min\u001b[0m \u001b[0mkwds\u001b[0m\u001b[1;33m:\u001b[0m\u001b[1;33m\u001b[0m\u001b[1;33m\u001b[0m\u001b[0m\n\u001b[0;32m    305\u001b[0m             raise TypeError(\n\u001b[1;32m--> 306\u001b[1;33m                 \u001b[1;34m\"read_excel() got an unexpected keyword argument \"\u001b[0m \u001b[1;34m\"`{}`\"\u001b[0m\u001b[1;33m.\u001b[0m\u001b[0mformat\u001b[0m\u001b[1;33m(\u001b[0m\u001b[0marg\u001b[0m\u001b[1;33m)\u001b[0m\u001b[1;33m\u001b[0m\u001b[1;33m\u001b[0m\u001b[0m\n\u001b[0m\u001b[0;32m    307\u001b[0m             )\n\u001b[0;32m    308\u001b[0m \u001b[1;33m\u001b[0m\u001b[0m\n",
      "\u001b[1;31mTypeError\u001b[0m: read_excel() got an unexpected keyword argument `sheetname`"
     ]
    }
   ],
   "source": [
    "#User enters data here\n",
    "file = 'GCData-JGI_ACRs w Conc Data.xlsx' #file name\n",
    "sheet = 'Quantification w IS,ES' #sheet with corrected concentration data\n",
    "samples = ['H204A','Rec','Sc1','WT'] #name of samples\n",
    "numVials = [3, 3, 3, 3] #number of vials per sample in order of appearance\n",
    "chains = ['C8','C10','C12','C14','C16'] #chain lenghts\n",
    "title = 'BTE Variant' #graph title\n",
    "ylabel = 'mg/L FAME' #y axis label\n",
    "\n",
    "createBarChart(file, sheet, samples, numVials, chains, title, ylabel)"
   ]
  },
  {
   "cell_type": "code",
   "execution_count": 3,
   "metadata": {},
   "outputs": [],
   "source": [
    "#this function arranges data into an appropriate matrix. correctedConc should be clean with no empty spaces\n",
    "def dataArrange(correctedConc, numTotSamples):\n",
    "    numChains = int(len(correctedConc)/numTotSamples)\n",
    "    correctedConc = np.array(correctedConc)\n",
    "    rearranged = np.zeros((numTotSamples, numChains))\n",
    "    iterator = 0;\n",
    "    for sample in range(0,numTotSamples):\n",
    "        for chain in range(0, numChains):\n",
    "            rearranged[sample, chain] = correctedConc[iterator]\n",
    "            iterator = iterator + 1 \n",
    "    return rearranged.T"
   ]
  },
  {
   "cell_type": "code",
   "execution_count": 4,
   "metadata": {},
   "outputs": [],
   "source": [
    "#Calculates average and standard deviation of data\n",
    "def calcStats(data):\n",
    "    stats = [mean(data), stdev(data)]\n",
    "    return stats"
   ]
  },
  {
   "cell_type": "code",
   "execution_count": 5,
   "metadata": {},
   "outputs": [],
   "source": [
    "#Returns average and standard deviation data in the form of matricies\n",
    "def dataParse(rearranged, samples, numVials):\n",
    "    #rearranged - the rearranged corrected concentration data table with each row corresponding to a chain length\n",
    "        #and each column corresponding to a sample vial i.e.\n",
    "        #\n",
    "        #         H204A-1  H204A-2  H204A-3    WT-1    WT-2    WT-3\n",
    "        #   C8 [[    #        #        #        #        #        #    ],\n",
    "        #  C10  [    #        #        #        #        #        #    ],\n",
    "        #  C12  [    #        #        #        #        #        #    ],\n",
    "        #  C14  [    #        #        #        #        #        #    ],\n",
    "        #  C16  [    #        #        #        #        #        #    ]]\n",
    "        #\n",
    "    #samples - list of each type of sample i.e. [H204A, WT]\n",
    "    #numVials - number of vials per sample in order of appearance i.e. [3, 3]\n",
    "    \n",
    "    #create list of indicies to split data array\n",
    "    splitAt = [0,numVials[0]]\n",
    "    for i in range(1,len(numVials)):\n",
    "        splitAt.append(numVials[i]+splitAt[i])\n",
    "    \n",
    "    numChains = int(len(rearranged)) #number of chain lengths testing for\n",
    "    avgMat = np.zeros((numChains, len(samples))) #matrix to store average data\n",
    "    stdevMat = np.zeros((numChains, len(samples))) #matrix to store stdev data\n",
    "\n",
    "    #populate average and stdev data matricies\n",
    "    j = 0\n",
    "    for row in range(0,len(rearranged)):\n",
    "        for col in range (0, len(samples)):\n",
    "            avgMat[row][col] = mean(rearranged[row][splitAt[j]:splitAt[j+1]])\n",
    "            stdevMat[row][col] = stdev(rearranged[row][splitAt[j]:splitAt[j+1]])\n",
    "            j = j + 1\n",
    "        j = 0\n",
    "        \n",
    "    return avgMat,stdevMat"
   ]
  },
  {
   "cell_type": "code",
   "execution_count": 6,
   "metadata": {},
   "outputs": [],
   "source": [
    "#Creates stacked bar chart of chain length distributions\n",
    "def createBarChart (file, sheet, samples, numVials, chains, title, ylabel):\n",
    "    #get concentration data from excel sheet\n",
    "    concData = getCorrectedConcentration(file,sheet)\n",
    "    #Data inconsistency? Check w/ Mike and delete later\n",
    "    concData[concData.index(339.52465146162808)]=0\n",
    "    #arrange data into more managable rows and columns\n",
    "    rearranged = dataArrange(concData, sum(numVials))\n",
    "    \n",
    "    #get mean and standard deviation data\n",
    "    avgMat, stdevMat = dataParse(rearranged, samples, numVials)\n",
    "    df_avg = pd.DataFrame(avgMat, columns=samples)\n",
    "    df_std = pd.DataFrame(stdevMat, columns=samples)\n",
    "\n",
    "    #plot data\n",
    "    %matplotlib inline\n",
    "    N = len(samples)\n",
    "    ind = np.arange(N)\n",
    "    width = 0.35\n",
    "    firstMean = df_avg.loc[0,:]\n",
    "    firstStd = df_std.loc[0,:]\n",
    "    fistplot = plt.bar(ind, firstMean, width, yerr=firstStd, label=chains[0])\n",
    "    sumMeans = [0]*len(samples)\n",
    "    for chain in range(1,len(chains)):\n",
    "        chainMean = df_avg.loc[chain,:]\n",
    "        prevChainMean = df_avg.loc[chain-1,:]\n",
    "        for i in range(len(sumMeans)):\n",
    "            sumMeans[i] = sumMeans[i] + prevChainMean[i]\n",
    "        chainStd = df_std.loc[chain,:]\n",
    "        plt.bar(ind, chainMean, width, bottom=sumMeans, yerr=chainStd, label=chains[chain])\n",
    "    plt.xticks(ind,samples)\n",
    "    plt.legend()\n",
    "    plt.suptitle(title)\n",
    "    plt.ylabel(ylabel)\n",
    "    plt.show"
   ]
  },
  {
   "cell_type": "code",
   "execution_count": 7,
   "metadata": {},
   "outputs": [],
   "source": [
    "#returns clean list of corrected concentrations from an excel file\n",
    "def getCorrectedConcentration (file, sheet):\n",
    "    wb = openpyxl.load_workbook(file)\n",
    "    df = pd.read_excel(file, sheetname=sheet)\n",
    "    correctedConc = []\n",
    "    for i in df.index:\n",
    "        conc = df['Corrected Concentration'][i]\n",
    "        if isinstance(conc, float) and not math.isnan(conc):\n",
    "            correctedConc.append(conc)\n",
    "    return correctedConc"
   ]
  },
  {
   "cell_type": "code",
   "execution_count": null,
   "metadata": {},
   "outputs": [],
   "source": []
  }
 ],
 "metadata": {
  "kernelspec": {
   "display_name": "Python [conda env:cameo3.4]",
   "language": "python",
   "name": "conda-env-cameo3.4-py"
  },
  "language_info": {
   "codemirror_mode": {
    "name": "ipython",
    "version": 3
   },
   "file_extension": ".py",
   "mimetype": "text/x-python",
   "name": "python",
   "nbconvert_exporter": "python",
   "pygments_lexer": "ipython3",
   "version": "3.6.9"
  }
 },
 "nbformat": 4,
 "nbformat_minor": 2
}
