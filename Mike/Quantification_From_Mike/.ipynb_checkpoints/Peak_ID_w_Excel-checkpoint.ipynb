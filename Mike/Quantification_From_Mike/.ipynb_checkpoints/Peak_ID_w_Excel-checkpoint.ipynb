{
 "cells": [
  {
   "cell_type": "code",
   "execution_count": 1,
   "metadata": {},
   "outputs": [],
   "source": [
    "import pandas as pd\n",
    "import numpy as np\n",
    "#from pandas import ExcelWriter\n",
    "#from pandas import ExcelFile\n",
    "#from scipy import stats\n",
    "import matplotlib.pyplot as plt\n",
    "import math\n",
    "import xlwt\n",
    "import openpyxl"
   ]
  },
  {
   "cell_type": "code",
   "execution_count": 2,
   "metadata": {},
   "outputs": [],
   "source": [
    "wb = openpyxl.load_workbook('GCData.xlsx')\n",
    "sheet1 = wb['John_Code']\n",
    "sheet2 = wb['Peak_ID']"
   ]
  },
  {
   "cell_type": "code",
   "execution_count": 3,
   "metadata": {},
   "outputs": [],
   "source": [
    "df = pd.read_excel('GCData.xlsx', sheet_name = 'John_Code')\n",
    "\n",
    "\n",
    "#Preparing list of strings called Vial_names where each element is the name of a sample\n",
    "\n",
    "Vial_names = []\n",
    "Standard_names = ['1g_oddfames', '500mg_oddfames', '100mg_oddfames', '25mg_oddfames', 'FAME1000', 'FAME500', 'FAME100', 'FAME25']\n",
    "Sample_names = ['Sc1','H204A', 'WT', 'Rec']\n",
    "\n",
    "for x in Sample_names:\n",
    "    vial1 = x + '-1'\n",
    "    Vial_names.append(vial1)\n",
    "    vial2 = x + '-2'\n",
    "    Vial_names.append(vial2)\n",
    "    vial3 = x + '-3'\n",
    "    Vial_names.append(vial3)\n",
    "    \n",
    "for x in Standard_names:\n",
    "    Vial_names.append(x)\n",
    "\n",
    "    "
   ]
  },
  {
   "cell_type": "code",
   "execution_count": 5,
   "metadata": {},
   "outputs": [
    {
     "data": {
      "text/plain": [
       "2059"
      ]
     },
     "execution_count": 5,
     "metadata": {},
     "output_type": "execute_result"
    }
   ],
   "source": [
    "df"
   ]
  },
  {
   "cell_type": "code",
   "execution_count": 38,
   "metadata": {},
   "outputs": [],
   "source": [
    "# FAME Retention Times (minutes on DB-Fatwax column)\n",
    "\n",
    "C7 = 2.35\n",
    "C8 = 3.06\n",
    "C9 = 3.92\n",
    "C10 = 5.29\n",
    "C11 = 6.79\n",
    "C12 = 9.22\n",
    "C13 = 10.86\n",
    "C14 = 12.05\n",
    "C15 = 12.86\n",
    "C16 = 13.62\n",
    "C17 = 14.18\n",
    "\n",
    "# Create a dictionary which can be updated by changing values above. The dictionary will be called in peak identification (next block)\n",
    "\n",
    "RT_dict = {'C7': C7, 'C8': C8, 'C9': C9, 'C10': C10, 'C11': C11, 'C12': C12, 'C13': C13, 'C14': C14, 'C15': C15, 'C16': C16, 'C17': C17}\n",
    "\n",
    "# Create list of analytes to make it easy to call dictionary in future\n",
    "analytes = ['C7', 'C8', 'C9', 'C10', 'C11', 'C12', 'C13', 'C14', 'C15', 'C16', 'C17']"
   ]
  },
  {
   "cell_type": "code",
   "execution_count": 39,
   "metadata": {},
   "outputs": [
    {
     "name": "stdout",
     "output_type": "stream",
     "text": [
      "1g_oddfames\n",
      "100mg_oddfames\n",
      "25mg_oddfames\n",
      "500mg_oddfames\n",
      "FAME100\n",
      "FAME1000\n",
      "FAME25\n",
      "FAME500\n",
      "H204A-1\n",
      "H204A-2\n",
      "H204A-3\n",
      "Rec-1\n",
      "Rec-2\n",
      "Rec-3\n",
      "Sc1-1\n",
      "Sc1-2\n",
      "Sc1-3\n",
      "WT-1\n",
      "WT-2\n",
      "WT-3\n"
     ]
    }
   ],
   "source": [
    "# This block goes through the dataframe from the John_Code sheet and picks out sample names and relevant peaks.\n",
    "\n",
    "num_rows = len(df)\n",
    "row_name = list(range(0,num_rows)\n",
    "\n",
    "for i in row_name:\n",
    "    if i < num_rows+1: \n",
    "        # picks out each row in dataframe and truncates - would be more elegant to not have to use dataframe but whatever\n",
    "        row_calling = df.loc[i,:]\n",
    "        vals = row_calling.values.tolist()\n",
    "        vals = vals[0:6]\n",
    "        \n",
    "        # picks out sample names and adds to worksheet\n",
    "        for label in Vial_names:\n",
    "            if vals[0] == label:\n",
    "                print(vals[0])\n",
    "                sheet2.append(vals)\n",
    "                \n",
    "        # picks out peaks\n",
    "        x = type(vals[1])\n",
    "        if x == float:\n",
    "            for a in analytes:\n",
    "                upper_tolerance = RT_dict[a] + 0.09\n",
    "                lower_tolerance = RT_dict[a] - 0.09\n",
    "                if vals[1] < upper_tolerance and vals[1] > lower_tolerance:\n",
    "                    #print(vals[1])\n",
    "                    vals.append(a)\n",
    "                    #print(vals)\n",
    "                    sheet2.append(vals[1:])\n",
    "                    "
   ]
  },
  {
   "cell_type": "code",
   "execution_count": 40,
   "metadata": {},
   "outputs": [],
   "source": [
    "wb.save('GCData.xlsx')"
   ]
  },
  {
   "cell_type": "code",
   "execution_count": null,
   "metadata": {},
   "outputs": [],
   "source": []
  }
 ],
 "metadata": {
  "kernelspec": {
   "display_name": "Python [conda env:cameo3.4]",
   "language": "python",
   "name": "conda-env-cameo3.4-py"
  },
  "language_info": {
   "codemirror_mode": {
    "name": "ipython",
    "version": 3
   },
   "file_extension": ".py",
   "mimetype": "text/x-python",
   "name": "python",
   "nbconvert_exporter": "python",
   "pygments_lexer": "ipython3",
   "version": "3.6.9"
  }
 },
 "nbformat": 4,
 "nbformat_minor": 2
}
