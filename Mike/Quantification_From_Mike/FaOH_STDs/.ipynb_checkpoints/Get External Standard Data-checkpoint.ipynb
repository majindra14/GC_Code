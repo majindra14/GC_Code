{
 "cells": [
  {
   "cell_type": "code",
   "execution_count": 1,
   "metadata": {},
   "outputs": [],
   "source": [
    "import pandas as pd\n",
    "import numpy as np\n",
    "from numpy import array\n",
    "import matplotlib.pyplot as plt\n",
    "import math\n",
    "import openpyxl\n",
    "from statistics import * "
   ]
  },
  {
   "cell_type": "code",
   "execution_count": 4,
   "metadata": {
    "collapsed": true
   },
   "outputs": [],
   "source": [
    "#This code will parse through the Peak_ID worksheet and generate another worksheet in the same file called \"External_STD\"\n",
    "#with concentration and peak area data for C7, C8, ..., C17 arranged like so:\n",
    "#\n",
    "# Chain Length | Conc (mg/L) | Peak Area | Conc (mg/L) | Peak Area | Conc (mg/L) | Peak Area | Conc (mg/L) | Peak Area\n",
    "# _____________________________________________________________________________________________________________________\n",
    "#      C7      |    1000     |     #     |     500     |     #     |     100     |     #     |     25      |     #\n",
    "#      C8      |    1000     |     #     |     500     |     #     |     100     |     #     |     25      |     #\n",
    "#      ...     |    1000     |     #     |     500     |     #     |     100     |     #     |     25      |     #\n",
    "#      C17     |    1000     |     #     |     500     |     #     |     100     |     #     |     25      |     #\n",
    "#\n",
    "#Peak_ID worksheet lay out...\n",
    "#\n",
    "\n",
    "\n",
    "#Add user input for conc"
   ]
  },
  {
   "cell_type": "code",
   "execution_count": 3,
   "metadata": {},
   "outputs": [],
   "source": [
    "def getExternalStdData(file, sheet_name, area_col, chain_col, alc_acid_ID, saveAs):\n",
    "    col = [area_col, chain_col]\n",
    "    wb = openpyxl.load_workbook(file)\n",
    "    sheet = wb[sheet_name]\n",
    "    #create dataframe from relevant columns only\n",
    "    df = pd.read_excel(file, sheet_name=sheet_name, usecols = col, header = None)\n",
    "    #convert dataframe to array to allow array traversals\n",
    "    dfList = df.values.tolist()\n",
    "    #Master_dict will hold area and concentration data \n",
    "    Master_dict = {'C7':[], 'C8':[], 'C9':[], 'C10':[], 'C11':[], 'C12':[],\n",
    "                 'C13':[], 'C14':[], 'C15':[], 'C16':[], 'C17':[]}\n",
    "\n",
    "    # creates list of external standard title indicies (location of titles)\n",
    "    alc_acid_indicies = []\n",
    "    for i in range(len(dfList)):\n",
    "        name = dfList[i][1]\n",
    "        if name[0:name.find('-')] == alc_acid_ID:\n",
    "            alc_acid_indicies.append(i)\n",
    "    \n",
    "    conc_array = []\n",
    "    # start adding to master matrix here using indicies of titles\n",
    "    for i in alc_acid_indicies:\n",
    "        #find the position right before the start of a new set of data as indicated by a string\n",
    "        endindex = i\n",
    "        for k in range(len(dfList[i:len(dfList)])):\n",
    "            endindex+=1\n",
    "            if(isinstance(dfList[endindex][0],str)):\n",
    "                break\n",
    "        #parse title to find concentration (gets the number after '-' in the title) and add to conc_array and sort\n",
    "        conc = dfList[i][1][dfList[i][1].find('-')+1:len(dfList[i][1])]\n",
    "        conc_array.append(int(conc))\n",
    "        conc_array.sort()\n",
    "        #for each chain, add the concentration and area data to the Master dictionary\n",
    "        for j in range(endindex-i):\n",
    "            if(isinstance(dfList[i+j][0], int)):\n",
    "                conc_and_area = [conc, dfList[i+j][0]]\n",
    "                Master_dict[dfList[i+j][1]].append(conc_and_area)\n",
    "    \n",
    "    #create master matrix holding arrays of area values\n",
    "    num_conc, num_chain = len(conc_array), len(Master_dict);\n",
    "    Master = [[0 for x in range(num_conc*2+1)] for y in range(num_chain+1)]\n",
    "    \n",
    "    #populate column titles\n",
    "    Master[0][0] = 'Chain Length'\n",
    "    for i in range(1, num_conc*2+1):\n",
    "        if i%2==0:\n",
    "            Master[0][i] = 'Peak Area'\n",
    "        else:\n",
    "            Master[0][i] = 'Conc (mg/L)'\n",
    "    \n",
    "    #create matrix with desired layout as seen in Cell 2\n",
    "    chain_iterator = 1\n",
    "    for chain in Master_dict:\n",
    "        conc_iterator = 1\n",
    "        #label first column with chain\n",
    "        Master[chain_iterator][0] = chain\n",
    "        for conc in conc_array:\n",
    "            area = []\n",
    "            #search for correct area data\n",
    "            for pair in Master_dict[chain]:\n",
    "                if int(pair[0]) == conc:\n",
    "                    area.append(pair[1])\n",
    "                    break\n",
    "            #this accounts for double-counting areas (only picks the largest one)\n",
    "            area.sort(reverse = True)\n",
    "            #this accounts for no area data\n",
    "            if len(area) == 0:\n",
    "                area = ['-']\n",
    "            #add to the master matrix\n",
    "            Master[chain_iterator][conc_iterator] = conc\n",
    "            conc_iterator+=1\n",
    "            Master[chain_iterator][conc_iterator] = area[0]\n",
    "            conc_iterator+=1\n",
    "        chain_iterator+=1\n",
    "    excelData = pd.DataFrame(data=Master, index=None)\n",
    "    print(excelData)\n",
    "    #write to the excel file\n",
    "    writer = pd.ExcelWriter(file, engine = 'openpyxl')\n",
    "    writer.book = wb\n",
    "    excelData.to_excel(writer, sheet_name = \"EXT_STD\", index = False)\n",
    "    wb.save(filename = saveAs)\n",
    "    return excelData"
   ]
  },
  {
   "cell_type": "code",
   "execution_count": 4,
   "metadata": {},
   "outputs": [
    {
     "ename": "TypeError",
     "evalue": "read_excel() got an unexpected keyword argument `sheetname`",
     "output_type": "error",
     "traceback": [
      "\u001b[1;31m---------------------------------------------------------------------------\u001b[0m",
      "\u001b[1;31mTypeError\u001b[0m                                 Traceback (most recent call last)",
      "\u001b[1;32m<ipython-input-4-4698f9f820e9>\u001b[0m in \u001b[0;36m<module>\u001b[1;34m\u001b[0m\n\u001b[0;32m      5\u001b[0m \u001b[0malc_acid_ID\u001b[0m \u001b[1;33m=\u001b[0m \u001b[1;34m'FAOH'\u001b[0m\u001b[1;33m\u001b[0m\u001b[1;33m\u001b[0m\u001b[0m\n\u001b[0;32m      6\u001b[0m \u001b[0msaveAs\u001b[0m \u001b[1;33m=\u001b[0m \u001b[1;34m'GCData_for_Ryan_w_FaOH_STD_Data_test.xlsx'\u001b[0m\u001b[1;33m\u001b[0m\u001b[1;33m\u001b[0m\u001b[0m\n\u001b[1;32m----> 7\u001b[1;33m \u001b[0mdf2\u001b[0m \u001b[1;33m=\u001b[0m \u001b[0mgetExternalStdData\u001b[0m\u001b[1;33m(\u001b[0m\u001b[0mfile\u001b[0m\u001b[1;33m,\u001b[0m \u001b[0msheetname\u001b[0m\u001b[1;33m,\u001b[0m \u001b[0marea_col\u001b[0m\u001b[1;33m,\u001b[0m \u001b[0mchain_col\u001b[0m\u001b[1;33m,\u001b[0m \u001b[0malc_acid_ID\u001b[0m\u001b[1;33m,\u001b[0m \u001b[0msaveAs\u001b[0m\u001b[1;33m)\u001b[0m\u001b[1;33m\u001b[0m\u001b[1;33m\u001b[0m\u001b[0m\n\u001b[0m",
      "\u001b[1;32m<ipython-input-3-5dea8d28a72e>\u001b[0m in \u001b[0;36mgetExternalStdData\u001b[1;34m(file, sheetname, area_col, chain_col, alc_acid_ID, saveAs)\u001b[0m\n\u001b[0;32m      4\u001b[0m     \u001b[0msheet\u001b[0m \u001b[1;33m=\u001b[0m \u001b[0mwb\u001b[0m\u001b[1;33m[\u001b[0m\u001b[0msheetname\u001b[0m\u001b[1;33m]\u001b[0m\u001b[1;33m\u001b[0m\u001b[1;33m\u001b[0m\u001b[0m\n\u001b[0;32m      5\u001b[0m     \u001b[1;31m#create dataframe from relevant columns only\u001b[0m\u001b[1;33m\u001b[0m\u001b[1;33m\u001b[0m\u001b[1;33m\u001b[0m\u001b[0m\n\u001b[1;32m----> 6\u001b[1;33m     \u001b[0mdf\u001b[0m \u001b[1;33m=\u001b[0m \u001b[0mpd\u001b[0m\u001b[1;33m.\u001b[0m\u001b[0mread_excel\u001b[0m\u001b[1;33m(\u001b[0m\u001b[0mfile\u001b[0m\u001b[1;33m,\u001b[0m \u001b[0msheetname\u001b[0m\u001b[1;33m=\u001b[0m\u001b[0msheetname\u001b[0m\u001b[1;33m,\u001b[0m \u001b[0musecols\u001b[0m \u001b[1;33m=\u001b[0m \u001b[0mcol\u001b[0m\u001b[1;33m,\u001b[0m \u001b[0mheader\u001b[0m \u001b[1;33m=\u001b[0m \u001b[1;32mNone\u001b[0m\u001b[1;33m)\u001b[0m\u001b[1;33m\u001b[0m\u001b[1;33m\u001b[0m\u001b[0m\n\u001b[0m\u001b[0;32m      7\u001b[0m     \u001b[1;31m#convert dataframe to array to allow array traversals\u001b[0m\u001b[1;33m\u001b[0m\u001b[1;33m\u001b[0m\u001b[1;33m\u001b[0m\u001b[0m\n\u001b[0;32m      8\u001b[0m     \u001b[0mdfList\u001b[0m \u001b[1;33m=\u001b[0m \u001b[0mdf\u001b[0m\u001b[1;33m.\u001b[0m\u001b[0mvalues\u001b[0m\u001b[1;33m.\u001b[0m\u001b[0mtolist\u001b[0m\u001b[1;33m(\u001b[0m\u001b[1;33m)\u001b[0m\u001b[1;33m\u001b[0m\u001b[1;33m\u001b[0m\u001b[0m\n",
      "\u001b[1;32m~\\Anaconda3\\envs\\cameo3.4\\lib\\site-packages\\pandas\\util\\_decorators.py\u001b[0m in \u001b[0;36mwrapper\u001b[1;34m(*args, **kwargs)\u001b[0m\n\u001b[0;32m    206\u001b[0m                 \u001b[1;32melse\u001b[0m\u001b[1;33m:\u001b[0m\u001b[1;33m\u001b[0m\u001b[1;33m\u001b[0m\u001b[0m\n\u001b[0;32m    207\u001b[0m                     \u001b[0mkwargs\u001b[0m\u001b[1;33m[\u001b[0m\u001b[0mnew_arg_name\u001b[0m\u001b[1;33m]\u001b[0m \u001b[1;33m=\u001b[0m \u001b[0mnew_arg_value\u001b[0m\u001b[1;33m\u001b[0m\u001b[1;33m\u001b[0m\u001b[0m\n\u001b[1;32m--> 208\u001b[1;33m             \u001b[1;32mreturn\u001b[0m \u001b[0mfunc\u001b[0m\u001b[1;33m(\u001b[0m\u001b[1;33m*\u001b[0m\u001b[0margs\u001b[0m\u001b[1;33m,\u001b[0m \u001b[1;33m**\u001b[0m\u001b[0mkwargs\u001b[0m\u001b[1;33m)\u001b[0m\u001b[1;33m\u001b[0m\u001b[1;33m\u001b[0m\u001b[0m\n\u001b[0m\u001b[0;32m    209\u001b[0m \u001b[1;33m\u001b[0m\u001b[0m\n\u001b[0;32m    210\u001b[0m         \u001b[1;32mreturn\u001b[0m \u001b[0mwrapper\u001b[0m\u001b[1;33m\u001b[0m\u001b[1;33m\u001b[0m\u001b[0m\n",
      "\u001b[1;32m~\\Anaconda3\\envs\\cameo3.4\\lib\\site-packages\\pandas\\io\\excel\\_base.py\u001b[0m in \u001b[0;36mread_excel\u001b[1;34m(io, sheet_name, header, names, index_col, usecols, squeeze, dtype, engine, converters, true_values, false_values, skiprows, nrows, na_values, keep_default_na, verbose, parse_dates, date_parser, thousands, comment, skip_footer, skipfooter, convert_float, mangle_dupe_cols, **kwds)\u001b[0m\n\u001b[0;32m    304\u001b[0m         \u001b[1;32mif\u001b[0m \u001b[0marg\u001b[0m \u001b[1;32min\u001b[0m \u001b[0mkwds\u001b[0m\u001b[1;33m:\u001b[0m\u001b[1;33m\u001b[0m\u001b[1;33m\u001b[0m\u001b[0m\n\u001b[0;32m    305\u001b[0m             raise TypeError(\n\u001b[1;32m--> 306\u001b[1;33m                 \u001b[1;34m\"read_excel() got an unexpected keyword argument \"\u001b[0m \u001b[1;34m\"`{}`\"\u001b[0m\u001b[1;33m.\u001b[0m\u001b[0mformat\u001b[0m\u001b[1;33m(\u001b[0m\u001b[0marg\u001b[0m\u001b[1;33m)\u001b[0m\u001b[1;33m\u001b[0m\u001b[1;33m\u001b[0m\u001b[0m\n\u001b[0m\u001b[0;32m    307\u001b[0m             )\n\u001b[0;32m    308\u001b[0m \u001b[1;33m\u001b[0m\u001b[0m\n",
      "\u001b[1;31mTypeError\u001b[0m: read_excel() got an unexpected keyword argument `sheetname`"
     ]
    }
   ],
   "source": [
    "file = 'GCData_for_Ryan_w_FaOH_STD_Data.xlsx'\n",
    "sheet_name = 'Peak_ID (3)'\n",
    "area_col = 3\n",
    "chain_col = 5\n",
    "alc_acid_ID = 'FAOH'\n",
    "saveAs = 'GCData_for_Ryan_w_FaOH_STD_Data_test.xlsx'\n",
    "df2 = getExternalStdData(file, sheet_name, area_col, chain_col, alc_acid_ID, saveAs)"
   ]
  },
  {
   "cell_type": "code",
   "execution_count": null,
   "metadata": {
    "collapsed": true
   },
   "outputs": [],
   "source": []
  },
  {
   "cell_type": "code",
   "execution_count": null,
   "metadata": {
    "collapsed": true
   },
   "outputs": [],
   "source": []
  }
 ],
 "metadata": {
  "kernelspec": {
   "display_name": "Python [conda env:cameo3.4]",
   "language": "python",
   "name": "conda-env-cameo3.4-py"
  },
  "language_info": {
   "codemirror_mode": {
    "name": "ipython",
    "version": 3
   },
   "file_extension": ".py",
   "mimetype": "text/x-python",
   "name": "python",
   "nbconvert_exporter": "python",
   "pygments_lexer": "ipython3",
   "version": "3.6.9"
  }
 },
 "nbformat": 4,
 "nbformat_minor": 2
}
